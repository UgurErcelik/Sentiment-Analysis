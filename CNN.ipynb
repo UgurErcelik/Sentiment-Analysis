{
 "cells": [
  {
   "cell_type": "code",
   "execution_count": 1,
   "metadata": {},
   "outputs": [],
   "source": [
    "from textblob import TextBlob\n",
    "import pandas as pd\n",
    "from spacy.tokenizer import Tokenizer\n",
    "from spacy.lang.tr import Turkish\n",
    "from tqdm import tqdm\n",
    "from wordcloud import WordCloud\n",
    "import matplotlib.pyplot as plt\n",
    "from sklearn import preprocessing\n",
    "from sklearn.feature_extraction.text import TfidfVectorizer\n",
    "from sklearn.model_selection import train_test_split\n",
    "import numpy as np"
   ]
  },
  {
   "cell_type": "code",
   "execution_count": 2,
   "metadata": {},
   "outputs": [
    {
     "data": {
      "text/html": [
       "<div>\n",
       "<style scoped>\n",
       "    .dataframe tbody tr th:only-of-type {\n",
       "        vertical-align: middle;\n",
       "    }\n",
       "\n",
       "    .dataframe tbody tr th {\n",
       "        vertical-align: top;\n",
       "    }\n",
       "\n",
       "    .dataframe thead th {\n",
       "        text-align: right;\n",
       "    }\n",
       "</style>\n",
       "<table border=\"1\" class=\"dataframe\">\n",
       "  <thead>\n",
       "    <tr style=\"text-align: right;\">\n",
       "      <th></th>\n",
       "      <th>tweet</th>\n",
       "    </tr>\n",
       "  </thead>\n",
       "  <tbody>\n",
       "    <tr>\n",
       "      <th>0</th>\n",
       "      <td>leo messi cristiano special competition among ...</td>\n",
       "    </tr>\n",
       "    <tr>\n",
       "      <th>1</th>\n",
       "      <td>poles stop leo messi</td>\n",
       "    </tr>\n",
       "    <tr>\n",
       "      <th>2</th>\n",
       "      <td>la liga goal assist king champions league top ...</td>\n",
       "    </tr>\n",
       "    <tr>\n",
       "      <th>3</th>\n",
       "      <td>leo messi became first player score goal diffe...</td>\n",
       "    </tr>\n",
       "    <tr>\n",
       "      <th>4</th>\n",
       "      <td>come tomorrow start work fenerbahçe</td>\n",
       "    </tr>\n",
       "    <tr>\n",
       "      <th>...</th>\n",
       "      <td>...</td>\n",
       "    </tr>\n",
       "    <tr>\n",
       "      <th>20099</th>\n",
       "      <td>via drawing lionel messi art lionelmessi barce...</td>\n",
       "    </tr>\n",
       "    <tr>\n",
       "      <th>20100</th>\n",
       "      <td>lionel messi made funny comment allegations ma...</td>\n",
       "    </tr>\n",
       "    <tr>\n",
       "      <th>20101</th>\n",
       "      <td>lionelmessi dont worry messi father go jail gi...</td>\n",
       "    </tr>\n",
       "    <tr>\n",
       "      <th>20102</th>\n",
       "      <td>lionel messi without detonating bomb</td>\n",
       "    </tr>\n",
       "    <tr>\n",
       "      <th>20103</th>\n",
       "      <td>lionel messi lottery offer galatasaraya</td>\n",
       "    </tr>\n",
       "  </tbody>\n",
       "</table>\n",
       "<p>20104 rows × 1 columns</p>\n",
       "</div>"
      ],
      "text/plain": [
       "                                                   tweet\n",
       "0      leo messi cristiano special competition among ...\n",
       "1                                   poles stop leo messi\n",
       "2      la liga goal assist king champions league top ...\n",
       "3      leo messi became first player score goal diffe...\n",
       "4                    come tomorrow start work fenerbahçe\n",
       "...                                                  ...\n",
       "20099  via drawing lionel messi art lionelmessi barce...\n",
       "20100  lionel messi made funny comment allegations ma...\n",
       "20101  lionelmessi dont worry messi father go jail gi...\n",
       "20102               lionel messi without detonating bomb\n",
       "20103            lionel messi lottery offer galatasaraya\n",
       "\n",
       "[20104 rows x 1 columns]"
      ]
     },
     "execution_count": 2,
     "metadata": {},
     "output_type": "execute_result"
    }
   ],
   "source": [
    "data = pd.read_csv('lemessi10.csv')\n",
    "data"
   ]
  },
  {
   "cell_type": "code",
   "execution_count": 3,
   "metadata": {},
   "outputs": [
    {
     "data": {
      "text/html": [
       "<div>\n",
       "<style scoped>\n",
       "    .dataframe tbody tr th:only-of-type {\n",
       "        vertical-align: middle;\n",
       "    }\n",
       "\n",
       "    .dataframe tbody tr th {\n",
       "        vertical-align: top;\n",
       "    }\n",
       "\n",
       "    .dataframe thead th {\n",
       "        text-align: right;\n",
       "    }\n",
       "</style>\n",
       "<table border=\"1\" class=\"dataframe\">\n",
       "  <thead>\n",
       "    <tr style=\"text-align: right;\">\n",
       "      <th></th>\n",
       "      <th>tweet</th>\n",
       "      <th>Subjectivity</th>\n",
       "      <th>Polarity</th>\n",
       "    </tr>\n",
       "  </thead>\n",
       "  <tbody>\n",
       "    <tr>\n",
       "      <th>0</th>\n",
       "      <td>leo messi cristiano special competition among ...</td>\n",
       "      <td>0.586190</td>\n",
       "      <td>0.225119</td>\n",
       "    </tr>\n",
       "    <tr>\n",
       "      <th>1</th>\n",
       "      <td>poles stop leo messi</td>\n",
       "      <td>0.000000</td>\n",
       "      <td>0.000000</td>\n",
       "    </tr>\n",
       "    <tr>\n",
       "      <th>2</th>\n",
       "      <td>la liga goal assist king champions league top ...</td>\n",
       "      <td>0.766667</td>\n",
       "      <td>0.200000</td>\n",
       "    </tr>\n",
       "    <tr>\n",
       "      <th>3</th>\n",
       "      <td>leo messi became first player score goal diffe...</td>\n",
       "      <td>0.466667</td>\n",
       "      <td>0.125000</td>\n",
       "    </tr>\n",
       "    <tr>\n",
       "      <th>4</th>\n",
       "      <td>come tomorrow start work fenerbahçe</td>\n",
       "      <td>0.000000</td>\n",
       "      <td>0.000000</td>\n",
       "    </tr>\n",
       "    <tr>\n",
       "      <th>...</th>\n",
       "      <td>...</td>\n",
       "      <td>...</td>\n",
       "      <td>...</td>\n",
       "    </tr>\n",
       "    <tr>\n",
       "      <th>20099</th>\n",
       "      <td>via drawing lionel messi art lionelmessi barce...</td>\n",
       "      <td>0.000000</td>\n",
       "      <td>0.000000</td>\n",
       "    </tr>\n",
       "    <tr>\n",
       "      <th>20100</th>\n",
       "      <td>lionel messi made funny comment allegations ma...</td>\n",
       "      <td>1.000000</td>\n",
       "      <td>0.250000</td>\n",
       "    </tr>\n",
       "    <tr>\n",
       "      <th>20101</th>\n",
       "      <td>lionelmessi dont worry messi father go jail gi...</td>\n",
       "      <td>0.375000</td>\n",
       "      <td>-0.050000</td>\n",
       "    </tr>\n",
       "    <tr>\n",
       "      <th>20102</th>\n",
       "      <td>lionel messi without detonating bomb</td>\n",
       "      <td>0.000000</td>\n",
       "      <td>0.000000</td>\n",
       "    </tr>\n",
       "    <tr>\n",
       "      <th>20103</th>\n",
       "      <td>lionel messi lottery offer galatasaraya</td>\n",
       "      <td>0.000000</td>\n",
       "      <td>0.000000</td>\n",
       "    </tr>\n",
       "  </tbody>\n",
       "</table>\n",
       "<p>20104 rows × 3 columns</p>\n",
       "</div>"
      ],
      "text/plain": [
       "                                                   tweet  Subjectivity  \\\n",
       "0      leo messi cristiano special competition among ...      0.586190   \n",
       "1                                   poles stop leo messi      0.000000   \n",
       "2      la liga goal assist king champions league top ...      0.766667   \n",
       "3      leo messi became first player score goal diffe...      0.466667   \n",
       "4                    come tomorrow start work fenerbahçe      0.000000   \n",
       "...                                                  ...           ...   \n",
       "20099  via drawing lionel messi art lionelmessi barce...      0.000000   \n",
       "20100  lionel messi made funny comment allegations ma...      1.000000   \n",
       "20101  lionelmessi dont worry messi father go jail gi...      0.375000   \n",
       "20102               lionel messi without detonating bomb      0.000000   \n",
       "20103            lionel messi lottery offer galatasaraya      0.000000   \n",
       "\n",
       "       Polarity  \n",
       "0      0.225119  \n",
       "1      0.000000  \n",
       "2      0.200000  \n",
       "3      0.125000  \n",
       "4      0.000000  \n",
       "...         ...  \n",
       "20099  0.000000  \n",
       "20100  0.250000  \n",
       "20101 -0.050000  \n",
       "20102  0.000000  \n",
       "20103  0.000000  \n",
       "\n",
       "[20104 rows x 3 columns]"
      ]
     },
     "execution_count": 3,
     "metadata": {},
     "output_type": "execute_result"
    }
   ],
   "source": [
    "def getSubjectivity(text):\n",
    "    return TextBlob(text).sentiment.subjectivity\n",
    "\n",
    "def getPolarity(text):\n",
    "    return TextBlob(text).sentiment.polarity\n",
    "\n",
    "data['Subjectivity'] = data['tweet'].apply(getSubjectivity)\n",
    "data['Polarity'] = data['tweet'].apply(getPolarity)\n",
    "\n",
    "data"
   ]
  },
  {
   "cell_type": "code",
   "execution_count": 4,
   "metadata": {},
   "outputs": [
    {
     "data": {
      "text/html": [
       "<div>\n",
       "<style scoped>\n",
       "    .dataframe tbody tr th:only-of-type {\n",
       "        vertical-align: middle;\n",
       "    }\n",
       "\n",
       "    .dataframe tbody tr th {\n",
       "        vertical-align: top;\n",
       "    }\n",
       "\n",
       "    .dataframe thead th {\n",
       "        text-align: right;\n",
       "    }\n",
       "</style>\n",
       "<table border=\"1\" class=\"dataframe\">\n",
       "  <thead>\n",
       "    <tr style=\"text-align: right;\">\n",
       "      <th></th>\n",
       "      <th>tweet</th>\n",
       "      <th>Subjectivity</th>\n",
       "      <th>Polarity</th>\n",
       "      <th>Analysis</th>\n",
       "    </tr>\n",
       "  </thead>\n",
       "  <tbody>\n",
       "    <tr>\n",
       "      <th>0</th>\n",
       "      <td>leo messi cristiano special competition among ...</td>\n",
       "      <td>0.586190</td>\n",
       "      <td>0.225119</td>\n",
       "      <td>Positive</td>\n",
       "    </tr>\n",
       "    <tr>\n",
       "      <th>1</th>\n",
       "      <td>poles stop leo messi</td>\n",
       "      <td>0.000000</td>\n",
       "      <td>0.000000</td>\n",
       "      <td>Neutral</td>\n",
       "    </tr>\n",
       "    <tr>\n",
       "      <th>2</th>\n",
       "      <td>la liga goal assist king champions league top ...</td>\n",
       "      <td>0.766667</td>\n",
       "      <td>0.200000</td>\n",
       "      <td>Positive</td>\n",
       "    </tr>\n",
       "    <tr>\n",
       "      <th>3</th>\n",
       "      <td>leo messi became first player score goal diffe...</td>\n",
       "      <td>0.466667</td>\n",
       "      <td>0.125000</td>\n",
       "      <td>Positive</td>\n",
       "    </tr>\n",
       "    <tr>\n",
       "      <th>4</th>\n",
       "      <td>come tomorrow start work fenerbahçe</td>\n",
       "      <td>0.000000</td>\n",
       "      <td>0.000000</td>\n",
       "      <td>Neutral</td>\n",
       "    </tr>\n",
       "    <tr>\n",
       "      <th>...</th>\n",
       "      <td>...</td>\n",
       "      <td>...</td>\n",
       "      <td>...</td>\n",
       "      <td>...</td>\n",
       "    </tr>\n",
       "    <tr>\n",
       "      <th>20099</th>\n",
       "      <td>via drawing lionel messi art lionelmessi barce...</td>\n",
       "      <td>0.000000</td>\n",
       "      <td>0.000000</td>\n",
       "      <td>Neutral</td>\n",
       "    </tr>\n",
       "    <tr>\n",
       "      <th>20100</th>\n",
       "      <td>lionel messi made funny comment allegations ma...</td>\n",
       "      <td>1.000000</td>\n",
       "      <td>0.250000</td>\n",
       "      <td>Positive</td>\n",
       "    </tr>\n",
       "    <tr>\n",
       "      <th>20101</th>\n",
       "      <td>lionelmessi dont worry messi father go jail gi...</td>\n",
       "      <td>0.375000</td>\n",
       "      <td>-0.050000</td>\n",
       "      <td>Negative</td>\n",
       "    </tr>\n",
       "    <tr>\n",
       "      <th>20102</th>\n",
       "      <td>lionel messi without detonating bomb</td>\n",
       "      <td>0.000000</td>\n",
       "      <td>0.000000</td>\n",
       "      <td>Neutral</td>\n",
       "    </tr>\n",
       "    <tr>\n",
       "      <th>20103</th>\n",
       "      <td>lionel messi lottery offer galatasaraya</td>\n",
       "      <td>0.000000</td>\n",
       "      <td>0.000000</td>\n",
       "      <td>Neutral</td>\n",
       "    </tr>\n",
       "  </tbody>\n",
       "</table>\n",
       "<p>20104 rows × 4 columns</p>\n",
       "</div>"
      ],
      "text/plain": [
       "                                                   tweet  Subjectivity  \\\n",
       "0      leo messi cristiano special competition among ...      0.586190   \n",
       "1                                   poles stop leo messi      0.000000   \n",
       "2      la liga goal assist king champions league top ...      0.766667   \n",
       "3      leo messi became first player score goal diffe...      0.466667   \n",
       "4                    come tomorrow start work fenerbahçe      0.000000   \n",
       "...                                                  ...           ...   \n",
       "20099  via drawing lionel messi art lionelmessi barce...      0.000000   \n",
       "20100  lionel messi made funny comment allegations ma...      1.000000   \n",
       "20101  lionelmessi dont worry messi father go jail gi...      0.375000   \n",
       "20102               lionel messi without detonating bomb      0.000000   \n",
       "20103            lionel messi lottery offer galatasaraya      0.000000   \n",
       "\n",
       "       Polarity  Analysis  \n",
       "0      0.225119  Positive  \n",
       "1      0.000000   Neutral  \n",
       "2      0.200000  Positive  \n",
       "3      0.125000  Positive  \n",
       "4      0.000000   Neutral  \n",
       "...         ...       ...  \n",
       "20099  0.000000   Neutral  \n",
       "20100  0.250000  Positive  \n",
       "20101 -0.050000  Negative  \n",
       "20102  0.000000   Neutral  \n",
       "20103  0.000000   Neutral  \n",
       "\n",
       "[20104 rows x 4 columns]"
      ]
     },
     "execution_count": 4,
     "metadata": {},
     "output_type": "execute_result"
    }
   ],
   "source": [
    "def getAnalysis(score):\n",
    "    if score<0:\n",
    "        return 'Negative'\n",
    "    elif score==0:\n",
    "        return 'Neutral'\n",
    "    else:\n",
    "        return 'Positive'\n",
    "    \n",
    "data['Analysis'] = data['Polarity'].apply(getAnalysis)\n",
    "data"
   ]
  },
  {
   "cell_type": "code",
   "execution_count": 5,
   "metadata": {},
   "outputs": [
    {
     "name": "stdout",
     "output_type": "stream",
     "text": [
      "0        2\n",
      "1        1\n",
      "2        2\n",
      "3        2\n",
      "4        1\n",
      "        ..\n",
      "20099    1\n",
      "20100    2\n",
      "20101    0\n",
      "20102    1\n",
      "20103    1\n",
      "Name: Analysis, Length: 20104, dtype: int32\n"
     ]
    }
   ],
   "source": [
    "data['Analysis'] = preprocessing.LabelEncoder().fit_transform(data['Analysis'])\n",
    "print(data['Analysis'])"
   ]
  },
  {
   "cell_type": "code",
   "execution_count": 6,
   "metadata": {},
   "outputs": [
    {
     "name": "stdout",
     "output_type": "stream",
     "text": [
      "  (0, 4901)\t0.24890649791616995\n",
      "  (0, 8400)\t0.2248843852005883\n",
      "  (0, 9616)\t0.3005265054293155\n",
      "  (0, 10463)\t0.26443682295436655\n",
      "  (0, 10755)\t0.12437836632510421\n",
      "  (0, 10674)\t0.3197556424753424\n",
      "  (0, 7505)\t0.2278590916842625\n",
      "  (0, 7275)\t0.23068237973977024\n",
      "  (0, 5929)\t0.23467514211515997\n",
      "  (0, 6787)\t0.22452939908218347\n",
      "  (0, 11463)\t0.2566928707888658\n",
      "  (0, 3862)\t0.2623376404230149\n",
      "  (0, 13088)\t0.16746638314826084\n",
      "  (0, 513)\t0.2594037296105074\n",
      "  (0, 2752)\t0.2533717944917551\n",
      "  (0, 11704)\t0.2371030045770058\n",
      "  (0, 3021)\t0.1715437410829645\n",
      "  (0, 8023)\t0.04858473815579372\n",
      "  (0, 7227)\t0.12901752474861564\n",
      "  (1, 11908)\t0.5178896470172775\n",
      "  (1, 9848)\t0.7899569787592855\n",
      "  (1, 8023)\t0.11568574755708025\n",
      "  (1, 7227)\t0.30720529460603546\n",
      "  (2, 1170)\t0.2186445418362964\n",
      "  (2, 5348)\t0.18889864998589814\n",
      "  :\t:\n",
      "  (20100, 7616)\t0.44798571528983555\n",
      "  (20100, 12290)\t0.16821154871745747\n",
      "  (20100, 8023)\t0.06011974980385498\n",
      "  (20101, 6545)\t0.4695915522642063\n",
      "  (20101, 13604)\t0.38123226179833347\n",
      "  (20101, 4240)\t0.31660185505805805\n",
      "  (20101, 4520)\t0.32310776408008074\n",
      "  (20101, 12607)\t0.3491490180831949\n",
      "  (20101, 7384)\t0.16038903765070425\n",
      "  (20101, 5326)\t0.21336793918431854\n",
      "  (20101, 3672)\t0.2101298054253941\n",
      "  (20101, 7375)\t0.16465025866231836\n",
      "  (20101, 5307)\t0.26872021751010394\n",
      "  (20101, 8383)\t0.27356748114920704\n",
      "  (20101, 8023)\t0.13431623962039924\n",
      "  (20102, 3427)\t0.6885146315169532\n",
      "  (20102, 1870)\t0.5677527152448504\n",
      "  (20102, 13543)\t0.38018593358457486\n",
      "  (20102, 7375)\t0.22502988249366498\n",
      "  (20102, 8023)\t0.09178597065176274\n",
      "  (20103, 7535)\t0.6104102553068417\n",
      "  (20103, 5119)\t0.628851356715166\n",
      "  (20103, 9173)\t0.42251380150602963\n",
      "  (20103, 7375)\t0.21402473264650337\n",
      "  (20103, 8023)\t0.08729715187935697\n"
     ]
    }
   ],
   "source": [
    "vect = TfidfVectorizer(analyzer='word',lowercase=False)\n",
    "sent_vector = vect.fit_transform(data['tweet'])\n",
    "\n",
    "print(sent_vector)"
   ]
  },
  {
   "cell_type": "code",
   "execution_count": 7,
   "metadata": {},
   "outputs": [],
   "source": [
    "x_train,x_test,y_train,y_test = train_test_split(sent_vector,data['Analysis'],test_size=0.2,random_state=0)"
   ]
  },
  {
   "cell_type": "code",
   "execution_count": 8,
   "metadata": {},
   "outputs": [
    {
     "data": {
      "text/plain": [
       "'\\nfrom matplotlib import pyplot as plt\\n\\nplt.plot(x_train[2].toarray()[0])\\nx_train[2]\\n'"
      ]
     },
     "execution_count": 8,
     "metadata": {},
     "output_type": "execute_result"
    }
   ],
   "source": [
    "\"\"\"\n",
    "from matplotlib import pyplot as plt\n",
    "\n",
    "plt.plot(x_train[2].toarray()[0])\n",
    "x_train[2]\n",
    "\"\"\""
   ]
  },
  {
   "cell_type": "code",
   "execution_count": 11,
   "metadata": {},
   "outputs": [
    {
     "name": "stdout",
     "output_type": "stream",
     "text": [
      "[[0. 1. 0.]\n",
      " [0. 1. 0.]\n",
      " [0. 1. 0.]\n",
      " ...\n",
      " [0. 1. 0.]\n",
      " [1. 0. 0.]\n",
      " [0. 0. 1.]]\n",
      "[[0. 0. 1.]\n",
      " [0. 1. 0.]\n",
      " [1. 0. 0.]\n",
      " ...\n",
      " [0. 1. 0.]\n",
      " [0. 0. 1.]\n",
      " [0. 1. 0.]]\n"
     ]
    }
   ],
   "source": [
    "from keras.utils import to_categorical\n",
    "\n",
    "train_encoded = to_categorical(y_train)\n",
    "test_encoded = to_categorical(y_test)\n",
    "print(train_encoded)\n",
    "print(test_encoded)"
   ]
  },
  {
   "cell_type": "code",
   "execution_count": 12,
   "metadata": {},
   "outputs": [],
   "source": [
    "n_sent, n_vect = np.shape(x_train)\n",
    "xx_train = np.reshape(x_train.toarray(),(n_sent,n_vect,1))\n",
    "\n",
    "nn_sent,nn_vect = np.shape(x_test)\n",
    "xx_test =np.reshape(x_test.toarray(),(nn_sent,nn_vect,1))"
   ]
  },
  {
   "cell_type": "code",
   "execution_count": 13,
   "metadata": {},
   "outputs": [],
   "source": [
    "from tensorflow.keras.models import Sequential\n",
    "from tensorflow.keras.layers import Dense,Conv1D,GlobalMaxPooling1D,Dropout,Flatten\n",
    "import tensorflow"
   ]
  },
  {
   "cell_type": "code",
   "execution_count": 14,
   "metadata": {},
   "outputs": [],
   "source": [
    "model = Sequential()\n",
    "\n",
    "model.add(Conv1D(filters=64,kernel_size=n_vect,padding='valid',activation='relu',strides=1))\n",
    "\n",
    "model.add(GlobalMaxPooling1D())\n",
    "\n",
    "model.add(Dropout(0.2))\n",
    "\n",
    "model.add(Dense(64,activation='relu'))\n",
    "\n",
    "model.add(Dense(3,activation='softmax'))"
   ]
  },
  {
   "cell_type": "code",
   "execution_count": 15,
   "metadata": {},
   "outputs": [],
   "source": [
    "model.compile(optimizer='adam',loss='categorical_crossentropy',metrics=['accuracy'])"
   ]
  },
  {
   "cell_type": "code",
   "execution_count": 33,
   "metadata": {},
   "outputs": [
    {
     "ename": "ValueError",
     "evalue": "You must provide an `input_shape` argument.",
     "output_type": "error",
     "traceback": [
      "\u001b[1;31m---------------------------------------------------------------------------\u001b[0m",
      "\u001b[1;31mValueError\u001b[0m                                Traceback (most recent call last)",
      "\u001b[1;32m<ipython-input-33-2f52417d930d>\u001b[0m in \u001b[0;36m<module>\u001b[1;34m\u001b[0m\n\u001b[1;32m----> 1\u001b[1;33m \u001b[0mmodel\u001b[0m\u001b[1;33m.\u001b[0m\u001b[0mbuild\u001b[0m\u001b[1;33m(\u001b[0m\u001b[1;33m)\u001b[0m\u001b[1;33m\u001b[0m\u001b[1;33m\u001b[0m\u001b[0m\n\u001b[0m",
      "\u001b[1;32m~\\Anaconda3\\lib\\site-packages\\tensorflow\\python\\keras\\engine\\sequential.py\u001b[0m in \u001b[0;36mbuild\u001b[1;34m(self, input_shape)\u001b[0m\n\u001b[0;32m    344\u001b[0m     \u001b[1;32melse\u001b[0m\u001b[1;33m:\u001b[0m\u001b[1;33m\u001b[0m\u001b[1;33m\u001b[0m\u001b[0m\n\u001b[0;32m    345\u001b[0m       \u001b[1;32mif\u001b[0m \u001b[0minput_shape\u001b[0m \u001b[1;32mis\u001b[0m \u001b[1;32mNone\u001b[0m\u001b[1;33m:\u001b[0m\u001b[1;33m\u001b[0m\u001b[1;33m\u001b[0m\u001b[0m\n\u001b[1;32m--> 346\u001b[1;33m         \u001b[1;32mraise\u001b[0m \u001b[0mValueError\u001b[0m\u001b[1;33m(\u001b[0m\u001b[1;34m'You must provide an `input_shape` argument.'\u001b[0m\u001b[1;33m)\u001b[0m\u001b[1;33m\u001b[0m\u001b[1;33m\u001b[0m\u001b[0m\n\u001b[0m\u001b[0;32m    347\u001b[0m       \u001b[0mself\u001b[0m\u001b[1;33m.\u001b[0m\u001b[0m_build_graph_network_for_inferred_shape\u001b[0m\u001b[1;33m(\u001b[0m\u001b[0minput_shape\u001b[0m\u001b[1;33m)\u001b[0m\u001b[1;33m\u001b[0m\u001b[1;33m\u001b[0m\u001b[0m\n\u001b[0;32m    348\u001b[0m       \u001b[1;32mif\u001b[0m \u001b[1;32mnot\u001b[0m \u001b[0mself\u001b[0m\u001b[1;33m.\u001b[0m\u001b[0mbuilt\u001b[0m\u001b[1;33m:\u001b[0m\u001b[1;33m\u001b[0m\u001b[1;33m\u001b[0m\u001b[0m\n",
      "\u001b[1;31mValueError\u001b[0m: You must provide an `input_shape` argument."
     ]
    }
   ],
   "source": [
    "model.build()"
   ]
  },
  {
   "cell_type": "code",
   "execution_count": 18,
   "metadata": {},
   "outputs": [
    {
     "name": "stdout",
     "output_type": "stream",
     "text": [
      "Model: \"sequential\"\n",
      "_________________________________________________________________\n",
      "Layer (type)                 Output Shape              Param #   \n",
      "=================================================================\n",
      "conv1d (Conv1D)              (None, 1, 64)             899648    \n",
      "_________________________________________________________________\n",
      "global_max_pooling1d (Global (None, 64)                0         \n",
      "_________________________________________________________________\n",
      "dropout (Dropout)            (None, 64)                0         \n",
      "_________________________________________________________________\n",
      "dense (Dense)                (None, 64)                4160      \n",
      "_________________________________________________________________\n",
      "dense_1 (Dense)              (None, 3)                 195       \n",
      "=================================================================\n",
      "Total params: 904,003\n",
      "Trainable params: 904,003\n",
      "Non-trainable params: 0\n",
      "_________________________________________________________________\n"
     ]
    }
   ],
   "source": [
    "model.summary()"
   ]
  },
  {
   "cell_type": "code",
   "execution_count": 17,
   "metadata": {},
   "outputs": [
    {
     "name": "stdout",
     "output_type": "stream",
     "text": [
      "Epoch 1/30\n",
      "1609/1609 [==============================] - 20s 12ms/step - loss: 0.6358 - accuracy: 0.7418 - val_loss: 0.1543 - val_accuracy: 0.9527\n",
      "Epoch 2/30\n",
      "1609/1609 [==============================] - 20s 13ms/step - loss: 0.0711 - accuracy: 0.9780 - val_loss: 0.1412 - val_accuracy: 0.9612\n",
      "Epoch 3/30\n",
      "1609/1609 [==============================] - 18s 11ms/step - loss: 0.0157 - accuracy: 0.9959 - val_loss: 0.1360 - val_accuracy: 0.9679\n",
      "Epoch 4/30\n",
      "1609/1609 [==============================] - 19s 12ms/step - loss: 0.0097 - accuracy: 0.9973 - val_loss: 0.1868 - val_accuracy: 0.9647\n",
      "Epoch 5/30\n",
      "1609/1609 [==============================] - 19s 12ms/step - loss: 0.0034 - accuracy: 0.9990 - val_loss: 0.1680 - val_accuracy: 0.9662\n",
      "Epoch 6/30\n",
      "1609/1609 [==============================] - 19s 12ms/step - loss: 0.0021 - accuracy: 0.9994 - val_loss: 0.1860 - val_accuracy: 0.9659\n",
      "Epoch 7/30\n",
      "1609/1609 [==============================] - 19s 12ms/step - loss: 0.0017 - accuracy: 0.9994 - val_loss: 0.2029 - val_accuracy: 0.9662\n",
      "Epoch 8/30\n",
      "1609/1609 [==============================] - 19s 12ms/step - loss: 0.0011 - accuracy: 0.9997 - val_loss: 0.2929 - val_accuracy: 0.9592\n",
      "Epoch 9/30\n",
      "1609/1609 [==============================] - 19s 12ms/step - loss: 0.0020 - accuracy: 0.9990 - val_loss: 0.2314 - val_accuracy: 0.9679\n",
      "Epoch 10/30\n",
      "1609/1609 [==============================] - 21s 13ms/step - loss: 8.4213e-04 - accuracy: 0.9997 - val_loss: 0.2402 - val_accuracy: 0.9654\n",
      "Epoch 11/30\n",
      "1609/1609 [==============================] - 21s 13ms/step - loss: 1.1953e-04 - accuracy: 1.0000 - val_loss: 0.2578 - val_accuracy: 0.9674\n",
      "Epoch 12/30\n",
      "1609/1609 [==============================] - 19s 12ms/step - loss: 3.7428e-04 - accuracy: 0.9999 - val_loss: 0.2787 - val_accuracy: 0.9657\n",
      "Epoch 13/30\n",
      "1609/1609 [==============================] - 19s 12ms/step - loss: 2.5719e-04 - accuracy: 0.9999 - val_loss: 0.2603 - val_accuracy: 0.9677\n",
      "Epoch 14/30\n",
      "1609/1609 [==============================] - 19s 12ms/step - loss: 2.1380e-04 - accuracy: 0.9999 - val_loss: 0.3394 - val_accuracy: 0.9644\n",
      "Epoch 15/30\n",
      "1609/1609 [==============================] - 20s 12ms/step - loss: 0.0013 - accuracy: 0.9998 - val_loss: 0.3025 - val_accuracy: 0.9669\n",
      "Epoch 16/30\n",
      "1609/1609 [==============================] - 19s 12ms/step - loss: 5.0161e-05 - accuracy: 1.0000 - val_loss: 0.3225 - val_accuracy: 0.9649\n",
      "Epoch 17/30\n",
      "1609/1609 [==============================] - 19s 12ms/step - loss: 4.4897e-04 - accuracy: 0.9998 - val_loss: 0.3222 - val_accuracy: 0.9662\n",
      "Epoch 18/30\n",
      "1609/1609 [==============================] - 19s 12ms/step - loss: 2.0463e-04 - accuracy: 0.9999 - val_loss: 0.3069 - val_accuracy: 0.9674\n",
      "Epoch 19/30\n",
      "1609/1609 [==============================] - 19s 12ms/step - loss: 7.5927e-05 - accuracy: 1.0000 - val_loss: 0.2849 - val_accuracy: 0.9684\n",
      "Epoch 20/30\n",
      "1609/1609 [==============================] - 19s 12ms/step - loss: 1.2787e-04 - accuracy: 1.0000 - val_loss: 0.2903 - val_accuracy: 0.9689\n",
      "Epoch 21/30\n",
      "1609/1609 [==============================] - 19s 12ms/step - loss: 1.1214e-04 - accuracy: 1.0000 - val_loss: 0.3077 - val_accuracy: 0.9679\n",
      "Epoch 22/30\n",
      "1609/1609 [==============================] - 19s 12ms/step - loss: 8.6165e-04 - accuracy: 0.9997 - val_loss: 0.3172 - val_accuracy: 0.9679\n",
      "Epoch 23/30\n",
      "1609/1609 [==============================] - 20s 12ms/step - loss: 1.5646e-04 - accuracy: 0.9999 - val_loss: 0.2956 - val_accuracy: 0.9692\n",
      "Epoch 24/30\n",
      "1609/1609 [==============================] - 19s 12ms/step - loss: 3.8815e-04 - accuracy: 1.0000 - val_loss: 0.2972 - val_accuracy: 0.9674\n",
      "Epoch 25/30\n",
      "1609/1609 [==============================] - 19s 12ms/step - loss: 4.7533e-04 - accuracy: 0.9999 - val_loss: 0.3258 - val_accuracy: 0.9652\n",
      "Epoch 26/30\n",
      "1609/1609 [==============================] - 19s 12ms/step - loss: 1.2571e-04 - accuracy: 1.0000 - val_loss: 0.3307 - val_accuracy: 0.9669\n",
      "Epoch 27/30\n",
      "1609/1609 [==============================] - 20s 12ms/step - loss: 4.0564e-05 - accuracy: 1.0000 - val_loss: 0.4564 - val_accuracy: 0.9617\n",
      "Epoch 28/30\n",
      "1609/1609 [==============================] - 18s 11ms/step - loss: 3.0475e-04 - accuracy: 0.9997 - val_loss: 0.2933 - val_accuracy: 0.9679\n",
      "Epoch 29/30\n",
      "1609/1609 [==============================] - 18s 11ms/step - loss: 9.5177e-06 - accuracy: 1.0000 - val_loss: 0.3038 - val_accuracy: 0.9679\n",
      "Epoch 30/30\n",
      "1609/1609 [==============================] - 18s 11ms/step - loss: 1.8868e-04 - accuracy: 0.9999 - val_loss: 0.3328 - val_accuracy: 0.9679\n"
     ]
    }
   ],
   "source": [
    "history=model.fit(xx_train,train_encoded,batch_size=10,epochs=30,verbose=1,validation_data=(xx_test,test_encoded))"
   ]
  },
  {
   "cell_type": "code",
   "execution_count": 19,
   "metadata": {},
   "outputs": [],
   "source": [
    "import matplotlib.pyplot as plt\n",
    "plt.style.use('ggplot')\n",
    "\n",
    "def plot_history(history):\n",
    "    accuracy = history.history['accuracy']\n",
    "    val_accuracy = history.history['val_accuracy']\n",
    "    loss = history.history['loss']\n",
    "    val_loss = history.history['val_loss']\n",
    "    x = range(1, len(accuracy) + 1)\n",
    "\n",
    "    plt.figure(figsize=(12, 5))\n",
    "    plt.subplot(1, 2, 1)\n",
    "    plt.plot(x, accuracy, 'b', label='Training accuracy')\n",
    "    plt.plot(x, val_accuracy, 'r', label='Validation accuracy')\n",
    "    plt.title('Training and validation accuracy')\n",
    "    plt.legend()\n",
    "    plt.subplot(1, 2, 2)\n",
    "    plt.plot(x, loss, 'b', label='Training loss')\n",
    "    plt.plot(x, val_loss, 'r', label='Validation loss')\n",
    "    plt.title('Training and validation loss')\n",
    "    plt.legend()"
   ]
  },
  {
   "cell_type": "code",
   "execution_count": 20,
   "metadata": {},
   "outputs": [
    {
     "data": {
      "image/png": "[encoded data removed]",
      "text/plain": [
       "<Figure size 864x360 with 2 Axes>"
      ]
     },
     "metadata": {},
     "output_type": "display_data"
    }
   ],
   "source": [
    "plot_history(history)"
   ]
  },
  {
   "cell_type": "code",
   "execution_count": 21,
   "metadata": {},
   "outputs": [],
   "source": [
    "from sklearn.svm  import SVC\n",
    "from sklearn.metrics import confusion_matrix\n",
    "from sklearn.metrics import accuracy_score"
   ]
  },
  {
   "cell_type": "code",
   "execution_count": 22,
   "metadata": {},
   "outputs": [],
   "source": [
    "svm = SVC(kernel='linear')#eğitim başlıyor\n",
    "fit = svm.fit(x_train,y_train)"
   ]
  },
  {
   "cell_type": "code",
   "execution_count": 23,
   "metadata": {},
   "outputs": [
    {
     "name": "stdout",
     "output_type": "stream",
     "text": [
      "[2 1 0 ... 1 2 1]\n"
     ]
    }
   ],
   "source": [
    "res = svm.predict(x_test) #test veri kümesini sınıflandırıcıya gönderiyoruz\n",
    "print(res)"
   ]
  },
  {
   "cell_type": "code",
   "execution_count": 24,
   "metadata": {},
   "outputs": [
    {
     "name": "stdout",
     "output_type": "stream",
     "text": [
      "0.9621984580950013\n"
     ]
    }
   ],
   "source": [
    "acc = accuracy_score(y_test,res)\n",
    "print(acc)"
   ]
  },
  {
   "cell_type": "code",
   "execution_count": 25,
   "metadata": {},
   "outputs": [
    {
     "name": "stdout",
     "output_type": "stream",
     "text": [
      "0.9335620353407431\n"
     ]
    }
   ],
   "source": [
    "from sklearn.metrics import matthews_corrcoef\n",
    "print(matthews_corrcoef(y_test, res))"
   ]
  },
  {
   "cell_type": "code",
   "execution_count": 26,
   "metadata": {},
   "outputs": [
    {
     "name": "stdout",
     "output_type": "stream",
     "text": [
      "0.9621984580950013\n"
     ]
    }
   ],
   "source": [
    "from sklearn.metrics import precision_score\n",
    "print(precision_score(y_test, res,average='micro'))"
   ]
  },
  {
   "cell_type": "code",
   "execution_count": 27,
   "metadata": {},
   "outputs": [
    {
     "name": "stdout",
     "output_type": "stream",
     "text": [
      "0.9621984580950013\n"
     ]
    }
   ],
   "source": [
    "from sklearn.metrics import recall_score\n",
    "print(recall_score(y_test, res, average='micro'))"
   ]
  },
  {
   "cell_type": "code",
   "execution_count": 28,
   "metadata": {},
   "outputs": [
    {
     "name": "stdout",
     "output_type": "stream",
     "text": [
      "0.9444958980098712\n"
     ]
    }
   ],
   "source": [
    "from sklearn.metrics import f1_score\n",
    "print(f1_score(y_test, res, average='macro'))"
   ]
  }
 ],
 "metadata": {
  "kernelspec": {
   "display_name": "Python 3",
   "language": "python",
   "name": "python3"
  },
  "language_info": {
   "codemirror_mode": {
    "name": "ipython",
    "version": 3
   },
   "file_extension": ".py",
   "mimetype": "text/x-python",
   "name": "python",
   "nbconvert_exporter": "python",
   "pygments_lexer": "ipython3",
   "version": "3.8.5"
  }
 },
 "nbformat": 4,
 "nbformat_minor": 2
}
