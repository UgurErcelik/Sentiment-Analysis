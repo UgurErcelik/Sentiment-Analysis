{
 "cells": [
  {
   "cell_type": "code",
   "execution_count": 32,
   "metadata": {},
   "outputs": [],
   "source": [
    "from textblob import TextBlob\n",
    "import pandas as pd\n",
    "from spacy.tokenizer import Tokenizer\n",
    "from spacy.lang.tr import Turkish\n",
    "from tqdm import tqdm\n",
    "from wordcloud import WordCloud\n",
    "import matplotlib.pyplot as plt\n",
    "from sklearn import preprocessing\n",
    "from sklearn.feature_extraction.text import TfidfVectorizer\n",
    "from sklearn.model_selection import train_test_split\n",
    "import numpy as np"
   ]
  },
  {
   "cell_type": "code",
   "execution_count": 33,
   "metadata": {},
   "outputs": [
    {
     "data": {
      "text/html": [
       "<div>\n",
       "<style scoped>\n",
       "    .dataframe tbody tr th:only-of-type {\n",
       "        vertical-align: middle;\n",
       "    }\n",
       "\n",
       "    .dataframe tbody tr th {\n",
       "        vertical-align: top;\n",
       "    }\n",
       "\n",
       "    .dataframe thead th {\n",
       "        text-align: right;\n",
       "    }\n",
       "</style>\n",
       "<table border=\"1\" class=\"dataframe\">\n",
       "  <thead>\n",
       "    <tr style=\"text-align: right;\">\n",
       "      <th></th>\n",
       "      <th>tweet</th>\n",
       "    </tr>\n",
       "  </thead>\n",
       "  <tbody>\n",
       "    <tr>\n",
       "      <td>0</td>\n",
       "      <td>leo messi cristiano special competition among ...</td>\n",
       "    </tr>\n",
       "    <tr>\n",
       "      <td>1</td>\n",
       "      <td>poles stop leo messi</td>\n",
       "    </tr>\n",
       "    <tr>\n",
       "      <td>2</td>\n",
       "      <td>la liga goal assist king champions league top ...</td>\n",
       "    </tr>\n",
       "    <tr>\n",
       "      <td>3</td>\n",
       "      <td>leo messi became first player score goal diffe...</td>\n",
       "    </tr>\n",
       "    <tr>\n",
       "      <td>4</td>\n",
       "      <td>come tomorrow start work fenerbahçe</td>\n",
       "    </tr>\n",
       "    <tr>\n",
       "      <td>...</td>\n",
       "      <td>...</td>\n",
       "    </tr>\n",
       "    <tr>\n",
       "      <td>20099</td>\n",
       "      <td>via drawing lionel messi art lionelmessi barce...</td>\n",
       "    </tr>\n",
       "    <tr>\n",
       "      <td>20100</td>\n",
       "      <td>lionel messi made funny comment allegations ma...</td>\n",
       "    </tr>\n",
       "    <tr>\n",
       "      <td>20101</td>\n",
       "      <td>lionelmessi dont worry messi father go jail gi...</td>\n",
       "    </tr>\n",
       "    <tr>\n",
       "      <td>20102</td>\n",
       "      <td>lionel messi without detonating bomb</td>\n",
       "    </tr>\n",
       "    <tr>\n",
       "      <td>20103</td>\n",
       "      <td>lionel messi lottery offer galatasaraya</td>\n",
       "    </tr>\n",
       "  </tbody>\n",
       "</table>\n",
       "<p>20104 rows × 1 columns</p>\n",
       "</div>"
      ],
      "text/plain": [
       "                                                   tweet\n",
       "0      leo messi cristiano special competition among ...\n",
       "1                                   poles stop leo messi\n",
       "2      la liga goal assist king champions league top ...\n",
       "3      leo messi became first player score goal diffe...\n",
       "4                    come tomorrow start work fenerbahçe\n",
       "...                                                  ...\n",
       "20099  via drawing lionel messi art lionelmessi barce...\n",
       "20100  lionel messi made funny comment allegations ma...\n",
       "20101  lionelmessi dont worry messi father go jail gi...\n",
       "20102               lionel messi without detonating bomb\n",
       "20103            lionel messi lottery offer galatasaraya\n",
       "\n",
       "[20104 rows x 1 columns]"
      ]
     },
     "execution_count": 33,
     "metadata": {},
     "output_type": "execute_result"
    }
   ],
   "source": [
    "data = pd.read_csv('lemessi10.csv')\n",
    "data"
   ]
  },
  {
   "cell_type": "code",
   "execution_count": 34,
   "metadata": {},
   "outputs": [
    {
     "data": {
      "text/html": [
       "<div>\n",
       "<style scoped>\n",
       "    .dataframe tbody tr th:only-of-type {\n",
       "        vertical-align: middle;\n",
       "    }\n",
       "\n",
       "    .dataframe tbody tr th {\n",
       "        vertical-align: top;\n",
       "    }\n",
       "\n",
       "    .dataframe thead th {\n",
       "        text-align: right;\n",
       "    }\n",
       "</style>\n",
       "<table border=\"1\" class=\"dataframe\">\n",
       "  <thead>\n",
       "    <tr style=\"text-align: right;\">\n",
       "      <th></th>\n",
       "      <th>tweet</th>\n",
       "      <th>Subjectivity</th>\n",
       "      <th>Polarity</th>\n",
       "    </tr>\n",
       "  </thead>\n",
       "  <tbody>\n",
       "    <tr>\n",
       "      <td>0</td>\n",
       "      <td>leo messi cristiano special competition among ...</td>\n",
       "      <td>0.586190</td>\n",
       "      <td>0.225119</td>\n",
       "    </tr>\n",
       "    <tr>\n",
       "      <td>1</td>\n",
       "      <td>poles stop leo messi</td>\n",
       "      <td>0.000000</td>\n",
       "      <td>0.000000</td>\n",
       "    </tr>\n",
       "    <tr>\n",
       "      <td>2</td>\n",
       "      <td>la liga goal assist king champions league top ...</td>\n",
       "      <td>0.766667</td>\n",
       "      <td>0.200000</td>\n",
       "    </tr>\n",
       "    <tr>\n",
       "      <td>3</td>\n",
       "      <td>leo messi became first player score goal diffe...</td>\n",
       "      <td>0.466667</td>\n",
       "      <td>0.125000</td>\n",
       "    </tr>\n",
       "    <tr>\n",
       "      <td>4</td>\n",
       "      <td>come tomorrow start work fenerbahçe</td>\n",
       "      <td>0.000000</td>\n",
       "      <td>0.000000</td>\n",
       "    </tr>\n",
       "    <tr>\n",
       "      <td>...</td>\n",
       "      <td>...</td>\n",
       "      <td>...</td>\n",
       "      <td>...</td>\n",
       "    </tr>\n",
       "    <tr>\n",
       "      <td>20099</td>\n",
       "      <td>via drawing lionel messi art lionelmessi barce...</td>\n",
       "      <td>0.000000</td>\n",
       "      <td>0.000000</td>\n",
       "    </tr>\n",
       "    <tr>\n",
       "      <td>20100</td>\n",
       "      <td>lionel messi made funny comment allegations ma...</td>\n",
       "      <td>1.000000</td>\n",
       "      <td>0.250000</td>\n",
       "    </tr>\n",
       "    <tr>\n",
       "      <td>20101</td>\n",
       "      <td>lionelmessi dont worry messi father go jail gi...</td>\n",
       "      <td>0.375000</td>\n",
       "      <td>-0.050000</td>\n",
       "    </tr>\n",
       "    <tr>\n",
       "      <td>20102</td>\n",
       "      <td>lionel messi without detonating bomb</td>\n",
       "      <td>0.000000</td>\n",
       "      <td>0.000000</td>\n",
       "    </tr>\n",
       "    <tr>\n",
       "      <td>20103</td>\n",
       "      <td>lionel messi lottery offer galatasaraya</td>\n",
       "      <td>0.000000</td>\n",
       "      <td>0.000000</td>\n",
       "    </tr>\n",
       "  </tbody>\n",
       "</table>\n",
       "<p>20104 rows × 3 columns</p>\n",
       "</div>"
      ],
      "text/plain": [
       "                                                   tweet  Subjectivity  \\\n",
       "0      leo messi cristiano special competition among ...      0.586190   \n",
       "1                                   poles stop leo messi      0.000000   \n",
       "2      la liga goal assist king champions league top ...      0.766667   \n",
       "3      leo messi became first player score goal diffe...      0.466667   \n",
       "4                    come tomorrow start work fenerbahçe      0.000000   \n",
       "...                                                  ...           ...   \n",
       "20099  via drawing lionel messi art lionelmessi barce...      0.000000   \n",
       "20100  lionel messi made funny comment allegations ma...      1.000000   \n",
       "20101  lionelmessi dont worry messi father go jail gi...      0.375000   \n",
       "20102               lionel messi without detonating bomb      0.000000   \n",
       "20103            lionel messi lottery offer galatasaraya      0.000000   \n",
       "\n",
       "       Polarity  \n",
       "0      0.225119  \n",
       "1      0.000000  \n",
       "2      0.200000  \n",
       "3      0.125000  \n",
       "4      0.000000  \n",
       "...         ...  \n",
       "20099  0.000000  \n",
       "20100  0.250000  \n",
       "20101 -0.050000  \n",
       "20102  0.000000  \n",
       "20103  0.000000  \n",
       "\n",
       "[20104 rows x 3 columns]"
      ]
     },
     "execution_count": 34,
     "metadata": {},
     "output_type": "execute_result"
    }
   ],
   "source": [
    "def getSubjectivity(text):\n",
    "    return TextBlob(text).sentiment.subjectivity\n",
    "\n",
    "def getPolarity(text):\n",
    "    return TextBlob(text).sentiment.polarity\n",
    "\n",
    "data['Subjectivity'] = data['tweet'].apply(getSubjectivity)\n",
    "data['Polarity'] = data['tweet'].apply(getPolarity)\n",
    "\n",
    "data"
   ]
  },
  {
   "cell_type": "code",
   "execution_count": 35,
   "metadata": {},
   "outputs": [
    {
     "data": {
      "text/html": [
       "<div>\n",
       "<style scoped>\n",
       "    .dataframe tbody tr th:only-of-type {\n",
       "        vertical-align: middle;\n",
       "    }\n",
       "\n",
       "    .dataframe tbody tr th {\n",
       "        vertical-align: top;\n",
       "    }\n",
       "\n",
       "    .dataframe thead th {\n",
       "        text-align: right;\n",
       "    }\n",
       "</style>\n",
       "<table border=\"1\" class=\"dataframe\">\n",
       "  <thead>\n",
       "    <tr style=\"text-align: right;\">\n",
       "      <th></th>\n",
       "      <th>tweet</th>\n",
       "      <th>Subjectivity</th>\n",
       "      <th>Polarity</th>\n",
       "      <th>Analysis</th>\n",
       "    </tr>\n",
       "  </thead>\n",
       "  <tbody>\n",
       "    <tr>\n",
       "      <td>0</td>\n",
       "      <td>leo messi cristiano special competition among ...</td>\n",
       "      <td>0.586190</td>\n",
       "      <td>0.225119</td>\n",
       "      <td>Positive</td>\n",
       "    </tr>\n",
       "    <tr>\n",
       "      <td>1</td>\n",
       "      <td>poles stop leo messi</td>\n",
       "      <td>0.000000</td>\n",
       "      <td>0.000000</td>\n",
       "      <td>Neutral</td>\n",
       "    </tr>\n",
       "    <tr>\n",
       "      <td>2</td>\n",
       "      <td>la liga goal assist king champions league top ...</td>\n",
       "      <td>0.766667</td>\n",
       "      <td>0.200000</td>\n",
       "      <td>Positive</td>\n",
       "    </tr>\n",
       "    <tr>\n",
       "      <td>3</td>\n",
       "      <td>leo messi became first player score goal diffe...</td>\n",
       "      <td>0.466667</td>\n",
       "      <td>0.125000</td>\n",
       "      <td>Positive</td>\n",
       "    </tr>\n",
       "    <tr>\n",
       "      <td>4</td>\n",
       "      <td>come tomorrow start work fenerbahçe</td>\n",
       "      <td>0.000000</td>\n",
       "      <td>0.000000</td>\n",
       "      <td>Neutral</td>\n",
       "    </tr>\n",
       "    <tr>\n",
       "      <td>...</td>\n",
       "      <td>...</td>\n",
       "      <td>...</td>\n",
       "      <td>...</td>\n",
       "      <td>...</td>\n",
       "    </tr>\n",
       "    <tr>\n",
       "      <td>20099</td>\n",
       "      <td>via drawing lionel messi art lionelmessi barce...</td>\n",
       "      <td>0.000000</td>\n",
       "      <td>0.000000</td>\n",
       "      <td>Neutral</td>\n",
       "    </tr>\n",
       "    <tr>\n",
       "      <td>20100</td>\n",
       "      <td>lionel messi made funny comment allegations ma...</td>\n",
       "      <td>1.000000</td>\n",
       "      <td>0.250000</td>\n",
       "      <td>Positive</td>\n",
       "    </tr>\n",
       "    <tr>\n",
       "      <td>20101</td>\n",
       "      <td>lionelmessi dont worry messi father go jail gi...</td>\n",
       "      <td>0.375000</td>\n",
       "      <td>-0.050000</td>\n",
       "      <td>Negative</td>\n",
       "    </tr>\n",
       "    <tr>\n",
       "      <td>20102</td>\n",
       "      <td>lionel messi without detonating bomb</td>\n",
       "      <td>0.000000</td>\n",
       "      <td>0.000000</td>\n",
       "      <td>Neutral</td>\n",
       "    </tr>\n",
       "    <tr>\n",
       "      <td>20103</td>\n",
       "      <td>lionel messi lottery offer galatasaraya</td>\n",
       "      <td>0.000000</td>\n",
       "      <td>0.000000</td>\n",
       "      <td>Neutral</td>\n",
       "    </tr>\n",
       "  </tbody>\n",
       "</table>\n",
       "<p>20104 rows × 4 columns</p>\n",
       "</div>"
      ],
      "text/plain": [
       "                                                   tweet  Subjectivity  \\\n",
       "0      leo messi cristiano special competition among ...      0.586190   \n",
       "1                                   poles stop leo messi      0.000000   \n",
       "2      la liga goal assist king champions league top ...      0.766667   \n",
       "3      leo messi became first player score goal diffe...      0.466667   \n",
       "4                    come tomorrow start work fenerbahçe      0.000000   \n",
       "...                                                  ...           ...   \n",
       "20099  via drawing lionel messi art lionelmessi barce...      0.000000   \n",
       "20100  lionel messi made funny comment allegations ma...      1.000000   \n",
       "20101  lionelmessi dont worry messi father go jail gi...      0.375000   \n",
       "20102               lionel messi without detonating bomb      0.000000   \n",
       "20103            lionel messi lottery offer galatasaraya      0.000000   \n",
       "\n",
       "       Polarity  Analysis  \n",
       "0      0.225119  Positive  \n",
       "1      0.000000   Neutral  \n",
       "2      0.200000  Positive  \n",
       "3      0.125000  Positive  \n",
       "4      0.000000   Neutral  \n",
       "...         ...       ...  \n",
       "20099  0.000000   Neutral  \n",
       "20100  0.250000  Positive  \n",
       "20101 -0.050000  Negative  \n",
       "20102  0.000000   Neutral  \n",
       "20103  0.000000   Neutral  \n",
       "\n",
       "[20104 rows x 4 columns]"
      ]
     },
     "execution_count": 35,
     "metadata": {},
     "output_type": "execute_result"
    }
   ],
   "source": [
    "def getAnalysis(score):\n",
    "    if score<0:\n",
    "        return 'Negative'\n",
    "    elif score==0:\n",
    "        return 'Neutral'\n",
    "    else:\n",
    "        return 'Positive'\n",
    "    \n",
    "data['Analysis'] = data['Polarity'].apply(getAnalysis)\n",
    "data"
   ]
  },
  {
   "cell_type": "code",
   "execution_count": 36,
   "metadata": {},
   "outputs": [
    {
     "name": "stdout",
     "output_type": "stream",
     "text": [
      "[2 1 2 ... 0 1 1]\n"
     ]
    }
   ],
   "source": [
    "label_enc = preprocessing.LabelEncoder().fit_transform(data['Analysis'])\n",
    "print(label_enc)"
   ]
  },
  {
   "cell_type": "code",
   "execution_count": 37,
   "metadata": {},
   "outputs": [
    {
     "name": "stdout",
     "output_type": "stream",
     "text": [
      "  (0, 4901)\t0.24890649791616995\n",
      "  (0, 8400)\t0.2248843852005883\n",
      "  (0, 9616)\t0.3005265054293155\n",
      "  (0, 10463)\t0.26443682295436655\n",
      "  (0, 10755)\t0.12437836632510421\n",
      "  (0, 10674)\t0.3197556424753424\n",
      "  (0, 7505)\t0.2278590916842625\n",
      "  (0, 7275)\t0.23068237973977024\n",
      "  (0, 5929)\t0.23467514211515997\n",
      "  (0, 6787)\t0.22452939908218347\n",
      "  (0, 11463)\t0.2566928707888658\n",
      "  (0, 3862)\t0.2623376404230149\n",
      "  (0, 13088)\t0.16746638314826084\n",
      "  (0, 513)\t0.2594037296105074\n",
      "  (0, 2752)\t0.2533717944917551\n",
      "  (0, 11704)\t0.2371030045770058\n",
      "  (0, 3021)\t0.1715437410829645\n",
      "  (0, 8023)\t0.04858473815579372\n",
      "  (0, 7227)\t0.12901752474861564\n",
      "  (1, 11908)\t0.5178896470172775\n",
      "  (1, 9848)\t0.7899569787592855\n",
      "  (1, 8023)\t0.11568574755708025\n",
      "  (1, 7227)\t0.30720529460603546\n",
      "  (2, 1170)\t0.2186445418362964\n",
      "  (2, 5348)\t0.18889864998589814\n",
      "  :\t:\n",
      "  (20100, 7616)\t0.44798571528983555\n",
      "  (20100, 12290)\t0.16821154871745747\n",
      "  (20100, 8023)\t0.06011974980385498\n",
      "  (20101, 6545)\t0.4695915522642063\n",
      "  (20101, 13604)\t0.38123226179833347\n",
      "  (20101, 4240)\t0.31660185505805805\n",
      "  (20101, 4520)\t0.32310776408008074\n",
      "  (20101, 12607)\t0.3491490180831949\n",
      "  (20101, 7384)\t0.16038903765070425\n",
      "  (20101, 5326)\t0.21336793918431854\n",
      "  (20101, 3672)\t0.2101298054253941\n",
      "  (20101, 7375)\t0.16465025866231836\n",
      "  (20101, 5307)\t0.26872021751010394\n",
      "  (20101, 8383)\t0.27356748114920704\n",
      "  (20101, 8023)\t0.13431623962039924\n",
      "  (20102, 3427)\t0.6885146315169532\n",
      "  (20102, 1870)\t0.5677527152448504\n",
      "  (20102, 13543)\t0.38018593358457486\n",
      "  (20102, 7375)\t0.22502988249366498\n",
      "  (20102, 8023)\t0.09178597065176274\n",
      "  (20103, 7535)\t0.6104102553068417\n",
      "  (20103, 5119)\t0.628851356715166\n",
      "  (20103, 9173)\t0.42251380150602963\n",
      "  (20103, 7375)\t0.21402473264650337\n",
      "  (20103, 8023)\t0.08729715187935697\n"
     ]
    }
   ],
   "source": [
    "vect = TfidfVectorizer(analyzer='word',lowercase=False)\n",
    "sent_vector = vect.fit_transform(data['tweet'])\n",
    "\n",
    "print(sent_vector)"
   ]
  },
  {
   "cell_type": "code",
   "execution_count": 38,
   "metadata": {},
   "outputs": [
    {
     "name": "stdout",
     "output_type": "stream",
     "text": [
      "0        Positive\n",
      "1         Neutral\n",
      "2        Positive\n",
      "3        Positive\n",
      "4         Neutral\n",
      "           ...   \n",
      "20099     Neutral\n",
      "20100    Positive\n",
      "20101    Negative\n",
      "20102     Neutral\n",
      "20103     Neutral\n",
      "Name: Analysis, Length: 20104, dtype: object\n",
      "  (0, 4901)\t0.24890649791616995\n",
      "  (0, 8400)\t0.2248843852005883\n",
      "  (0, 9616)\t0.3005265054293155\n",
      "  (0, 10463)\t0.26443682295436655\n",
      "  (0, 10755)\t0.12437836632510421\n",
      "  (0, 10674)\t0.3197556424753424\n",
      "  (0, 7505)\t0.2278590916842625\n",
      "  (0, 7275)\t0.23068237973977024\n",
      "  (0, 5929)\t0.23467514211515997\n",
      "  (0, 6787)\t0.22452939908218347\n",
      "  (0, 11463)\t0.2566928707888658\n",
      "  (0, 3862)\t0.2623376404230149\n",
      "  (0, 13088)\t0.16746638314826084\n",
      "  (0, 513)\t0.2594037296105074\n",
      "  (0, 2752)\t0.2533717944917551\n",
      "  (0, 11704)\t0.2371030045770058\n",
      "  (0, 3021)\t0.1715437410829645\n",
      "  (0, 8023)\t0.04858473815579372\n",
      "  (0, 7227)\t0.12901752474861564\n",
      "  (1, 11908)\t0.5178896470172775\n",
      "  (1, 9848)\t0.7899569787592855\n",
      "  (1, 8023)\t0.11568574755708025\n",
      "  (1, 7227)\t0.30720529460603546\n",
      "  (2, 1170)\t0.2186445418362964\n",
      "  (2, 5348)\t0.18889864998589814\n",
      "  :\t:\n",
      "  (20100, 7616)\t0.44798571528983555\n",
      "  (20100, 12290)\t0.16821154871745747\n",
      "  (20100, 8023)\t0.06011974980385498\n",
      "  (20101, 6545)\t0.4695915522642063\n",
      "  (20101, 13604)\t0.38123226179833347\n",
      "  (20101, 4240)\t0.31660185505805805\n",
      "  (20101, 4520)\t0.32310776408008074\n",
      "  (20101, 12607)\t0.3491490180831949\n",
      "  (20101, 7384)\t0.16038903765070425\n",
      "  (20101, 5326)\t0.21336793918431854\n",
      "  (20101, 3672)\t0.2101298054253941\n",
      "  (20101, 7375)\t0.16465025866231836\n",
      "  (20101, 5307)\t0.26872021751010394\n",
      "  (20101, 8383)\t0.27356748114920704\n",
      "  (20101, 8023)\t0.13431623962039924\n",
      "  (20102, 3427)\t0.6885146315169532\n",
      "  (20102, 1870)\t0.5677527152448504\n",
      "  (20102, 13543)\t0.38018593358457486\n",
      "  (20102, 7375)\t0.22502988249366498\n",
      "  (20102, 8023)\t0.09178597065176274\n",
      "  (20103, 7535)\t0.6104102553068417\n",
      "  (20103, 5119)\t0.628851356715166\n",
      "  (20103, 9173)\t0.42251380150602963\n",
      "  (20103, 7375)\t0.21402473264650337\n",
      "  (20103, 8023)\t0.08729715187935697\n"
     ]
    }
   ],
   "source": [
    "feature = sent_vector\n",
    "label=data['Analysis']\n",
    "print(label)\n",
    "print(feature)"
   ]
  },
  {
   "cell_type": "code",
   "execution_count": 39,
   "metadata": {},
   "outputs": [],
   "source": [
    "x_train,x_test,y_train,y_test= train_test_split(feature,label, test_size=0.20,random_state=0)"
   ]
  },
  {
   "cell_type": "code",
   "execution_count": 40,
   "metadata": {},
   "outputs": [],
   "source": [
    "from sklearn.svm  import SVC\n",
    "from sklearn.metrics import confusion_matrix\n",
    "from sklearn.metrics import accuracy_score"
   ]
  },
  {
   "cell_type": "code",
   "execution_count": 41,
   "metadata": {},
   "outputs": [],
   "source": [
    "svm = SVC(kernel='linear')#eğitim başlıyor\n",
    "fit = svm.fit(x_train,y_train)"
   ]
  },
  {
   "cell_type": "code",
   "execution_count": 42,
   "metadata": {},
   "outputs": [
    {
     "name": "stdout",
     "output_type": "stream",
     "text": [
      "['Positive' 'Neutral' 'Negative' ... 'Neutral' 'Positive' 'Neutral']\n"
     ]
    }
   ],
   "source": [
    "res = svm.predict(x_test) #test veri kümesini sınıflandırıcıya gönderiyoruz\n",
    "print(res)"
   ]
  },
  {
   "cell_type": "code",
   "execution_count": 43,
   "metadata": {},
   "outputs": [
    {
     "name": "stdout",
     "output_type": "stream",
     "text": [
      "[[ 352   61   10]\n",
      " [   6 2179    9]\n",
      " [   6   60 1338]]\n"
     ]
    }
   ],
   "source": [
    "conf_mat = confusion_matrix(y_test,res)\n",
    "print(conf_mat)"
   ]
  },
  {
   "cell_type": "code",
   "execution_count": 44,
   "metadata": {},
   "outputs": [
    {
     "name": "stdout",
     "output_type": "stream",
     "text": [
      "0.9621984580950013\n"
     ]
    }
   ],
   "source": [
    "acc = accuracy_score(y_test,res)\n",
    "print(acc)"
   ]
  },
  {
   "cell_type": "code",
   "execution_count": 82,
   "metadata": {},
   "outputs": [
    {
     "name": "stdout",
     "output_type": "stream",
     "text": [
      "0.9335620353407431\n"
     ]
    }
   ],
   "source": [
    "from sklearn.metrics import matthews_corrcoef\n",
    "print(matthews_corrcoef(y_test, res)) "
   ]
  },
  {
   "cell_type": "code",
   "execution_count": 87,
   "metadata": {},
   "outputs": [
    {
     "name": "stdout",
     "output_type": "stream",
     "text": [
      "0.9621984580950013\n"
     ]
    }
   ],
   "source": [
    "from sklearn.metrics import precision_score\n",
    "print(precision_score(y_test, res,average='micro'))"
   ]
  },
  {
   "cell_type": "code",
   "execution_count": 90,
   "metadata": {},
   "outputs": [
    {
     "name": "stdout",
     "output_type": "stream",
     "text": [
      "0.9621984580950013\n"
     ]
    }
   ],
   "source": [
    "from sklearn.metrics import recall_score\n",
    "print(recall_score(y_test, res, average='micro'))"
   ]
  },
  {
   "cell_type": "code",
   "execution_count": 94,
   "metadata": {},
   "outputs": [
    {
     "name": "stdout",
     "output_type": "stream",
     "text": [
      "0.9444958980098712\n"
     ]
    }
   ],
   "source": [
    "from sklearn.metrics import f1_score\n",
    "print(f1_score(y_test, res, average='macro'))"
   ]
  },
  {
   "cell_type": "code",
   "execution_count": 99,
   "metadata": {},
   "outputs": [
    {
     "ename": "ValueError",
     "evalue": "multiclass format is not supported",
     "output_type": "error",
     "traceback": [
      "\u001b[1;31m---------------------------------------------------------------------------\u001b[0m",
      "\u001b[1;31mValueError\u001b[0m                                Traceback (most recent call last)",
      "\u001b[1;32m<ipython-input-99-694e61e7edf1>\u001b[0m in \u001b[0;36m<module>\u001b[1;34m\u001b[0m\n\u001b[0;32m      1\u001b[0m \u001b[1;32mfrom\u001b[0m \u001b[0msklearn\u001b[0m\u001b[1;33m.\u001b[0m\u001b[0mmetrics\u001b[0m \u001b[1;32mimport\u001b[0m \u001b[0mroc_auc_score\u001b[0m\u001b[1;33m\u001b[0m\u001b[1;33m\u001b[0m\u001b[0m\n\u001b[1;32m----> 2\u001b[1;33m \u001b[0mprint\u001b[0m\u001b[1;33m(\u001b[0m\u001b[0mroc_auc_score\u001b[0m\u001b[1;33m(\u001b[0m\u001b[0my_test\u001b[0m\u001b[1;33m,\u001b[0m \u001b[0mres\u001b[0m\u001b[1;33m)\u001b[0m\u001b[1;33m)\u001b[0m\u001b[1;33m\u001b[0m\u001b[1;33m\u001b[0m\u001b[0m\n\u001b[0m",
      "\u001b[1;32m~\\Anaconda3\\lib\\site-packages\\sklearn\\metrics\\ranking.py\u001b[0m in \u001b[0;36mroc_auc_score\u001b[1;34m(y_true, y_score, average, sample_weight, max_fpr)\u001b[0m\n\u001b[0;32m    353\u001b[0m     return _average_binary_score(\n\u001b[0;32m    354\u001b[0m         \u001b[0m_binary_roc_auc_score\u001b[0m\u001b[1;33m,\u001b[0m \u001b[0my_true\u001b[0m\u001b[1;33m,\u001b[0m \u001b[0my_score\u001b[0m\u001b[1;33m,\u001b[0m \u001b[0maverage\u001b[0m\u001b[1;33m,\u001b[0m\u001b[1;33m\u001b[0m\u001b[1;33m\u001b[0m\u001b[0m\n\u001b[1;32m--> 355\u001b[1;33m         sample_weight=sample_weight)\n\u001b[0m\u001b[0;32m    356\u001b[0m \u001b[1;33m\u001b[0m\u001b[0m\n\u001b[0;32m    357\u001b[0m \u001b[1;33m\u001b[0m\u001b[0m\n",
      "\u001b[1;32m~\\Anaconda3\\lib\\site-packages\\sklearn\\metrics\\base.py\u001b[0m in \u001b[0;36m_average_binary_score\u001b[1;34m(binary_metric, y_true, y_score, average, sample_weight)\u001b[0m\n\u001b[0;32m     71\u001b[0m     \u001b[0my_type\u001b[0m \u001b[1;33m=\u001b[0m \u001b[0mtype_of_target\u001b[0m\u001b[1;33m(\u001b[0m\u001b[0my_true\u001b[0m\u001b[1;33m)\u001b[0m\u001b[1;33m\u001b[0m\u001b[1;33m\u001b[0m\u001b[0m\n\u001b[0;32m     72\u001b[0m     \u001b[1;32mif\u001b[0m \u001b[0my_type\u001b[0m \u001b[1;32mnot\u001b[0m \u001b[1;32min\u001b[0m \u001b[1;33m(\u001b[0m\u001b[1;34m\"binary\"\u001b[0m\u001b[1;33m,\u001b[0m \u001b[1;34m\"multilabel-indicator\"\u001b[0m\u001b[1;33m)\u001b[0m\u001b[1;33m:\u001b[0m\u001b[1;33m\u001b[0m\u001b[1;33m\u001b[0m\u001b[0m\n\u001b[1;32m---> 73\u001b[1;33m         \u001b[1;32mraise\u001b[0m \u001b[0mValueError\u001b[0m\u001b[1;33m(\u001b[0m\u001b[1;34m\"{0} format is not supported\"\u001b[0m\u001b[1;33m.\u001b[0m\u001b[0mformat\u001b[0m\u001b[1;33m(\u001b[0m\u001b[0my_type\u001b[0m\u001b[1;33m)\u001b[0m\u001b[1;33m)\u001b[0m\u001b[1;33m\u001b[0m\u001b[1;33m\u001b[0m\u001b[0m\n\u001b[0m\u001b[0;32m     74\u001b[0m \u001b[1;33m\u001b[0m\u001b[0m\n\u001b[0;32m     75\u001b[0m     \u001b[1;32mif\u001b[0m \u001b[0my_type\u001b[0m \u001b[1;33m==\u001b[0m \u001b[1;34m\"binary\"\u001b[0m\u001b[1;33m:\u001b[0m\u001b[1;33m\u001b[0m\u001b[1;33m\u001b[0m\u001b[0m\n",
      "\u001b[1;31mValueError\u001b[0m: multiclass format is not supported"
     ]
    }
   ],
   "source": [
    "from sklearn.metrics import roc_auc_score\n",
    "print(roc_auc_score(y_test, res))"
   ]
  },
  {
   "cell_type": "code",
   "execution_count": 58,
   "metadata": {},
   "outputs": [
    {
     "data": {
      "text/plain": [
       "StandardScaler(copy=True, with_mean=False, with_std=True)"
      ]
     },
     "execution_count": 58,
     "metadata": {},
     "output_type": "execute_result"
    }
   ],
   "source": [
    "from sklearn.preprocessing import StandardScaler\n",
    "\n",
    "# Initialise a new scaling object for normalising input data\n",
    "sc=StandardScaler(with_mean=False)\n",
    "\n",
    "# Set up the scaler just on the training set\n",
    "sc.fit(x_train)"
   ]
  },
  {
   "cell_type": "code",
   "execution_count": 60,
   "metadata": {},
   "outputs": [],
   "source": [
    "# Apply the scaler to the training and test sets\n",
    "X_train_std=sc.transform(x_train)\n",
    "X_test_std=sc.transform(x_test)"
   ]
  },
  {
   "cell_type": "code",
   "execution_count": 62,
   "metadata": {},
   "outputs": [
    {
     "name": "stderr",
     "output_type": "stream",
     "text": [
      "C:\\Users\\ugure\\Anaconda3\\lib\\site-packages\\sklearn\\linear_model\\logistic.py:432: FutureWarning: Default solver will be changed to 'lbfgs' in 0.22. Specify a solver to silence this warning.\n",
      "  FutureWarning)\n",
      "C:\\Users\\ugure\\Anaconda3\\lib\\site-packages\\sklearn\\linear_model\\logistic.py:469: FutureWarning: Default multi_class will be changed to 'auto' in 0.22. Specify the multi_class option to silence this warning.\n",
      "  \"this warning.\", FutureWarning)\n"
     ]
    }
   ],
   "source": [
    "from sklearn.linear_model import LogisticRegression\n",
    "\n",
    "ml = LogisticRegression(C=1000)\n",
    "ml.fit(X_train_std,y_train);"
   ]
  },
  {
   "cell_type": "code",
   "execution_count": 69,
   "metadata": {},
   "outputs": [
    {
     "data": {
      "text/plain": [
       "array(['Positive', 'Neutral', 'Negative', ..., 'Positive', 'Positive',\n",
       "       'Neutral'], dtype=object)"
      ]
     },
     "execution_count": 69,
     "metadata": {},
     "output_type": "execute_result"
    }
   ],
   "source": [
    "# Predict training and test set labels\n",
    "y_pred_train = ml.predict(X_train_std)\n",
    "y_pred_test = ml.predict(X_test_std)\n",
    "\n",
    "y_pred_test"
   ]
  },
  {
   "cell_type": "code",
   "execution_count": 64,
   "metadata": {},
   "outputs": [
    {
     "name": "stdout",
     "output_type": "stream",
     "text": [
      "Accuracy of predicting training data = 1.0\n",
      "Accuracy of predicting test data = 0.9500124347177319\n"
     ]
    }
   ],
   "source": [
    "import numpy as np\n",
    "accuracy_train = np.mean(y_pred_train == y_train)\n",
    "accuracy_test = np.mean(y_pred_test == y_test)\n",
    "print ('Accuracy of predicting training data =', accuracy_train)\n",
    "print ('Accuracy of predicting test data =', accuracy_test)"
   ]
  },
  {
   "cell_type": "code",
   "execution_count": 65,
   "metadata": {},
   "outputs": [],
   "source": [
    "def calculate_sensitivity_specificity(y_test, y_pred_test):\n",
    "    # Note: More parameters are defined than necessary. \n",
    "    # This would allow return of other measures other than sensitivity and specificity\n",
    "    \n",
    "    # Get true/false for whether a breach actually occurred\n",
    "    actual_pos = y_test == 1\n",
    "    actual_neg = y_test == 0\n",
    "    \n",
    "    # Get true and false test (true test match actual, false tests differ from actual)\n",
    "    true_pos = (y_pred_test == 1) & (actual_pos)\n",
    "    false_pos = (y_pred_test == 1) & (actual_neg)\n",
    "    true_neg = (y_pred_test == 0) & (actual_neg)\n",
    "    false_neg = (y_pred_test == 0) & (actual_pos)\n",
    "    \n",
    "    # Calculate accuracy\n",
    "    accuracy = np.mean(y_pred_test == y_test)\n",
    "    \n",
    "    # Calculate sensitivity and specificity\n",
    "    sensitivity = np.sum(true_pos) / np.sum(actual_pos)\n",
    "    specificity = np.sum(true_neg) / np.sum(actual_neg)\n",
    "    \n",
    "    return sensitivity, specificity, accuracy"
   ]
  },
  {
   "cell_type": "code",
   "execution_count": 81,
   "metadata": {},
   "outputs": [
    {
     "name": "stdout",
     "output_type": "stream",
     "text": [
      "Sensitivity: nan\n",
      "Specificity: nan\n",
      "Accuracy: 0.9500124347177319\n"
     ]
    },
    {
     "name": "stderr",
     "output_type": "stream",
     "text": [
      "C:\\Users\\ugure\\Anaconda3\\lib\\site-packages\\ipykernel_launcher.py:19: RuntimeWarning: invalid value encountered in longlong_scalars\n",
      "C:\\Users\\ugure\\Anaconda3\\lib\\site-packages\\ipykernel_launcher.py:20: RuntimeWarning: invalid value encountered in longlong_scalars\n"
     ]
    }
   ],
   "source": [
    "sensitivity, specificity, accuracy = calculate_sensitivity_specificity(y_test, y_pred_test)\n",
    "print ('Sensitivity:', sensitivity)\n",
    "print ('Specificity:', specificity)\n",
    "print ('Accuracy:', accuracy)"
   ]
  },
  {
   "cell_type": "code",
   "execution_count": null,
   "metadata": {},
   "outputs": [],
   "source": []
  }
 ],
 "metadata": {
  "kernelspec": {
   "display_name": "Python 3",
   "language": "python",
   "name": "python3"
  },
  "language_info": {
   "codemirror_mode": {
    "name": "ipython",
    "version": 3
   },
   "file_extension": ".py",
   "mimetype": "text/x-python",
   "name": "python",
   "nbconvert_exporter": "python",
   "pygments_lexer": "ipython3",
   "version": "3.7.4"
  }
 },
 "nbformat": 4,
 "nbformat_minor": 2
}
