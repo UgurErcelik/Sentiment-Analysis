{
  "nbformat": 4,
  "nbformat_minor": 0,
  "metadata": {
    "colab": {
      "name": "dbert.ipynb",
      "provenance": []
    },
    "kernelspec": {
      "name": "python3",
      "display_name": "Python 3"
    },
    "accelerator": "GPU",
    "widgets": {
      "application/vnd.jupyter.widget-state+json": {
        "90f169ecb5ea47c2aa2bc189c44603c6": {
          "model_module": "@jupyter-widgets/controls",
          "model_name": "HBoxModel",
          "state": {
            "_view_name": "HBoxView",
            "_dom_classes": [],
            "_model_name": "HBoxModel",
            "_view_module": "@jupyter-widgets/controls",
            "_model_module_version": "1.5.0",
            "_view_count": null,
            "_view_module_version": "1.5.0",
            "box_style": "",
            "layout": "IPY_MODEL_2feed6fe3a1f4df9ba1ee82a298a4b1a",
            "_model_module": "@jupyter-widgets/controls",
            "children": [
              "IPY_MODEL_4f2b5741b1ba455e830fe475003035fc",
              "IPY_MODEL_e4ab667103ee453da36afe6f8252bd2d",
              "IPY_MODEL_c65bc097311244c5983cb5bf9aa45979"
            ]
          }
        },
        "2feed6fe3a1f4df9ba1ee82a298a4b1a": {
          "model_module": "@jupyter-widgets/base",
          "model_name": "LayoutModel",
          "state": {
            "_view_name": "LayoutView",
            "grid_template_rows": null,
            "right": null,
            "justify_content": null,
            "_view_module": "@jupyter-widgets/base",
            "overflow": null,
            "_model_module_version": "1.2.0",
            "_view_count": null,
            "flex_flow": null,
            "width": null,
            "min_width": null,
            "border": null,
            "align_items": null,
            "bottom": null,
            "_model_module": "@jupyter-widgets/base",
            "top": null,
            "grid_column": null,
            "overflow_y": null,
            "overflow_x": null,
            "grid_auto_flow": null,
            "grid_area": null,
            "grid_template_columns": null,
            "flex": null,
            "_model_name": "LayoutModel",
            "justify_items": null,
            "grid_row": null,
            "max_height": null,
            "align_content": null,
            "visibility": null,
            "align_self": null,
            "height": null,
            "min_height": null,
            "padding": null,
            "grid_auto_rows": null,
            "grid_gap": null,
            "max_width": null,
            "order": null,
            "_view_module_version": "1.2.0",
            "grid_template_areas": null,
            "object_position": null,
            "object_fit": null,
            "grid_auto_columns": null,
            "margin": null,
            "display": null,
            "left": null
          }
        },
        "4f2b5741b1ba455e830fe475003035fc": {
          "model_module": "@jupyter-widgets/controls",
          "model_name": "HTMLModel",
          "state": {
            "_view_name": "HTMLView",
            "style": "IPY_MODEL_295ca2d6c3754a24aa0f642c591b740e",
            "_dom_classes": [],
            "description": "",
            "_model_name": "HTMLModel",
            "placeholder": "​",
            "_view_module": "@jupyter-widgets/controls",
            "_model_module_version": "1.5.0",
            "value": "Downloading:   1%",
            "_view_count": null,
            "_view_module_version": "1.5.0",
            "description_tooltip": null,
            "_model_module": "@jupyter-widgets/controls",
            "layout": "IPY_MODEL_8ab52f723fbc4e598c37de88636a6c6d"
          }
        },
        "e4ab667103ee453da36afe6f8252bd2d": {
          "model_module": "@jupyter-widgets/controls",
          "model_name": "FloatProgressModel",
          "state": {
            "_view_name": "ProgressView",
            "style": "IPY_MODEL_68a428b0c9f14286a542a442c9ba0533",
            "_dom_classes": [],
            "description": "",
            "_model_name": "FloatProgressModel",
            "bar_style": "danger",
            "max": 435779157,
            "_view_module": "@jupyter-widgets/controls",
            "_model_module_version": "1.5.0",
            "value": 4593664,
            "_view_count": null,
            "_view_module_version": "1.5.0",
            "orientation": "horizontal",
            "min": 0,
            "description_tooltip": null,
            "_model_module": "@jupyter-widgets/controls",
            "layout": "IPY_MODEL_b3418f06b55042b6b2c19bc4a5da76b7"
          }
        },
        "c65bc097311244c5983cb5bf9aa45979": {
          "model_module": "@jupyter-widgets/controls",
          "model_name": "HTMLModel",
          "state": {
            "_view_name": "HTMLView",
            "style": "IPY_MODEL_3774b28f01924481a8afacbb28e01c8e",
            "_dom_classes": [],
            "description": "",
            "_model_name": "HTMLModel",
            "placeholder": "​",
            "_view_module": "@jupyter-widgets/controls",
            "_model_module_version": "1.5.0",
            "value": " 4.59M/436M [00:00&lt;00:09, 45.9MB/s]",
            "_view_count": null,
            "_view_module_version": "1.5.0",
            "description_tooltip": null,
            "_model_module": "@jupyter-widgets/controls",
            "layout": "IPY_MODEL_e530a05bb73c47818fd1c29d4865b635"
          }
        },
        "295ca2d6c3754a24aa0f642c591b740e": {
          "model_module": "@jupyter-widgets/controls",
          "model_name": "DescriptionStyleModel",
          "state": {
            "_view_name": "StyleView",
            "_model_name": "DescriptionStyleModel",
            "description_width": "",
            "_view_module": "@jupyter-widgets/base",
            "_model_module_version": "1.5.0",
            "_view_count": null,
            "_view_module_version": "1.2.0",
            "_model_module": "@jupyter-widgets/controls"
          }
        },
        "8ab52f723fbc4e598c37de88636a6c6d": {
          "model_module": "@jupyter-widgets/base",
          "model_name": "LayoutModel",
          "state": {
            "_view_name": "LayoutView",
            "grid_template_rows": null,
            "right": null,
            "justify_content": null,
            "_view_module": "@jupyter-widgets/base",
            "overflow": null,
            "_model_module_version": "1.2.0",
            "_view_count": null,
            "flex_flow": null,
            "width": null,
            "min_width": null,
            "border": null,
            "align_items": null,
            "bottom": null,
            "_model_module": "@jupyter-widgets/base",
            "top": null,
            "grid_column": null,
            "overflow_y": null,
            "overflow_x": null,
            "grid_auto_flow": null,
            "grid_area": null,
            "grid_template_columns": null,
            "flex": null,
            "_model_name": "LayoutModel",
            "justify_items": null,
            "grid_row": null,
            "max_height": null,
            "align_content": null,
            "visibility": null,
            "align_self": null,
            "height": null,
            "min_height": null,
            "padding": null,
            "grid_auto_rows": null,
            "grid_gap": null,
            "max_width": null,
            "order": null,
            "_view_module_version": "1.2.0",
            "grid_template_areas": null,
            "object_position": null,
            "object_fit": null,
            "grid_auto_columns": null,
            "margin": null,
            "display": null,
            "left": null
          }
        },
        "68a428b0c9f14286a542a442c9ba0533": {
          "model_module": "@jupyter-widgets/controls",
          "model_name": "ProgressStyleModel",
          "state": {
            "_view_name": "StyleView",
            "_model_name": "ProgressStyleModel",
            "description_width": "",
            "_view_module": "@jupyter-widgets/base",
            "_model_module_version": "1.5.0",
            "_view_count": null,
            "_view_module_version": "1.2.0",
            "bar_color": null,
            "_model_module": "@jupyter-widgets/controls"
          }
        },
        "b3418f06b55042b6b2c19bc4a5da76b7": {
          "model_module": "@jupyter-widgets/base",
          "model_name": "LayoutModel",
          "state": {
            "_view_name": "LayoutView",
            "grid_template_rows": null,
            "right": null,
            "justify_content": null,
            "_view_module": "@jupyter-widgets/base",
            "overflow": null,
            "_model_module_version": "1.2.0",
            "_view_count": null,
            "flex_flow": null,
            "width": null,
            "min_width": null,
            "border": null,
            "align_items": null,
            "bottom": null,
            "_model_module": "@jupyter-widgets/base",
            "top": null,
            "grid_column": null,
            "overflow_y": null,
            "overflow_x": null,
            "grid_auto_flow": null,
            "grid_area": null,
            "grid_template_columns": null,
            "flex": null,
            "_model_name": "LayoutModel",
            "justify_items": null,
            "grid_row": null,
            "max_height": null,
            "align_content": null,
            "visibility": null,
            "align_self": null,
            "height": null,
            "min_height": null,
            "padding": null,
            "grid_auto_rows": null,
            "grid_gap": null,
            "max_width": null,
            "order": null,
            "_view_module_version": "1.2.0",
            "grid_template_areas": null,
            "object_position": null,
            "object_fit": null,
            "grid_auto_columns": null,
            "margin": null,
            "display": null,
            "left": null
          }
        },
        "3774b28f01924481a8afacbb28e01c8e": {
          "model_module": "@jupyter-widgets/controls",
          "model_name": "DescriptionStyleModel",
          "state": {
            "_view_name": "StyleView",
            "_model_name": "DescriptionStyleModel",
            "description_width": "",
            "_view_module": "@jupyter-widgets/base",
            "_model_module_version": "1.5.0",
            "_view_count": null,
            "_view_module_version": "1.2.0",
            "_model_module": "@jupyter-widgets/controls"
          }
        },
        "e530a05bb73c47818fd1c29d4865b635": {
          "model_module": "@jupyter-widgets/base",
          "model_name": "LayoutModel",
          "state": {
            "_view_name": "LayoutView",
            "grid_template_rows": null,
            "right": null,
            "justify_content": null,
            "_view_module": "@jupyter-widgets/base",
            "overflow": null,
            "_model_module_version": "1.2.0",
            "_view_count": null,
            "flex_flow": null,
            "width": null,
            "min_width": null,
            "border": null,
            "align_items": null,
            "bottom": null,
            "_model_module": "@jupyter-widgets/base",
            "top": null,
            "grid_column": null,
            "overflow_y": null,
            "overflow_x": null,
            "grid_auto_flow": null,
            "grid_area": null,
            "grid_template_columns": null,
            "flex": null,
            "_model_name": "LayoutModel",
            "justify_items": null,
            "grid_row": null,
            "max_height": null,
            "align_content": null,
            "visibility": null,
            "align_self": null,
            "height": null,
            "min_height": null,
            "padding": null,
            "grid_auto_rows": null,
            "grid_gap": null,
            "max_width": null,
            "order": null,
            "_view_module_version": "1.2.0",
            "grid_template_areas": null,
            "object_position": null,
            "object_fit": null,
            "grid_auto_columns": null,
            "margin": null,
            "display": null,
            "left": null
          }
        }
      }
    }
  },
  "cells": [
    {
      "cell_type": "code",
      "metadata": {
        "id": "WINfTEIoi1gF"
      },
      "source": [
        "import pandas as pd\r\n",
        "import numpy as np\r\n",
        "from textblob import TextBlob\r\n",
        "import pandas as pd\r\n",
        "from spacy.tokenizer import Tokenizer\r\n",
        "from spacy.lang.tr import Turkish\r\n",
        "from tqdm import tqdm\r\n",
        "from wordcloud import WordCloud\r\n",
        "import matplotlib.pyplot as plt\r\n",
        "from sklearn import preprocessing\r\n",
        "from sklearn.feature_extraction.text import TfidfVectorizer\r\n",
        "from sklearn.model_selection import train_test_split\r\n",
        "#import torch\r\n",
        "#import transformers as ppb # pytorch transformers\r\n",
        "from sklearn.linear_model import LogisticRegression\r\n",
        "from sklearn.model_selection import cross_val_score"
      ],
      "execution_count": 49,
      "outputs": []
    },
    {
      "cell_type": "code",
      "metadata": {
        "colab": {
          "resources": {
            "http://localhost:8080/nbextensions/google.colab/files.js": {
              "data": "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",
              "ok": true,
              "headers": [
                [
                  "content-type",
                  "application/javascript"
                ]
              ],
              "status": 200,
              "status_text": ""
            }
          },
          "base_uri": "https://localhost:8080/",
          "height": 458
        },
        "id": "1IZC2Zcui5je",
        "outputId": "e07b0fe7-97cc-440e-98ab-3727e430307e"
      },
      "source": [
        "import pandas as pd\r\n",
        "import io\r\n",
        "from google.colab import files\r\n",
        "\r\n",
        "uploaded = files.upload()\r\n",
        "\r\n",
        "data = pd.read_csv(io.StringIO(uploaded['lemessi10.csv'].decode('utf-8')))\r\n",
        "data"
      ],
      "execution_count": 50,
      "outputs": [
        {
          "output_type": "display_data",
          "data": {
            "text/html": [
              "\n",
              "     <input type=\"file\" id=\"files-8cbbd10d-ae95-40b8-b9ea-0eed436d4365\" name=\"files[]\" multiple disabled\n",
              "        style=\"border:none\" />\n",
              "     <output id=\"result-8cbbd10d-ae95-40b8-b9ea-0eed436d4365\">\n",
              "      Upload widget is only available when the cell has been executed in the\n",
              "      current browser session. Please rerun this cell to enable.\n",
              "      </output>\n",
              "      <script src=\"/nbextensions/google.colab/files.js\"></script> "
            ],
            "text/plain": [
              "<IPython.core.display.HTML object>"
            ]
          },
          "metadata": {
            "tags": []
          }
        },
        {
          "output_type": "stream",
          "text": [
            "Saving lemessi10.csv to lemessi10 (3).csv\n"
          ],
          "name": "stdout"
        },
        {
          "output_type": "execute_result",
          "data": {
            "text/html": [
              "<div>\n",
              "<style scoped>\n",
              "    .dataframe tbody tr th:only-of-type {\n",
              "        vertical-align: middle;\n",
              "    }\n",
              "\n",
              "    .dataframe tbody tr th {\n",
              "        vertical-align: top;\n",
              "    }\n",
              "\n",
              "    .dataframe thead th {\n",
              "        text-align: right;\n",
              "    }\n",
              "</style>\n",
              "<table border=\"1\" class=\"dataframe\">\n",
              "  <thead>\n",
              "    <tr style=\"text-align: right;\">\n",
              "      <th></th>\n",
              "      <th>tweet</th>\n",
              "    </tr>\n",
              "  </thead>\n",
              "  <tbody>\n",
              "    <tr>\n",
              "      <th>0</th>\n",
              "      <td>leo messi cristiano special competition among us easy situation keep high level long rivalry ronaldo remain peoples mind forever</td>\n",
              "    </tr>\n",
              "    <tr>\n",
              "      <th>1</th>\n",
              "      <td>poles stop leo messi</td>\n",
              "    </tr>\n",
              "    <tr>\n",
              "      <th>2</th>\n",
              "      <td>la liga goal assist king champions league top scorer name deserving mediocre team valde alone sirtladiballondor goat leo messi ballondor</td>\n",
              "    </tr>\n",
              "    <tr>\n",
              "      <th>3</th>\n",
              "      <td>leo messi became first player score goal different team champions league</td>\n",
              "    </tr>\n",
              "    <tr>\n",
              "      <th>4</th>\n",
              "      <td>come tomorrow start work fenerbahçe</td>\n",
              "    </tr>\n",
              "    <tr>\n",
              "      <th>...</th>\n",
              "      <td>...</td>\n",
              "    </tr>\n",
              "    <tr>\n",
              "      <th>20099</th>\n",
              "      <td>via drawing lionel messi art lionelmessi barcelona charcoal</td>\n",
              "    </tr>\n",
              "    <tr>\n",
              "      <th>20100</th>\n",
              "      <td>lionel messi made funny comment allegations made coach selection argentina national team</td>\n",
              "    </tr>\n",
              "    <tr>\n",
              "      <th>20101</th>\n",
              "      <td>lionelmessi dont worry messi father go jail give total million euros lionel messi</td>\n",
              "    </tr>\n",
              "    <tr>\n",
              "      <th>20102</th>\n",
              "      <td>lionel messi without detonating bomb</td>\n",
              "    </tr>\n",
              "    <tr>\n",
              "      <th>20103</th>\n",
              "      <td>lionel messi lottery offer galatasaraya</td>\n",
              "    </tr>\n",
              "  </tbody>\n",
              "</table>\n",
              "<p>20104 rows × 1 columns</p>\n",
              "</div>"
            ],
            "text/plain": [
              "                                                                                                                                          tweet\n",
              "0      leo messi cristiano special competition among us easy situation keep high level long rivalry ronaldo remain peoples mind forever        \n",
              "1      poles stop leo messi                                                                                                                    \n",
              "2      la liga goal assist king champions league top scorer name deserving mediocre team valde alone sirtladiballondor goat leo messi ballondor\n",
              "3      leo messi became first player score goal different team champions league                                                                \n",
              "4      come tomorrow start work fenerbahçe                                                                                                     \n",
              "...                                    ...                                                                                                     \n",
              "20099  via drawing lionel messi art lionelmessi barcelona charcoal                                                                             \n",
              "20100  lionel messi made funny comment allegations made coach selection argentina national team                                                \n",
              "20101  lionelmessi dont worry messi father go jail give total million euros lionel messi                                                       \n",
              "20102  lionel messi without detonating bomb                                                                                                    \n",
              "20103  lionel messi lottery offer galatasaraya                                                                                                 \n",
              "\n",
              "[20104 rows x 1 columns]"
            ]
          },
          "metadata": {
            "tags": []
          },
          "execution_count": 50
        }
      ]
    },
    {
      "cell_type": "code",
      "metadata": {
        "id": "L1d_NS-8i8td",
        "colab": {
          "base_uri": "https://localhost:8080/",
          "height": 402
        },
        "outputId": "82a24711-1a54-4207-fbba-98f33fd11413"
      },
      "source": [
        "def getSubjectivity(text):\r\n",
        "    return TextBlob(text).sentiment.subjectivity\r\n",
        "\r\n",
        "def getPolarity(text):\r\n",
        "    return TextBlob(text).sentiment.polarity\r\n",
        "\r\n",
        "data['Subjectivity'] = data['tweet'].apply(getSubjectivity)\r\n",
        "data['Polarity'] = data['tweet'].apply(getPolarity)\r\n",
        "\r\n",
        "data"
      ],
      "execution_count": 51,
      "outputs": [
        {
          "output_type": "execute_result",
          "data": {
            "text/html": [
              "<div>\n",
              "<style scoped>\n",
              "    .dataframe tbody tr th:only-of-type {\n",
              "        vertical-align: middle;\n",
              "    }\n",
              "\n",
              "    .dataframe tbody tr th {\n",
              "        vertical-align: top;\n",
              "    }\n",
              "\n",
              "    .dataframe thead th {\n",
              "        text-align: right;\n",
              "    }\n",
              "</style>\n",
              "<table border=\"1\" class=\"dataframe\">\n",
              "  <thead>\n",
              "    <tr style=\"text-align: right;\">\n",
              "      <th></th>\n",
              "      <th>tweet</th>\n",
              "      <th>Subjectivity</th>\n",
              "      <th>Polarity</th>\n",
              "    </tr>\n",
              "  </thead>\n",
              "  <tbody>\n",
              "    <tr>\n",
              "      <th>0</th>\n",
              "      <td>leo messi cristiano special competition among us easy situation keep high level long rivalry ronaldo remain peoples mind forever</td>\n",
              "      <td>0.586190</td>\n",
              "      <td>0.225119</td>\n",
              "    </tr>\n",
              "    <tr>\n",
              "      <th>1</th>\n",
              "      <td>poles stop leo messi</td>\n",
              "      <td>0.000000</td>\n",
              "      <td>0.000000</td>\n",
              "    </tr>\n",
              "    <tr>\n",
              "      <th>2</th>\n",
              "      <td>la liga goal assist king champions league top scorer name deserving mediocre team valde alone sirtladiballondor goat leo messi ballondor</td>\n",
              "      <td>0.766667</td>\n",
              "      <td>0.200000</td>\n",
              "    </tr>\n",
              "    <tr>\n",
              "      <th>3</th>\n",
              "      <td>leo messi became first player score goal different team champions league</td>\n",
              "      <td>0.466667</td>\n",
              "      <td>0.125000</td>\n",
              "    </tr>\n",
              "    <tr>\n",
              "      <th>4</th>\n",
              "      <td>come tomorrow start work fenerbahçe</td>\n",
              "      <td>0.000000</td>\n",
              "      <td>0.000000</td>\n",
              "    </tr>\n",
              "    <tr>\n",
              "      <th>...</th>\n",
              "      <td>...</td>\n",
              "      <td>...</td>\n",
              "      <td>...</td>\n",
              "    </tr>\n",
              "    <tr>\n",
              "      <th>20099</th>\n",
              "      <td>via drawing lionel messi art lionelmessi barcelona charcoal</td>\n",
              "      <td>0.000000</td>\n",
              "      <td>0.000000</td>\n",
              "    </tr>\n",
              "    <tr>\n",
              "      <th>20100</th>\n",
              "      <td>lionel messi made funny comment allegations made coach selection argentina national team</td>\n",
              "      <td>1.000000</td>\n",
              "      <td>0.250000</td>\n",
              "    </tr>\n",
              "    <tr>\n",
              "      <th>20101</th>\n",
              "      <td>lionelmessi dont worry messi father go jail give total million euros lionel messi</td>\n",
              "      <td>0.375000</td>\n",
              "      <td>-0.050000</td>\n",
              "    </tr>\n",
              "    <tr>\n",
              "      <th>20102</th>\n",
              "      <td>lionel messi without detonating bomb</td>\n",
              "      <td>0.000000</td>\n",
              "      <td>0.000000</td>\n",
              "    </tr>\n",
              "    <tr>\n",
              "      <th>20103</th>\n",
              "      <td>lionel messi lottery offer galatasaraya</td>\n",
              "      <td>0.000000</td>\n",
              "      <td>0.000000</td>\n",
              "    </tr>\n",
              "  </tbody>\n",
              "</table>\n",
              "<p>20104 rows × 3 columns</p>\n",
              "</div>"
            ],
            "text/plain": [
              "                                                                                                                                          tweet  ...  Polarity\n",
              "0      leo messi cristiano special competition among us easy situation keep high level long rivalry ronaldo remain peoples mind forever          ...  0.225119\n",
              "1      poles stop leo messi                                                                                                                      ...  0.000000\n",
              "2      la liga goal assist king champions league top scorer name deserving mediocre team valde alone sirtladiballondor goat leo messi ballondor  ...  0.200000\n",
              "3      leo messi became first player score goal different team champions league                                                                  ...  0.125000\n",
              "4      come tomorrow start work fenerbahçe                                                                                                       ...  0.000000\n",
              "...                                    ...                                                                                                       ...       ...\n",
              "20099  via drawing lionel messi art lionelmessi barcelona charcoal                                                                               ...  0.000000\n",
              "20100  lionel messi made funny comment allegations made coach selection argentina national team                                                  ...  0.250000\n",
              "20101  lionelmessi dont worry messi father go jail give total million euros lionel messi                                                         ... -0.050000\n",
              "20102  lionel messi without detonating bomb                                                                                                      ...  0.000000\n",
              "20103  lionel messi lottery offer galatasaraya                                                                                                   ...  0.000000\n",
              "\n",
              "[20104 rows x 3 columns]"
            ]
          },
          "metadata": {
            "tags": []
          },
          "execution_count": 51
        }
      ]
    },
    {
      "cell_type": "code",
      "metadata": {
        "colab": {
          "base_uri": "https://localhost:8080/",
          "height": 402
        },
        "id": "aY_lytBabIhd",
        "outputId": "354e3624-5bff-4684-cc1f-0bd52728c420"
      },
      "source": [
        "def getAnalysis(score):\r\n",
        "    if score<0:\r\n",
        "        return 'Negative'\r\n",
        "    elif score==0:\r\n",
        "        return 'Neutral'\r\n",
        "    else:\r\n",
        "        return 'Positive'\r\n",
        "    \r\n",
        "data['Analysis'] = data['Polarity'].apply(getAnalysis)\r\n",
        "data"
      ],
      "execution_count": 52,
      "outputs": [
        {
          "output_type": "execute_result",
          "data": {
            "text/html": [
              "<div>\n",
              "<style scoped>\n",
              "    .dataframe tbody tr th:only-of-type {\n",
              "        vertical-align: middle;\n",
              "    }\n",
              "\n",
              "    .dataframe tbody tr th {\n",
              "        vertical-align: top;\n",
              "    }\n",
              "\n",
              "    .dataframe thead th {\n",
              "        text-align: right;\n",
              "    }\n",
              "</style>\n",
              "<table border=\"1\" class=\"dataframe\">\n",
              "  <thead>\n",
              "    <tr style=\"text-align: right;\">\n",
              "      <th></th>\n",
              "      <th>tweet</th>\n",
              "      <th>Subjectivity</th>\n",
              "      <th>Polarity</th>\n",
              "      <th>Analysis</th>\n",
              "    </tr>\n",
              "  </thead>\n",
              "  <tbody>\n",
              "    <tr>\n",
              "      <th>0</th>\n",
              "      <td>leo messi cristiano special competition among us easy situation keep high level long rivalry ronaldo remain peoples mind forever</td>\n",
              "      <td>0.586190</td>\n",
              "      <td>0.225119</td>\n",
              "      <td>Positive</td>\n",
              "    </tr>\n",
              "    <tr>\n",
              "      <th>1</th>\n",
              "      <td>poles stop leo messi</td>\n",
              "      <td>0.000000</td>\n",
              "      <td>0.000000</td>\n",
              "      <td>Neutral</td>\n",
              "    </tr>\n",
              "    <tr>\n",
              "      <th>2</th>\n",
              "      <td>la liga goal assist king champions league top scorer name deserving mediocre team valde alone sirtladiballondor goat leo messi ballondor</td>\n",
              "      <td>0.766667</td>\n",
              "      <td>0.200000</td>\n",
              "      <td>Positive</td>\n",
              "    </tr>\n",
              "    <tr>\n",
              "      <th>3</th>\n",
              "      <td>leo messi became first player score goal different team champions league</td>\n",
              "      <td>0.466667</td>\n",
              "      <td>0.125000</td>\n",
              "      <td>Positive</td>\n",
              "    </tr>\n",
              "    <tr>\n",
              "      <th>4</th>\n",
              "      <td>come tomorrow start work fenerbahçe</td>\n",
              "      <td>0.000000</td>\n",
              "      <td>0.000000</td>\n",
              "      <td>Neutral</td>\n",
              "    </tr>\n",
              "    <tr>\n",
              "      <th>...</th>\n",
              "      <td>...</td>\n",
              "      <td>...</td>\n",
              "      <td>...</td>\n",
              "      <td>...</td>\n",
              "    </tr>\n",
              "    <tr>\n",
              "      <th>20099</th>\n",
              "      <td>via drawing lionel messi art lionelmessi barcelona charcoal</td>\n",
              "      <td>0.000000</td>\n",
              "      <td>0.000000</td>\n",
              "      <td>Neutral</td>\n",
              "    </tr>\n",
              "    <tr>\n",
              "      <th>20100</th>\n",
              "      <td>lionel messi made funny comment allegations made coach selection argentina national team</td>\n",
              "      <td>1.000000</td>\n",
              "      <td>0.250000</td>\n",
              "      <td>Positive</td>\n",
              "    </tr>\n",
              "    <tr>\n",
              "      <th>20101</th>\n",
              "      <td>lionelmessi dont worry messi father go jail give total million euros lionel messi</td>\n",
              "      <td>0.375000</td>\n",
              "      <td>-0.050000</td>\n",
              "      <td>Negative</td>\n",
              "    </tr>\n",
              "    <tr>\n",
              "      <th>20102</th>\n",
              "      <td>lionel messi without detonating bomb</td>\n",
              "      <td>0.000000</td>\n",
              "      <td>0.000000</td>\n",
              "      <td>Neutral</td>\n",
              "    </tr>\n",
              "    <tr>\n",
              "      <th>20103</th>\n",
              "      <td>lionel messi lottery offer galatasaraya</td>\n",
              "      <td>0.000000</td>\n",
              "      <td>0.000000</td>\n",
              "      <td>Neutral</td>\n",
              "    </tr>\n",
              "  </tbody>\n",
              "</table>\n",
              "<p>20104 rows × 4 columns</p>\n",
              "</div>"
            ],
            "text/plain": [
              "                                                                                                                                          tweet  ...  Analysis\n",
              "0      leo messi cristiano special competition among us easy situation keep high level long rivalry ronaldo remain peoples mind forever          ...  Positive\n",
              "1      poles stop leo messi                                                                                                                      ...  Neutral \n",
              "2      la liga goal assist king champions league top scorer name deserving mediocre team valde alone sirtladiballondor goat leo messi ballondor  ...  Positive\n",
              "3      leo messi became first player score goal different team champions league                                                                  ...  Positive\n",
              "4      come tomorrow start work fenerbahçe                                                                                                       ...  Neutral \n",
              "...                                    ...                                                                                                       ...      ... \n",
              "20099  via drawing lionel messi art lionelmessi barcelona charcoal                                                                               ...  Neutral \n",
              "20100  lionel messi made funny comment allegations made coach selection argentina national team                                                  ...  Positive\n",
              "20101  lionelmessi dont worry messi father go jail give total million euros lionel messi                                                         ...  Negative\n",
              "20102  lionel messi without detonating bomb                                                                                                      ...  Neutral \n",
              "20103  lionel messi lottery offer galatasaraya                                                                                                   ...  Neutral \n",
              "\n",
              "[20104 rows x 4 columns]"
            ]
          },
          "metadata": {
            "tags": []
          },
          "execution_count": 52
        }
      ]
    },
    {
      "cell_type": "code",
      "metadata": {
        "id": "o9uE9kfSbNBE"
      },
      "source": [
        "import matplotlib.pyplot as plt\r\n",
        "import seaborn as sns"
      ],
      "execution_count": 53,
      "outputs": []
    },
    {
      "cell_type": "code",
      "metadata": {
        "colab": {
          "base_uri": "https://localhost:8080/",
          "height": 530
        },
        "id": "svXAl-1JbQst",
        "outputId": "56bb955f-d1ca-4f67-ef3c-de3245e0093e"
      },
      "source": [
        "data['n_words'] = [len(t.split()) for t in data.tweet]\r\n",
        "\r\n",
        "fig = plt.figure(figsize = (15, 6))\r\n",
        "sns.distplot(data['n_words'][data['Analysis']=='Positive'], color='g', label = 'Positive')\r\n",
        "sns.distplot(data['n_words'][data['Analysis']=='Negative'], color='r', label = 'Negative')\r\n",
        "sns.distplot(data['n_words'][data['Analysis']=='Neutral'], color='b', label = 'Neutral')\r\n",
        "plt.legend(loc='best')\r\n",
        "plt.xlabel('# of Words', size = 14)\r\n",
        "plt.ylabel('Count', size = 14)\r\n",
        "plt.title('The Distribution of Number of Words for each Class', fontsize = 14)\r\n",
        "plt.show()"
      ],
      "execution_count": 54,
      "outputs": [
        {
          "output_type": "stream",
          "text": [
            "/usr/local/lib/python3.6/dist-packages/seaborn/distributions.py:2551: FutureWarning: `distplot` is a deprecated function and will be removed in a future version. Please adapt your code to use either `displot` (a figure-level function with similar flexibility) or `histplot` (an axes-level function for histograms).\n",
            "  warnings.warn(msg, FutureWarning)\n",
            "/usr/local/lib/python3.6/dist-packages/seaborn/distributions.py:2551: FutureWarning: `distplot` is a deprecated function and will be removed in a future version. Please adapt your code to use either `displot` (a figure-level function with similar flexibility) or `histplot` (an axes-level function for histograms).\n",
            "  warnings.warn(msg, FutureWarning)\n",
            "/usr/local/lib/python3.6/dist-packages/seaborn/distributions.py:2551: FutureWarning: `distplot` is a deprecated function and will be removed in a future version. Please adapt your code to use either `displot` (a figure-level function with similar flexibility) or `histplot` (an axes-level function for histograms).\n",
            "  warnings.warn(msg, FutureWarning)\n"
          ],
          "name": "stderr"
        },
        {
          "output_type": "display_data",
          "data": {
            "image/png": "[encoded data removed]",
            "text/plain": [
              "<Figure size 1080x432 with 1 Axes>"
            ]
          },
          "metadata": {
            "tags": [],
            "needs_background": "light"
          }
        }
      ]
    },
    {
      "cell_type": "code",
      "metadata": {
        "colab": {
          "base_uri": "https://localhost:8080/",
          "height": 211
        },
        "id": "7tOkYTQGbUul",
        "outputId": "82b412ff-4c38-401e-d871-785af79e4df7"
      },
      "source": [
        "import matplotlib.pyplot as plt\r\n",
        "sentiment_counts = data.Analysis.value_counts()\r\n",
        "names = ['Negative', 'Neutral', 'Positive']\r\n",
        "values = sentiment_counts.values\r\n",
        "plt.figure(figsize=(30, 3))\r\n",
        "plt.subplot(131)\r\n",
        "plt.bar(names, values)\r\n",
        "plt.show()"
      ],
      "execution_count": 55,
      "outputs": [
        {
          "output_type": "display_data",
          "data": {
            "image/png": "[encoded data removed]",
            "text/plain": [
              "<Figure size 2160x216 with 1 Axes>"
            ]
          },
          "metadata": {
            "tags": [],
            "needs_background": "light"
          }
        }
      ]
    },
    {
      "cell_type": "code",
      "metadata": {
        "colab": {
          "base_uri": "https://localhost:8080/"
        },
        "id": "pXcuF8ijbqbj",
        "outputId": "56afee5f-762b-460f-9040-6733cf517fdb"
      },
      "source": [
        "import nltk\r\n",
        "nltk.download('stopwords')\r\n",
        "nltk.download('punkt')\r\n",
        "nltk.download('wordnet')"
      ],
      "execution_count": 56,
      "outputs": [
        {
          "output_type": "stream",
          "text": [
            "[nltk_data] Downloading package stopwords to /root/nltk_data...\n",
            "[nltk_data]   Package stopwords is already up-to-date!\n",
            "[nltk_data] Downloading package punkt to /root/nltk_data...\n",
            "[nltk_data]   Package punkt is already up-to-date!\n",
            "[nltk_data] Downloading package wordnet to /root/nltk_data...\n",
            "[nltk_data]   Package wordnet is already up-to-date!\n"
          ],
          "name": "stdout"
        },
        {
          "output_type": "execute_result",
          "data": {
            "text/plain": [
              "True"
            ]
          },
          "metadata": {
            "tags": []
          },
          "execution_count": 56
        }
      ]
    },
    {
      "cell_type": "code",
      "metadata": {
        "id": "8NCP9E75bYqn"
      },
      "source": [
        "import re, nltk\r\n",
        "from nltk.stem import WordNetLemmatizer\r\n",
        "from nltk.corpus import stopwords\r\n",
        "stop_words = set(stopwords.words('english'))\r\n",
        "wordnet_lemmatizer = WordNetLemmatizer()\r\n",
        "\r\n",
        "def normalizer(tweet):\r\n",
        "    text = re.sub(r\"http:(\\/\\/t\\.co\\/([A-Za-z0-9]|[A-Za-z]){10})\", \"\", tweet)\r\n",
        "    only_letters = re.sub(\"[^a-zA-Z]\", \" \",text) \r\n",
        "   #tokens = nltk.word_tokenize(only_letters)[2:] #delete airline name\r\n",
        "    tokens = nltk.word_tokenize(only_letters)[:] #include airline name\r\n",
        "    lower_case = [l.lower() for l in tokens]\r\n",
        "    #filtered_result = list(filter(lambda l: l not in stop_words, lower_case))\r\n",
        "    lemmas = [wordnet_lemmatizer.lemmatize(t) for t in lower_case]\r\n",
        "    \r\n",
        "    return ' '.join(lemmas)\r\n",
        "   #return lemmas\r\n",
        "def normalizer2(tweet):\r\n",
        "    text = re.sub(r\"http:(\\/\\/t\\.co\\/([A-Za-z0-9]|[A-Za-z]){10})\", \"\", tweet)\r\n",
        "    only_letters = re.sub(\"[^a-zA-Z]\", \" \",text) \r\n",
        "    tokens = nltk.word_tokenize(only_letters)[:] #include airline name\r\n",
        "    lower_case = [l.lower() for l in tokens]\r\n",
        "    filtered_result = list(filter(lambda l: l not in stop_words, lower_case))\r\n",
        "    lemmas = [wordnet_lemmatizer.lemmatize(t) for t in filtered_result]\r\n",
        "    return lemmas\r\n",
        "    \r\n",
        "def column(matrix, i):\r\n",
        "    return [row[i] for row in matrix]"
      ],
      "execution_count": 57,
      "outputs": []
    },
    {
      "cell_type": "code",
      "metadata": {
        "id": "HfhWJfxqbtfK"
      },
      "source": [
        "#pd.set_option('display.max_colwidth', -1) # Setting this so we can see the full content of cells\r\n",
        "data['normalized_tweet'] = data.tweet.apply(normalizer)\r\n",
        "data[['tweet','normalized_tweet']].head()\r\n",
        "data['normalized_tweet_tokens'] = data.tweet.apply(normalizer2)"
      ],
      "execution_count": 58,
      "outputs": []
    },
    {
      "cell_type": "code",
      "metadata": {
        "colab": {
          "base_uri": "https://localhost:8080/",
          "height": 296
        },
        "id": "1Rp9B36zbyUD",
        "outputId": "cfb32dba-231b-47e3-ee9c-1a0561b21177"
      },
      "source": [
        "from nltk import ngrams\r\n",
        "def ngrams(input_list):\r\n",
        "    onegrams = input_list\r\n",
        "    bigrams = [' '.join(t) for t in list(zip(input_list, input_list[1:]))]\r\n",
        "    trigrams = [' '.join(t) for t in list(zip(input_list, input_list[1:], input_list[2:]))]\r\n",
        "    return bigrams+trigrams\r\n",
        "data['grams'] = data.normalized_tweet_tokens.apply(ngrams)\r\n",
        "data[['grams']].head()"
      ],
      "execution_count": 59,
      "outputs": [
        {
          "output_type": "execute_result",
          "data": {
            "text/html": [
              "<div>\n",
              "<style scoped>\n",
              "    .dataframe tbody tr th:only-of-type {\n",
              "        vertical-align: middle;\n",
              "    }\n",
              "\n",
              "    .dataframe tbody tr th {\n",
              "        vertical-align: top;\n",
              "    }\n",
              "\n",
              "    .dataframe thead th {\n",
              "        text-align: right;\n",
              "    }\n",
              "</style>\n",
              "<table border=\"1\" class=\"dataframe\">\n",
              "  <thead>\n",
              "    <tr style=\"text-align: right;\">\n",
              "      <th></th>\n",
              "      <th>grams</th>\n",
              "    </tr>\n",
              "  </thead>\n",
              "  <tbody>\n",
              "    <tr>\n",
              "      <th>0</th>\n",
              "      <td>[leo messi, messi cristiano, cristiano special, special competition, competition among, among u, u easy, easy situation, situation keep, keep high, high level, level long, long rivalry, rivalry ronaldo, ronaldo remain, remain people, people mind, mind forever, leo messi cristiano, messi cristiano special, cristiano special competition, special competition among, competition among u, among u easy, u easy situation, easy situation keep, situation keep high, keep high level, high level long, level long rivalry, long rivalry ronaldo, rivalry ronaldo remain, ronaldo remain people, remain people mind, people mind forever]</td>\n",
              "    </tr>\n",
              "    <tr>\n",
              "      <th>1</th>\n",
              "      <td>[pole stop, stop leo, leo messi, pole stop leo, stop leo messi]</td>\n",
              "    </tr>\n",
              "    <tr>\n",
              "      <th>2</th>\n",
              "      <td>[la liga, liga goal, goal assist, assist king, king champion, champion league, league top, top scorer, scorer name, name deserving, deserving mediocre, mediocre team, team valde, valde alone, alone sirtladiballondor, sirtladiballondor goat, goat leo, leo messi, messi ballondor, la liga goal, liga goal assist, goal assist king, assist king champion, king champion league, champion league top, league top scorer, top scorer name, scorer name deserving, name deserving mediocre, deserving mediocre team, mediocre team valde, team valde alone, valde alone sirtladiballondor, alone sirtladiballondor goat, sirtladiballondor goat leo, goat leo messi, leo messi ballondor]</td>\n",
              "    </tr>\n",
              "    <tr>\n",
              "      <th>3</th>\n",
              "      <td>[leo messi, messi became, became first, first player, player score, score goal, goal different, different team, team champion, champion league, leo messi became, messi became first, became first player, first player score, player score goal, score goal different, goal different team, different team champion, team champion league]</td>\n",
              "    </tr>\n",
              "    <tr>\n",
              "      <th>4</th>\n",
              "      <td>[come tomorrow, tomorrow start, start work, work fenerbah, fenerbah e, come tomorrow start, tomorrow start work, start work fenerbah, work fenerbah e]</td>\n",
              "    </tr>\n",
              "  </tbody>\n",
              "</table>\n",
              "</div>"
            ],
            "text/plain": [
              "                                                                                                                                                                                                                                                                                                                                                                                                                                                                                                                                                                                                                                                                                         grams\n",
              "0  [leo messi, messi cristiano, cristiano special, special competition, competition among, among u, u easy, easy situation, situation keep, keep high, high level, level long, long rivalry, rivalry ronaldo, ronaldo remain, remain people, people mind, mind forever, leo messi cristiano, messi cristiano special, cristiano special competition, special competition among, competition among u, among u easy, u easy situation, easy situation keep, situation keep high, keep high level, high level long, level long rivalry, long rivalry ronaldo, rivalry ronaldo remain, ronaldo remain people, remain people mind, people mind forever]                                            \n",
              "1  [pole stop, stop leo, leo messi, pole stop leo, stop leo messi]                                                                                                                                                                                                                                                                                                                                                                                                                                                                                                                                                                                                                            \n",
              "2  [la liga, liga goal, goal assist, assist king, king champion, champion league, league top, top scorer, scorer name, name deserving, deserving mediocre, mediocre team, team valde, valde alone, alone sirtladiballondor, sirtladiballondor goat, goat leo, leo messi, messi ballondor, la liga goal, liga goal assist, goal assist king, assist king champion, king champion league, champion league top, league top scorer, top scorer name, scorer name deserving, name deserving mediocre, deserving mediocre team, mediocre team valde, team valde alone, valde alone sirtladiballondor, alone sirtladiballondor goat, sirtladiballondor goat leo, goat leo messi, leo messi ballondor]\n",
              "3  [leo messi, messi became, became first, first player, player score, score goal, goal different, different team, team champion, champion league, leo messi became, messi became first, became first player, first player score, player score goal, score goal different, goal different team, different team champion, team champion league]                                                                                                                                                                                                                                                                                                                                                \n",
              "4  [come tomorrow, tomorrow start, start work, work fenerbah, fenerbah e, come tomorrow start, tomorrow start work, start work fenerbah, work fenerbah e]                                                                                                                                                                                                                                                                                                                                                                                                                                                                                                                                     "
            ]
          },
          "metadata": {
            "tags": []
          },
          "execution_count": 59
        }
      ]
    },
    {
      "cell_type": "code",
      "metadata": {
        "id": "Hd1W7ms7b02a"
      },
      "source": [
        "def sentiment2target(sentiment):\r\n",
        "    return {\r\n",
        "        'Negative': 0,\r\n",
        "        'Neutral': 1,\r\n",
        "        'Positive' : 2\r\n",
        "    }[sentiment]\r\n",
        "targets = data.Analysis.apply(sentiment2target)"
      ],
      "execution_count": 60,
      "outputs": []
    },
    {
      "cell_type": "code",
      "metadata": {
        "id": "u8nuj-sQb5p8"
      },
      "source": [
        "from sklearn.model_selection import train_test_split\r\n",
        "import numpy as np\r\n",
        "#data_train, data_test, y_train, y_test = train_test_split(tweets.normalized_tweet, targets, test_size=0.2, random_state=1)\r\n",
        "data_train, data_test, y_train, y_test = train_test_split(data.normalized_tweet, data.Analysis, test_size=0.2, random_state=1)"
      ],
      "execution_count": 61,
      "outputs": []
    },
    {
      "cell_type": "code",
      "metadata": {
        "id": "qlI3Tnjbb8q8"
      },
      "source": [
        "traindf = pd.DataFrame(np.array(data_train), columns=[\"tweet\"])\r\n",
        "traindf[\"label\"] = np.array(y_train)\r\n",
        "devdf = pd.DataFrame(np.array(data_test), columns=[\"tweet\"])\r\n",
        "devdf[\"label\"] = np.array(y_test)"
      ],
      "execution_count": 62,
      "outputs": []
    },
    {
      "cell_type": "code",
      "metadata": {
        "id": "9ulZ2cBJb_Bl"
      },
      "source": [
        "from sklearn.feature_extraction.text import CountVectorizer\r\n",
        "from sklearn.pipeline import make_pipeline\r\n",
        "from sklearn.metrics import classification_report\r\n",
        "from sklearn.naive_bayes import MultinomialNB\r\n",
        "from sklearn.feature_extraction.text import TfidfVectorizer\r\n",
        "from sklearn import metrics\r\n",
        "from sklearn.pipeline import Pipeline, FeatureUnion\r\n",
        "from sklearn.feature_extraction.text import TfidfVectorizer\r\n",
        "from sklearn.naive_bayes import BernoulliNB, ComplementNB, MultinomialNB\r\n",
        "from sklearn.model_selection import train_test_split\r\n",
        "import numpy as np\r\n",
        "from sklearn.linear_model import LinearRegression"
      ],
      "execution_count": 63,
      "outputs": []
    },
    {
      "cell_type": "code",
      "metadata": {
        "colab": {
          "base_uri": "https://localhost:8080/"
        },
        "id": "KGzQ2ujYcByk",
        "outputId": "f2e6e6cd-0e42-4766-d90f-fc34024d7bda"
      },
      "source": [
        "union = FeatureUnion([ (\"w_v2\", TfidfVectorizer(analyzer = 'char', ngram_range=(1,5)  )),\r\n",
        "                      (\"w_v3\", TfidfVectorizer(analyzer = 'char_wb', ngram_range=(1,5)  )),\r\n",
        "                      (\"w_v\", CountVectorizer( ngram_range=(1,3),stop_words=None )),],\r\n",
        "transformer_weights={\r\n",
        "            'w_v': 1, \r\n",
        "        'w_v2': 1,   \r\n",
        "           'w_v3': 1, \r\n",
        "           },)\r\n",
        "X_train = union.fit_transform(data_train)\r\n",
        "X_test = union.transform(data_test)\r\n",
        "X_train.shape"
      ],
      "execution_count": 64,
      "outputs": [
        {
          "output_type": "execute_result",
          "data": {
            "text/plain": [
              "(16083, 326578)"
            ]
          },
          "metadata": {
            "tags": []
          },
          "execution_count": 64
        }
      ]
    },
    {
      "cell_type": "code",
      "metadata": {
        "id": "KfyDH4h1cFwd"
      },
      "source": [
        "Accuracy=[]\r\n",
        "F1=[]"
      ],
      "execution_count": 65,
      "outputs": []
    },
    {
      "cell_type": "code",
      "metadata": {
        "colab": {
          "base_uri": "https://localhost:8080/"
        },
        "id": "NP4Xz2qBcING",
        "outputId": "6cee898f-ff6e-4414-af07-6a2a5cae54c0"
      },
      "source": [
        "from sklearn.multiclass import OneVsRestClassifier\r\n",
        "from sklearn.metrics import f1_score\r\n",
        "\r\n",
        "model = make_pipeline( (MultinomialNB(alpha=0.03))).fit(X_train, y_train)\r\n",
        "predicted = model.predict(X_test) \r\n",
        "score = metrics.accuracy_score(y_test, predicted)*100\r\n",
        "Accuracy.append(score)\r\n",
        "print(\"MultinomialNB accuracy:   %0.3f\" % score) \r\n",
        "\r\n",
        "f1=f1_score(y_test, predicted, average='macro')*100\r\n",
        "F1.append(f1)\r\n",
        "\r\n",
        "print(\"MultinomialNB F1-score:   %0.3f\" % f1) \r\n",
        "print()\r\n",
        "print()\r\n",
        "print(classification_report(y_test, predicted))"
      ],
      "execution_count": 66,
      "outputs": [
        {
          "output_type": "stream",
          "text": [
            "MultinomialNB accuracy:   89.978\n",
            "MultinomialNB F1-score:   87.959\n",
            "\n",
            "\n",
            "              precision    recall  f1-score   support\n",
            "\n",
            "    Negative       0.84      0.82      0.83       410\n",
            "     Neutral       0.94      0.90      0.92      2252\n",
            "    Positive       0.86      0.92      0.89      1359\n",
            "\n",
            "    accuracy                           0.90      4021\n",
            "   macro avg       0.88      0.88      0.88      4021\n",
            "weighted avg       0.90      0.90      0.90      4021\n",
            "\n"
          ],
          "name": "stdout"
        }
      ]
    },
    {
      "cell_type": "code",
      "metadata": {
        "colab": {
          "base_uri": "https://localhost:8080/",
          "height": 280
        },
        "id": "z4I4edKfcLHI",
        "outputId": "7cd667c6-82b3-466d-d629-840fb9ca70b3"
      },
      "source": [
        "import seaborn as sn\r\n",
        "confusion_matrix = pd.crosstab(y_test, predicted, rownames=['Actual'], colnames=['Predicted'])\r\n",
        "sn.heatmap(confusion_matrix, annot=True, fmt='.0f')\r\n",
        "plt.show()"
      ],
      "execution_count": 67,
      "outputs": [
        {
          "output_type": "display_data",
          "data": {
            "image/png": "[encoded data removed]",
            "text/plain": [
              "<Figure size 432x288 with 2 Axes>"
            ]
          },
          "metadata": {
            "tags": [],
            "needs_background": "light"
          }
        }
      ]
    },
    {
      "cell_type": "code",
      "metadata": {
        "colab": {
          "base_uri": "https://localhost:8080/"
        },
        "id": "vyynLC8EcOmm",
        "outputId": "e8520947-e43f-4951-bc66-af1ddcf5ee31"
      },
      "source": [
        "#@title Make a predication:\r\n",
        "sent = 'messi best player' #@param {type:\"string\"}\r\n",
        "sent = union.transform([sent])\r\n",
        "print(model.predict(sent)[0])"
      ],
      "execution_count": 68,
      "outputs": [
        {
          "output_type": "stream",
          "text": [
            "Positive\n"
          ],
          "name": "stdout"
        }
      ]
    },
    {
      "cell_type": "code",
      "metadata": {
        "colab": {
          "base_uri": "https://localhost:8080/"
        },
        "id": "kppnf_9NcQGX",
        "outputId": "4aad2c7d-7e6b-406f-d421-97ab6620929a"
      },
      "source": [
        "y_test = np.array(y_test)\r\n",
        "predicted = np.array(predicted)\r\n",
        "data_test = np.array(data_test)\r\n",
        "print()"
      ],
      "execution_count": 69,
      "outputs": [
        {
          "output_type": "stream",
          "text": [
            "\n"
          ],
          "name": "stdout"
        }
      ]
    },
    {
      "cell_type": "code",
      "metadata": {
        "id": "mWDiRlc-cR_l"
      },
      "source": [
        "#what did the model misclassifiy\r\n",
        "predictedprob = model.predict_proba(X_test) \r\n",
        "for i in range(len(predictedprob)):\r\n",
        "    for j in range(len(predictedprob[i])):\r\n",
        "        predictedprob[i][j] = '{0:.2f}'.format(predictedprob[i][j])\r\n",
        "missclassified=[]\r\n",
        "true=[]\r\n",
        "prd=[]\r\n",
        "prdprob=[]\r\n",
        "other_prdprob=[]\r\n",
        "for i in range(len(y_test)):\r\n",
        "    if y_test[i] != predicted[i]:\r\n",
        "        missclassified.append(data_test[i])\r\n",
        "        true.append(str(y_test[i]))\r\n",
        "        prd.append(str(predicted[i]))\r\n",
        "        indx=np.argmax(predictedprob[i])\r\n",
        "        prdprob.append(str(predictedprob[i][indx]))\r\n",
        "        other_prdprob.append(str(predictedprob[i]))\r\n",
        "miss = pd.DataFrame(missclassified,columns=[\"sentence\"])\r\n",
        "miss[\"True\"] = true\r\n",
        "miss[\"Predicated\"] = prd\r\n",
        "miss[\"Confidance\"] = prdprob\r\n",
        "miss[\"All_prob\"] = other_prdprob"
      ],
      "execution_count": 70,
      "outputs": []
    },
    {
      "cell_type": "code",
      "metadata": {
        "colab": {
          "base_uri": "https://localhost:8080/",
          "height": 489
        },
        "id": "SmwHmalOcUfa",
        "outputId": "450e59bc-c917-4245-d2b2-2eba26c12d8c"
      },
      "source": [
        "pd.set_option('display.max_colwidth', -1)\r\n",
        "miss.head(100)"
      ],
      "execution_count": 71,
      "outputs": [
        {
          "output_type": "stream",
          "text": [
            "/usr/local/lib/python3.6/dist-packages/ipykernel_launcher.py:1: FutureWarning: Passing a negative integer is deprecated in version 1.0 and will not be supported in future version. Instead, use None to not limit the column width.\n",
            "  \"\"\"Entry point for launching an IPython kernel.\n"
          ],
          "name": "stderr"
        },
        {
          "output_type": "execute_result",
          "data": {
            "text/html": [
              "<div>\n",
              "<style scoped>\n",
              "    .dataframe tbody tr th:only-of-type {\n",
              "        vertical-align: middle;\n",
              "    }\n",
              "\n",
              "    .dataframe tbody tr th {\n",
              "        vertical-align: top;\n",
              "    }\n",
              "\n",
              "    .dataframe thead th {\n",
              "        text-align: right;\n",
              "    }\n",
              "</style>\n",
              "<table border=\"1\" class=\"dataframe\">\n",
              "  <thead>\n",
              "    <tr style=\"text-align: right;\">\n",
              "      <th></th>\n",
              "      <th>sentence</th>\n",
              "      <th>True</th>\n",
              "      <th>Predicated</th>\n",
              "      <th>Confidance</th>\n",
              "      <th>All_prob</th>\n",
              "    </tr>\n",
              "  </thead>\n",
              "  <tbody>\n",
              "    <tr>\n",
              "      <th>0</th>\n",
              "      <td>gentleman ill ask bi ronaldo champion place ajax bey took thesis went juve watched juveajax ucl keep going king leomessi</td>\n",
              "      <td>Negative</td>\n",
              "      <td>Neutral</td>\n",
              "      <td>1.0</td>\n",
              "      <td>[0. 1. 0.]</td>\n",
              "    </tr>\n",
              "    <tr>\n",
              "      <th>1</th>\n",
              "      <td>let move second topic today please dont welcomed mahdi messi may messiah mehdi alikocyaln z</td>\n",
              "      <td>Neutral</td>\n",
              "      <td>Positive</td>\n",
              "      <td>0.93</td>\n",
              "      <td>[0.07 0.   0.93]</td>\n",
              "    </tr>\n",
              "    <tr>\n",
              "      <th>2</th>\n",
              "      <td>sharing messi ronaldos son ronaldofootballplayer lionelmessifootballplayer footballi</td>\n",
              "      <td>Neutral</td>\n",
              "      <td>Positive</td>\n",
              "      <td>0.96</td>\n",
              "      <td>[0.   0.04 0.96]</td>\n",
              "    </tr>\n",
              "    <tr>\n",
              "      <th>3</th>\n",
              "      <td>the idiot bar a management dropped team despite leo messi gave million euro real griezman dembele coutinho able play leo messi barca management destroyed</td>\n",
              "      <td>Negative</td>\n",
              "      <td>Positive</td>\n",
              "      <td>1.0</td>\n",
              "      <td>[0. 0. 1.]</td>\n",
              "    </tr>\n",
              "    <tr>\n",
              "      <th>4</th>\n",
              "      <td>messi hahahahahaha</td>\n",
              "      <td>Neutral</td>\n",
              "      <td>Positive</td>\n",
              "      <td>0.98</td>\n",
              "      <td>[0.01 0.02 0.98]</td>\n",
              "    </tr>\n",
              "    <tr>\n",
              "      <th>...</th>\n",
              "      <td>...</td>\n",
              "      <td>...</td>\n",
              "      <td>...</td>\n",
              "      <td>...</td>\n",
              "      <td>...</td>\n",
              "    </tr>\n",
              "    <tr>\n",
              "      <th>95</th>\n",
              "      <td>uclde good scorer name cristianoronaldo goal lionelmessi goal ra l goal robertlewandowski goal karimbenzema goalsuefa championsleague cr ronaldo messi messi</td>\n",
              "      <td>Positive</td>\n",
              "      <td>Neutral</td>\n",
              "      <td>1.0</td>\n",
              "      <td>[0. 1. 0.]</td>\n",
              "    </tr>\n",
              "    <tr>\n",
              "      <th>96</th>\n",
              "      <td>since lionelmessi sentenced month jail tax fraud messi ay hebs</td>\n",
              "      <td>Negative</td>\n",
              "      <td>Neutral</td>\n",
              "      <td>1.0</td>\n",
              "      <td>[0. 1. 0.]</td>\n",
              "    </tr>\n",
              "    <tr>\n",
              "      <th>97</th>\n",
              "      <td>an era let admit messi</td>\n",
              "      <td>Neutral</td>\n",
              "      <td>Positive</td>\n",
              "      <td>1.0</td>\n",
              "      <td>[0. 0. 1.]</td>\n",
              "    </tr>\n",
              "    <tr>\n",
              "      <th>98</th>\n",
              "      <td>favorite fitbolcubatigol rivaldoleo messi man nesironaldinho</td>\n",
              "      <td>Positive</td>\n",
              "      <td>Neutral</td>\n",
              "      <td>0.87</td>\n",
              "      <td>[0.   0.87 0.13]</td>\n",
              "    </tr>\n",
              "    <tr>\n",
              "      <th>99</th>\n",
              "      <td>barcelonian frenkie jongtan messi confession still whatsapp group barcelona star frenkie jong messi stated leave team argentinian superstar team whatsapp news</td>\n",
              "      <td>Neutral</td>\n",
              "      <td>Positive</td>\n",
              "      <td>0.68</td>\n",
              "      <td>[0.   0.32 0.68]</td>\n",
              "    </tr>\n",
              "  </tbody>\n",
              "</table>\n",
              "<p>100 rows × 5 columns</p>\n",
              "</div>"
            ],
            "text/plain": [
              "                                                                                                                                                          sentence  ...          All_prob\n",
              "0   gentleman ill ask bi ronaldo champion place ajax bey took thesis went juve watched juveajax ucl keep going king leomessi                                        ...  [0. 1. 0.]      \n",
              "1   let move second topic today please dont welcomed mahdi messi may messiah mehdi alikocyaln z                                                                     ...  [0.07 0.   0.93]\n",
              "2   sharing messi ronaldos son ronaldofootballplayer lionelmessifootballplayer footballi                                                                            ...  [0.   0.04 0.96]\n",
              "3   the idiot bar a management dropped team despite leo messi gave million euro real griezman dembele coutinho able play leo messi barca management destroyed       ...  [0. 0. 1.]      \n",
              "4   messi hahahahahaha                                                                                                                                              ...  [0.01 0.02 0.98]\n",
              "..                 ...                                                                                                                                              ...               ...\n",
              "95  uclde good scorer name cristianoronaldo goal lionelmessi goal ra l goal robertlewandowski goal karimbenzema goalsuefa championsleague cr ronaldo messi messi    ...  [0. 1. 0.]      \n",
              "96  since lionelmessi sentenced month jail tax fraud messi ay hebs                                                                                                  ...  [0. 1. 0.]      \n",
              "97  an era let admit messi                                                                                                                                          ...  [0. 0. 1.]      \n",
              "98  favorite fitbolcubatigol rivaldoleo messi man nesironaldinho                                                                                                    ...  [0.   0.87 0.13]\n",
              "99  barcelonian frenkie jongtan messi confession still whatsapp group barcelona star frenkie jong messi stated leave team argentinian superstar team whatsapp news  ...  [0.   0.32 0.68]\n",
              "\n",
              "[100 rows x 5 columns]"
            ]
          },
          "metadata": {
            "tags": []
          },
          "execution_count": 71
        }
      ]
    },
    {
      "cell_type": "code",
      "metadata": {
        "id": "19T7MXb8cXjg"
      },
      "source": [
        "#BERT\r\n",
        "data_train, data_test, y_train, y_test = train_test_split(data.normalized_tweet, targets, test_size=0.2, random_state=1)\r\n",
        "traindf = pd.DataFrame(np.array(data_train), columns=[\"tweet\"])\r\n",
        "traindf[\"label\"] = np.array(y_train)\r\n",
        "devdf = pd.DataFrame(np.array(data_test), columns=[\"tweet\"])\r\n",
        "devdf[\"label\"] = np.array(y_test)"
      ],
      "execution_count": 72,
      "outputs": []
    },
    {
      "cell_type": "code",
      "metadata": {
        "id": "TwU9DFwecZ_Y"
      },
      "source": [
        "import pandas as pd\r\n",
        "import sklearn\r\n",
        "import logging"
      ],
      "execution_count": 73,
      "outputs": []
    },
    {
      "cell_type": "code",
      "metadata": {
        "id": "75OLa-u5kIED"
      },
      "source": [
        "from simpletransformers.classification import ClassificationModel"
      ],
      "execution_count": 74,
      "outputs": []
    },
    {
      "cell_type": "code",
      "metadata": {
        "colab": {
          "base_uri": "https://localhost:8080/",
          "height": 490,
          "referenced_widgets": [
            "90f169ecb5ea47c2aa2bc189c44603c6",
            "2feed6fe3a1f4df9ba1ee82a298a4b1a",
            "4f2b5741b1ba455e830fe475003035fc",
            "e4ab667103ee453da36afe6f8252bd2d",
            "c65bc097311244c5983cb5bf9aa45979",
            "295ca2d6c3754a24aa0f642c591b740e",
            "8ab52f723fbc4e598c37de88636a6c6d",
            "68a428b0c9f14286a542a442c9ba0533",
            "b3418f06b55042b6b2c19bc4a5da76b7",
            "3774b28f01924481a8afacbb28e01c8e",
            "e530a05bb73c47818fd1c29d4865b635"
          ]
        },
        "id": "zeu2AvpIkMn8",
        "outputId": "20625b2b-cd64-45e5-b2a9-1467e6e129c6"
      },
      "source": [
        "logging.basicConfig(level=logging.INFO)\r\n",
        "transformers_logger = logging.getLogger(\"transformers\")\r\n",
        "transformers_logger.setLevel(logging.WARNING)\r\n",
        "\r\n",
        "# Create a ClassificationModel\r\n",
        "bertmodel = ClassificationModel('bert', 'bert-base-cased', num_labels=3, use_cuda=True, cuda_device=0,\r\n",
        "                            args={\r\n",
        "    'reprocess_input_data': True,\r\n",
        "    \"learning_rate\": 4e-5,\r\n",
        "    'overwrite_output_dir': True,\r\n",
        "    'num_train_epochs': 3,    \"save_eval_checkpoints\": False,\r\n",
        "    \"save_steps\": -1,}\r\n",
        "    )\r\n",
        "print(traindf.head())\r\n",
        "\r\n",
        "# Train the bertmodel\r\n",
        "bertmodel.train_model(traindf, eval_df=devdf)"
      ],
      "execution_count": 90,
      "outputs": [
        {
          "output_type": "stream",
          "text": [
            "INFO:filelock:Lock 139845630037520 acquired on /root/.cache/huggingface/transformers/092cc582560fc3833e556b3f833695c26343cb54b7e88cd02d40821462a74999.1f48cab6c959fc6c360d22bea39d06959e90f5b002e77e836d2da45464875cda.lock\n"
          ],
          "name": "stderr"
        },
        {
          "output_type": "display_data",
          "data": {
            "application/vnd.jupyter.widget-view+json": {
              "model_id": "90f169ecb5ea47c2aa2bc189c44603c6",
              "version_minor": 0,
              "version_major": 2
            },
            "text/plain": [
              "Downloading:   0%|          | 0.00/436M [00:00<?, ?B/s]"
            ]
          },
          "metadata": {
            "tags": []
          }
        },
        {
          "output_type": "stream",
          "text": [
            "INFO:filelock:Lock 139845630037520 released on /root/.cache/huggingface/transformers/092cc582560fc3833e556b3f833695c26343cb54b7e88cd02d40821462a74999.1f48cab6c959fc6c360d22bea39d06959e90f5b002e77e836d2da45464875cda.lock\n"
          ],
          "name": "stderr"
        },
        {
          "output_type": "stream",
          "text": [
            "\n",
            "TqdmDeprecationWarning: Please use `tqdm.gui.tqdm(...)` instead of `tqdm(..., gui=True)`\n"
          ],
          "name": "stdout"
        },
        {
          "output_type": "error",
          "ename": "TqdmDeprecationWarning",
          "evalue": "ignored",
          "traceback": [
            "\u001b[0;31m---------------------------------------------------------------------------\u001b[0m",
            "\u001b[0;31mTqdmDeprecationWarning\u001b[0m                    Traceback (most recent call last)",
            "\u001b[0;32m<ipython-input-90-ec8399bdd9f7>\u001b[0m in \u001b[0;36m<module>\u001b[0;34m()\u001b[0m\n\u001b[1;32m     10\u001b[0m     \u001b[0;34m'overwrite_output_dir'\u001b[0m\u001b[0;34m:\u001b[0m \u001b[0;32mTrue\u001b[0m\u001b[0;34m,\u001b[0m\u001b[0;34m\u001b[0m\u001b[0;34m\u001b[0m\u001b[0m\n\u001b[1;32m     11\u001b[0m     \u001b[0;34m'num_train_epochs'\u001b[0m\u001b[0;34m:\u001b[0m \u001b[0;36m3\u001b[0m\u001b[0;34m,\u001b[0m    \u001b[0;34m\"save_eval_checkpoints\"\u001b[0m\u001b[0;34m:\u001b[0m \u001b[0;32mFalse\u001b[0m\u001b[0;34m,\u001b[0m\u001b[0;34m\u001b[0m\u001b[0;34m\u001b[0m\u001b[0m\n\u001b[0;32m---> 12\u001b[0;31m     \"save_steps\": -1,}\n\u001b[0m\u001b[1;32m     13\u001b[0m     )\n\u001b[1;32m     14\u001b[0m \u001b[0mprint\u001b[0m\u001b[0;34m(\u001b[0m\u001b[0mtraindf\u001b[0m\u001b[0;34m.\u001b[0m\u001b[0mhead\u001b[0m\u001b[0;34m(\u001b[0m\u001b[0;34m)\u001b[0m\u001b[0;34m)\u001b[0m\u001b[0;34m\u001b[0m\u001b[0;34m\u001b[0m\u001b[0m\n",
            "\u001b[0;32m/usr/local/lib/python3.6/dist-packages/simpletransformers/classification/classification_model.py\u001b[0m in \u001b[0;36m__init__\u001b[0;34m(self, model_type, model_name, num_labels, weight, args, use_cuda, cuda_device, onnx_execution_provider, **kwargs)\u001b[0m\n\u001b[1;32m    235\u001b[0m                     )\n\u001b[1;32m    236\u001b[0m                 \u001b[0;32melse\u001b[0m\u001b[0;34m:\u001b[0m\u001b[0;34m\u001b[0m\u001b[0;34m\u001b[0m\u001b[0m\n\u001b[0;32m--> 237\u001b[0;31m                     \u001b[0mself\u001b[0m\u001b[0;34m.\u001b[0m\u001b[0mmodel\u001b[0m \u001b[0;34m=\u001b[0m \u001b[0mmodel_class\u001b[0m\u001b[0;34m.\u001b[0m\u001b[0mfrom_pretrained\u001b[0m\u001b[0;34m(\u001b[0m\u001b[0mmodel_name\u001b[0m\u001b[0;34m,\u001b[0m \u001b[0mconfig\u001b[0m\u001b[0;34m=\u001b[0m\u001b[0mself\u001b[0m\u001b[0;34m.\u001b[0m\u001b[0mconfig\u001b[0m\u001b[0;34m,\u001b[0m \u001b[0;34m**\u001b[0m\u001b[0mkwargs\u001b[0m\u001b[0;34m)\u001b[0m\u001b[0;34m\u001b[0m\u001b[0;34m\u001b[0m\u001b[0m\n\u001b[0m\u001b[1;32m    238\u001b[0m             \u001b[0;32melse\u001b[0m\u001b[0;34m:\u001b[0m\u001b[0;34m\u001b[0m\u001b[0;34m\u001b[0m\u001b[0m\n\u001b[1;32m    239\u001b[0m                 \u001b[0mquantized_weights\u001b[0m \u001b[0;34m=\u001b[0m \u001b[0mtorch\u001b[0m\u001b[0;34m.\u001b[0m\u001b[0mload\u001b[0m\u001b[0;34m(\u001b[0m\u001b[0mos\u001b[0m\u001b[0;34m.\u001b[0m\u001b[0mpath\u001b[0m\u001b[0;34m.\u001b[0m\u001b[0mjoin\u001b[0m\u001b[0;34m(\u001b[0m\u001b[0mmodel_name\u001b[0m\u001b[0;34m,\u001b[0m \u001b[0;34m\"pytorch_model.bin\"\u001b[0m\u001b[0;34m)\u001b[0m\u001b[0;34m)\u001b[0m\u001b[0;34m\u001b[0m\u001b[0;34m\u001b[0m\u001b[0m\n",
            "\u001b[0;32m/usr/local/lib/python3.6/dist-packages/transformers/modeling_utils.py\u001b[0m in \u001b[0;36mfrom_pretrained\u001b[0;34m(cls, pretrained_model_name_or_path, *model_args, **kwargs)\u001b[0m\n\u001b[1;32m   1008\u001b[0m                     \u001b[0mresume_download\u001b[0m\u001b[0;34m=\u001b[0m\u001b[0mresume_download\u001b[0m\u001b[0;34m,\u001b[0m\u001b[0;34m\u001b[0m\u001b[0;34m\u001b[0m\u001b[0m\n\u001b[1;32m   1009\u001b[0m                     \u001b[0mlocal_files_only\u001b[0m\u001b[0;34m=\u001b[0m\u001b[0mlocal_files_only\u001b[0m\u001b[0;34m,\u001b[0m\u001b[0;34m\u001b[0m\u001b[0;34m\u001b[0m\u001b[0m\n\u001b[0;32m-> 1010\u001b[0;31m                     \u001b[0muse_auth_token\u001b[0m\u001b[0;34m=\u001b[0m\u001b[0muse_auth_token\u001b[0m\u001b[0;34m,\u001b[0m\u001b[0;34m\u001b[0m\u001b[0;34m\u001b[0m\u001b[0m\n\u001b[0m\u001b[1;32m   1011\u001b[0m                 )\n\u001b[1;32m   1012\u001b[0m             \u001b[0;32mexcept\u001b[0m \u001b[0mEnvironmentError\u001b[0m \u001b[0;32mas\u001b[0m \u001b[0merr\u001b[0m\u001b[0;34m:\u001b[0m\u001b[0;34m\u001b[0m\u001b[0;34m\u001b[0m\u001b[0m\n",
            "\u001b[0;32m/usr/local/lib/python3.6/dist-packages/transformers/file_utils.py\u001b[0m in \u001b[0;36mcached_path\u001b[0;34m(url_or_filename, cache_dir, force_download, proxies, resume_download, user_agent, extract_compressed_file, force_extract, use_auth_token, local_files_only)\u001b[0m\n\u001b[1;32m   1083\u001b[0m             \u001b[0muser_agent\u001b[0m\u001b[0;34m=\u001b[0m\u001b[0muser_agent\u001b[0m\u001b[0;34m,\u001b[0m\u001b[0;34m\u001b[0m\u001b[0;34m\u001b[0m\u001b[0m\n\u001b[1;32m   1084\u001b[0m             \u001b[0muse_auth_token\u001b[0m\u001b[0;34m=\u001b[0m\u001b[0muse_auth_token\u001b[0m\u001b[0;34m,\u001b[0m\u001b[0;34m\u001b[0m\u001b[0;34m\u001b[0m\u001b[0m\n\u001b[0;32m-> 1085\u001b[0;31m             \u001b[0mlocal_files_only\u001b[0m\u001b[0;34m=\u001b[0m\u001b[0mlocal_files_only\u001b[0m\u001b[0;34m,\u001b[0m\u001b[0;34m\u001b[0m\u001b[0;34m\u001b[0m\u001b[0m\n\u001b[0m\u001b[1;32m   1086\u001b[0m         )\n\u001b[1;32m   1087\u001b[0m     \u001b[0;32melif\u001b[0m \u001b[0mos\u001b[0m\u001b[0;34m.\u001b[0m\u001b[0mpath\u001b[0m\u001b[0;34m.\u001b[0m\u001b[0mexists\u001b[0m\u001b[0;34m(\u001b[0m\u001b[0murl_or_filename\u001b[0m\u001b[0;34m)\u001b[0m\u001b[0;34m:\u001b[0m\u001b[0;34m\u001b[0m\u001b[0;34m\u001b[0m\u001b[0m\n",
            "\u001b[0;32m/usr/local/lib/python3.6/dist-packages/transformers/file_utils.py\u001b[0m in \u001b[0;36mget_from_cache\u001b[0;34m(url, cache_dir, force_download, proxies, etag_timeout, resume_download, user_agent, use_auth_token, local_files_only)\u001b[0m\n\u001b[1;32m   1301\u001b[0m             \u001b[0mlogger\u001b[0m\u001b[0;34m.\u001b[0m\u001b[0minfo\u001b[0m\u001b[0;34m(\u001b[0m\u001b[0;34m\"%s not found in cache or force_download set to True, downloading to %s\"\u001b[0m\u001b[0;34m,\u001b[0m \u001b[0murl\u001b[0m\u001b[0;34m,\u001b[0m \u001b[0mtemp_file\u001b[0m\u001b[0;34m.\u001b[0m\u001b[0mname\u001b[0m\u001b[0;34m)\u001b[0m\u001b[0;34m\u001b[0m\u001b[0;34m\u001b[0m\u001b[0m\n\u001b[1;32m   1302\u001b[0m \u001b[0;34m\u001b[0m\u001b[0m\n\u001b[0;32m-> 1303\u001b[0;31m             \u001b[0mhttp_get\u001b[0m\u001b[0;34m(\u001b[0m\u001b[0murl_to_download\u001b[0m\u001b[0;34m,\u001b[0m \u001b[0mtemp_file\u001b[0m\u001b[0;34m,\u001b[0m \u001b[0mproxies\u001b[0m\u001b[0;34m=\u001b[0m\u001b[0mproxies\u001b[0m\u001b[0;34m,\u001b[0m \u001b[0mresume_size\u001b[0m\u001b[0;34m=\u001b[0m\u001b[0mresume_size\u001b[0m\u001b[0;34m,\u001b[0m \u001b[0mheaders\u001b[0m\u001b[0;34m=\u001b[0m\u001b[0mheaders\u001b[0m\u001b[0;34m)\u001b[0m\u001b[0;34m\u001b[0m\u001b[0;34m\u001b[0m\u001b[0m\n\u001b[0m\u001b[1;32m   1304\u001b[0m \u001b[0;34m\u001b[0m\u001b[0m\n\u001b[1;32m   1305\u001b[0m         \u001b[0mlogger\u001b[0m\u001b[0;34m.\u001b[0m\u001b[0minfo\u001b[0m\u001b[0;34m(\u001b[0m\u001b[0;34m\"storing %s in cache at %s\"\u001b[0m\u001b[0;34m,\u001b[0m \u001b[0murl\u001b[0m\u001b[0;34m,\u001b[0m \u001b[0mcache_path\u001b[0m\u001b[0;34m)\u001b[0m\u001b[0;34m\u001b[0m\u001b[0;34m\u001b[0m\u001b[0m\n",
            "\u001b[0;32m/usr/local/lib/python3.6/dist-packages/transformers/file_utils.py\u001b[0m in \u001b[0;36mhttp_get\u001b[0;34m(url, temp_file, proxies, resume_size, headers)\u001b[0m\n\u001b[1;32m   1166\u001b[0m     \u001b[0;32mfor\u001b[0m \u001b[0mchunk\u001b[0m \u001b[0;32min\u001b[0m \u001b[0mr\u001b[0m\u001b[0;34m.\u001b[0m\u001b[0miter_content\u001b[0m\u001b[0;34m(\u001b[0m\u001b[0mchunk_size\u001b[0m\u001b[0;34m=\u001b[0m\u001b[0;36m1024\u001b[0m\u001b[0;34m)\u001b[0m\u001b[0;34m:\u001b[0m\u001b[0;34m\u001b[0m\u001b[0;34m\u001b[0m\u001b[0m\n\u001b[1;32m   1167\u001b[0m         \u001b[0;32mif\u001b[0m \u001b[0mchunk\u001b[0m\u001b[0;34m:\u001b[0m  \u001b[0;31m# filter out keep-alive new chunks\u001b[0m\u001b[0;34m\u001b[0m\u001b[0;34m\u001b[0m\u001b[0m\n\u001b[0;32m-> 1168\u001b[0;31m             \u001b[0mprogress\u001b[0m\u001b[0;34m.\u001b[0m\u001b[0mupdate\u001b[0m\u001b[0;34m(\u001b[0m\u001b[0mlen\u001b[0m\u001b[0;34m(\u001b[0m\u001b[0mchunk\u001b[0m\u001b[0;34m)\u001b[0m\u001b[0;34m)\u001b[0m\u001b[0;34m\u001b[0m\u001b[0;34m\u001b[0m\u001b[0m\n\u001b[0m\u001b[1;32m   1169\u001b[0m             \u001b[0mtemp_file\u001b[0m\u001b[0;34m.\u001b[0m\u001b[0mwrite\u001b[0m\u001b[0;34m(\u001b[0m\u001b[0mchunk\u001b[0m\u001b[0;34m)\u001b[0m\u001b[0;34m\u001b[0m\u001b[0;34m\u001b[0m\u001b[0m\n\u001b[1;32m   1170\u001b[0m     \u001b[0mprogress\u001b[0m\u001b[0;34m.\u001b[0m\u001b[0mclose\u001b[0m\u001b[0;34m(\u001b[0m\u001b[0;34m)\u001b[0m\u001b[0;34m\u001b[0m\u001b[0;34m\u001b[0m\u001b[0m\n",
            "\u001b[0;32m/usr/local/lib/python3.6/dist-packages/tqdm/notebook.py\u001b[0m in \u001b[0;36mupdate\u001b[0;34m(self, *args, **kwargs)\u001b[0m\n\u001b[1;32m    271\u001b[0m     \u001b[0;32mdef\u001b[0m \u001b[0mupdate\u001b[0m\u001b[0;34m(\u001b[0m\u001b[0mself\u001b[0m\u001b[0;34m,\u001b[0m \u001b[0;34m*\u001b[0m\u001b[0margs\u001b[0m\u001b[0;34m,\u001b[0m \u001b[0;34m**\u001b[0m\u001b[0mkwargs\u001b[0m\u001b[0;34m)\u001b[0m\u001b[0;34m:\u001b[0m\u001b[0;34m\u001b[0m\u001b[0;34m\u001b[0m\u001b[0m\n\u001b[1;32m    272\u001b[0m         \u001b[0;32mtry\u001b[0m\u001b[0;34m:\u001b[0m\u001b[0;34m\u001b[0m\u001b[0;34m\u001b[0m\u001b[0m\n\u001b[0;32m--> 273\u001b[0;31m             \u001b[0;32mreturn\u001b[0m \u001b[0msuper\u001b[0m\u001b[0;34m(\u001b[0m\u001b[0mtqdm_notebook\u001b[0m\u001b[0;34m,\u001b[0m \u001b[0mself\u001b[0m\u001b[0;34m)\u001b[0m\u001b[0;34m.\u001b[0m\u001b[0mupdate\u001b[0m\u001b[0;34m(\u001b[0m\u001b[0;34m*\u001b[0m\u001b[0margs\u001b[0m\u001b[0;34m,\u001b[0m \u001b[0;34m**\u001b[0m\u001b[0mkwargs\u001b[0m\u001b[0;34m)\u001b[0m\u001b[0;34m\u001b[0m\u001b[0;34m\u001b[0m\u001b[0m\n\u001b[0m\u001b[1;32m    274\u001b[0m         \u001b[0;31m# NB: except ... [ as ...] breaks IPython async KeyboardInterrupt\u001b[0m\u001b[0;34m\u001b[0m\u001b[0;34m\u001b[0m\u001b[0;34m\u001b[0m\u001b[0m\n\u001b[1;32m    275\u001b[0m         \u001b[0;32mexcept\u001b[0m\u001b[0;34m:\u001b[0m  \u001b[0;31m# NOQA\u001b[0m\u001b[0;34m\u001b[0m\u001b[0;34m\u001b[0m\u001b[0m\n",
            "\u001b[0;32m/usr/local/lib/python3.6/dist-packages/tqdm/std.py\u001b[0m in \u001b[0;36mupdate\u001b[0;34m(self, n)\u001b[0m\n\u001b[1;32m   1203\u001b[0m         \u001b[0;32mif\u001b[0m \u001b[0mn\u001b[0m \u001b[0;34m<\u001b[0m \u001b[0;36m0\u001b[0m\u001b[0;34m:\u001b[0m\u001b[0;34m\u001b[0m\u001b[0;34m\u001b[0m\u001b[0m\n\u001b[1;32m   1204\u001b[0m             \u001b[0mself\u001b[0m\u001b[0;34m.\u001b[0m\u001b[0mlast_print_n\u001b[0m \u001b[0;34m+=\u001b[0m \u001b[0mn\u001b[0m  \u001b[0;31m# for auto-refresh logic to work\u001b[0m\u001b[0;34m\u001b[0m\u001b[0;34m\u001b[0m\u001b[0m\n\u001b[0;32m-> 1205\u001b[0;31m         \u001b[0mself\u001b[0m\u001b[0;34m.\u001b[0m\u001b[0mn\u001b[0m \u001b[0;34m+=\u001b[0m \u001b[0mn\u001b[0m\u001b[0;34m\u001b[0m\u001b[0;34m\u001b[0m\u001b[0m\n\u001b[0m\u001b[1;32m   1206\u001b[0m \u001b[0;34m\u001b[0m\u001b[0m\n\u001b[1;32m   1207\u001b[0m         \u001b[0;31m# check counter first to reduce calls to time()\u001b[0m\u001b[0;34m\u001b[0m\u001b[0;34m\u001b[0m\u001b[0;34m\u001b[0m\u001b[0m\n",
            "\u001b[0;31mTqdmDeprecationWarning\u001b[0m: Please use `tqdm.gui.tqdm(...)` instead of `tqdm(..., gui=True)`\n"
          ]
        }
      ]
    },
    {
      "cell_type": "code",
      "metadata": {
        "colab": {
          "base_uri": "https://localhost:8080/",
          "height": 162
        },
        "id": "LTkkZGUcnhkV",
        "outputId": "b696b380-d7b1-47ae-a144-83f9fd9bffab"
      },
      "source": [
        "predictions, raw_outputs = bertmodel.predict(np.array(data_test))"
      ],
      "execution_count": 91,
      "outputs": [
        {
          "output_type": "error",
          "ename": "NameError",
          "evalue": "ignored",
          "traceback": [
            "\u001b[0;31m---------------------------------------------------------------------------\u001b[0m",
            "\u001b[0;31mNameError\u001b[0m                                 Traceback (most recent call last)",
            "\u001b[0;32m<ipython-input-91-5fa5e6d4243d>\u001b[0m in \u001b[0;36m<module>\u001b[0;34m()\u001b[0m\n\u001b[0;32m----> 1\u001b[0;31m \u001b[0mpredictions\u001b[0m\u001b[0;34m,\u001b[0m \u001b[0mraw_outputs\u001b[0m \u001b[0;34m=\u001b[0m \u001b[0mbertmodel\u001b[0m\u001b[0;34m.\u001b[0m\u001b[0mpredict\u001b[0m\u001b[0;34m(\u001b[0m\u001b[0mnp\u001b[0m\u001b[0;34m.\u001b[0m\u001b[0marray\u001b[0m\u001b[0;34m(\u001b[0m\u001b[0mdata_test\u001b[0m\u001b[0;34m)\u001b[0m\u001b[0;34m)\u001b[0m\u001b[0;34m\u001b[0m\u001b[0;34m\u001b[0m\u001b[0m\n\u001b[0m",
            "\u001b[0;31mNameError\u001b[0m: name 'bertmodel' is not defined"
          ]
        }
      ]
    },
    {
      "cell_type": "code",
      "metadata": {
        "id": "PJimTe6fnmWr"
      },
      "source": [
        "from sklearn.metrics import f1_score,classification_report\r\n",
        "f1_score(y_true=np.array(y_test), y_pred=predictions, average='micro')\r\n",
        "F1.append(f1)"
      ],
      "execution_count": null,
      "outputs": []
    },
    {
      "cell_type": "code",
      "metadata": {
        "id": "oNnn0ryXnnAa"
      },
      "source": [
        "score = metrics.accuracy_score(np.array(y_test), predictions)*100\r\n",
        "Accuracy.append(score)"
      ],
      "execution_count": null,
      "outputs": []
    },
    {
      "cell_type": "code",
      "metadata": {
        "colab": {
          "base_uri": "https://localhost:8080/",
          "height": 162
        },
        "id": "XDC0DHcUnpAy",
        "outputId": "5af807db-ad63-4085-96b9-62021b471949"
      },
      "source": [
        "predictions_train, raw_outputs_train = bertmodel.predict(np.array(data_train))"
      ],
      "execution_count": 92,
      "outputs": [
        {
          "output_type": "error",
          "ename": "NameError",
          "evalue": "ignored",
          "traceback": [
            "\u001b[0;31m---------------------------------------------------------------------------\u001b[0m",
            "\u001b[0;31mNameError\u001b[0m                                 Traceback (most recent call last)",
            "\u001b[0;32m<ipython-input-92-f22f80ca8e33>\u001b[0m in \u001b[0;36m<module>\u001b[0;34m()\u001b[0m\n\u001b[0;32m----> 1\u001b[0;31m \u001b[0mpredictions_train\u001b[0m\u001b[0;34m,\u001b[0m \u001b[0mraw_outputs_train\u001b[0m \u001b[0;34m=\u001b[0m \u001b[0mbertmodel\u001b[0m\u001b[0;34m.\u001b[0m\u001b[0mpredict\u001b[0m\u001b[0;34m(\u001b[0m\u001b[0mnp\u001b[0m\u001b[0;34m.\u001b[0m\u001b[0marray\u001b[0m\u001b[0;34m(\u001b[0m\u001b[0mdata_train\u001b[0m\u001b[0;34m)\u001b[0m\u001b[0;34m)\u001b[0m\u001b[0;34m\u001b[0m\u001b[0;34m\u001b[0m\u001b[0m\n\u001b[0m",
            "\u001b[0;31mNameError\u001b[0m: name 'bertmodel' is not defined"
          ]
        }
      ]
    }
  ]
}