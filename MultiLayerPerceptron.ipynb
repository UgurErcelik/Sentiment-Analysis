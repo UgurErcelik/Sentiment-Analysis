{
 "cells": [
  {
   "cell_type": "code",
   "execution_count": 3,
   "metadata": {},
   "outputs": [
    {
     "name": "stderr",
     "output_type": "stream",
     "text": [
      "Using TensorFlow backend.\n"
     ]
    }
   ],
   "source": [
    "from keras.models import Sequential #YSA modelini kullanmak için\n",
    "import pandas as pd\n",
    "from sklearn.model_selection import train_test_split\n",
    "from textblob import TextBlob\n",
    "import pandas as pd\n",
    "from spacy.tokenizer import Tokenizer\n",
    "from spacy.lang.tr import Turkish\n",
    "from tqdm import tqdm\n",
    "from wordcloud import WordCloud\n",
    "import matplotlib.pyplot as plt\n",
    "from sklearn import preprocessing\n",
    "from sklearn.feature_extraction.text import TfidfVectorizer\n",
    "import numpy as np"
   ]
  },
  {
   "cell_type": "code",
   "execution_count": 4,
   "metadata": {},
   "outputs": [],
   "source": [
    "from textblob import TextBlob\n",
    "import pandas as pd\n",
    "from spacy.tokenizer import Tokenizer\n",
    "from spacy.lang.tr import Turkish\n",
    "from tqdm import tqdm\n",
    "from wordcloud import WordCloud\n",
    "import matplotlib.pyplot as plt\n",
    "from sklearn import preprocessing\n",
    "from sklearn.feature_extraction.text import TfidfVectorizer\n",
    "from sklearn.model_selection import train_test_split\n",
    "\n",
    "import numpy as np"
   ]
  },
  {
   "cell_type": "code",
   "execution_count": 5,
   "metadata": {},
   "outputs": [
    {
     "data": {
      "text/html": [
       "<div>\n",
       "<style scoped>\n",
       "    .dataframe tbody tr th:only-of-type {\n",
       "        vertical-align: middle;\n",
       "    }\n",
       "\n",
       "    .dataframe tbody tr th {\n",
       "        vertical-align: top;\n",
       "    }\n",
       "\n",
       "    .dataframe thead th {\n",
       "        text-align: right;\n",
       "    }\n",
       "</style>\n",
       "<table border=\"1\" class=\"dataframe\">\n",
       "  <thead>\n",
       "    <tr style=\"text-align: right;\">\n",
       "      <th></th>\n",
       "      <th>tweet</th>\n",
       "    </tr>\n",
       "  </thead>\n",
       "  <tbody>\n",
       "    <tr>\n",
       "      <td>0</td>\n",
       "      <td>leo messi cristiano special competition among ...</td>\n",
       "    </tr>\n",
       "    <tr>\n",
       "      <td>1</td>\n",
       "      <td>poles stop leo messi</td>\n",
       "    </tr>\n",
       "    <tr>\n",
       "      <td>2</td>\n",
       "      <td>la liga goal assist king champions league top ...</td>\n",
       "    </tr>\n",
       "    <tr>\n",
       "      <td>3</td>\n",
       "      <td>leo messi became first player score goal diffe...</td>\n",
       "    </tr>\n",
       "    <tr>\n",
       "      <td>4</td>\n",
       "      <td>come tomorrow start work fenerbahçe</td>\n",
       "    </tr>\n",
       "    <tr>\n",
       "      <td>...</td>\n",
       "      <td>...</td>\n",
       "    </tr>\n",
       "    <tr>\n",
       "      <td>20099</td>\n",
       "      <td>via drawing lionel messi art lionelmessi barce...</td>\n",
       "    </tr>\n",
       "    <tr>\n",
       "      <td>20100</td>\n",
       "      <td>lionel messi made funny comment allegations ma...</td>\n",
       "    </tr>\n",
       "    <tr>\n",
       "      <td>20101</td>\n",
       "      <td>lionelmessi dont worry messi father go jail gi...</td>\n",
       "    </tr>\n",
       "    <tr>\n",
       "      <td>20102</td>\n",
       "      <td>lionel messi without detonating bomb</td>\n",
       "    </tr>\n",
       "    <tr>\n",
       "      <td>20103</td>\n",
       "      <td>lionel messi lottery offer galatasaraya</td>\n",
       "    </tr>\n",
       "  </tbody>\n",
       "</table>\n",
       "<p>20104 rows × 1 columns</p>\n",
       "</div>"
      ],
      "text/plain": [
       "                                                   tweet\n",
       "0      leo messi cristiano special competition among ...\n",
       "1                                   poles stop leo messi\n",
       "2      la liga goal assist king champions league top ...\n",
       "3      leo messi became first player score goal diffe...\n",
       "4                    come tomorrow start work fenerbahçe\n",
       "...                                                  ...\n",
       "20099  via drawing lionel messi art lionelmessi barce...\n",
       "20100  lionel messi made funny comment allegations ma...\n",
       "20101  lionelmessi dont worry messi father go jail gi...\n",
       "20102               lionel messi without detonating bomb\n",
       "20103            lionel messi lottery offer galatasaraya\n",
       "\n",
       "[20104 rows x 1 columns]"
      ]
     },
     "execution_count": 5,
     "metadata": {},
     "output_type": "execute_result"
    }
   ],
   "source": [
    "data = pd.read_csv('lemessi10.csv')\n",
    "data"
   ]
  },
  {
   "cell_type": "code",
   "execution_count": 6,
   "metadata": {},
   "outputs": [
    {
     "data": {
      "text/html": [
       "<div>\n",
       "<style scoped>\n",
       "    .dataframe tbody tr th:only-of-type {\n",
       "        vertical-align: middle;\n",
       "    }\n",
       "\n",
       "    .dataframe tbody tr th {\n",
       "        vertical-align: top;\n",
       "    }\n",
       "\n",
       "    .dataframe thead th {\n",
       "        text-align: right;\n",
       "    }\n",
       "</style>\n",
       "<table border=\"1\" class=\"dataframe\">\n",
       "  <thead>\n",
       "    <tr style=\"text-align: right;\">\n",
       "      <th></th>\n",
       "      <th>tweet</th>\n",
       "      <th>Subjectivity</th>\n",
       "      <th>Polarity</th>\n",
       "    </tr>\n",
       "  </thead>\n",
       "  <tbody>\n",
       "    <tr>\n",
       "      <td>0</td>\n",
       "      <td>leo messi cristiano special competition among ...</td>\n",
       "      <td>0.586190</td>\n",
       "      <td>0.225119</td>\n",
       "    </tr>\n",
       "    <tr>\n",
       "      <td>1</td>\n",
       "      <td>poles stop leo messi</td>\n",
       "      <td>0.000000</td>\n",
       "      <td>0.000000</td>\n",
       "    </tr>\n",
       "    <tr>\n",
       "      <td>2</td>\n",
       "      <td>la liga goal assist king champions league top ...</td>\n",
       "      <td>0.766667</td>\n",
       "      <td>0.200000</td>\n",
       "    </tr>\n",
       "    <tr>\n",
       "      <td>3</td>\n",
       "      <td>leo messi became first player score goal diffe...</td>\n",
       "      <td>0.466667</td>\n",
       "      <td>0.125000</td>\n",
       "    </tr>\n",
       "    <tr>\n",
       "      <td>4</td>\n",
       "      <td>come tomorrow start work fenerbahçe</td>\n",
       "      <td>0.000000</td>\n",
       "      <td>0.000000</td>\n",
       "    </tr>\n",
       "    <tr>\n",
       "      <td>...</td>\n",
       "      <td>...</td>\n",
       "      <td>...</td>\n",
       "      <td>...</td>\n",
       "    </tr>\n",
       "    <tr>\n",
       "      <td>20099</td>\n",
       "      <td>via drawing lionel messi art lionelmessi barce...</td>\n",
       "      <td>0.000000</td>\n",
       "      <td>0.000000</td>\n",
       "    </tr>\n",
       "    <tr>\n",
       "      <td>20100</td>\n",
       "      <td>lionel messi made funny comment allegations ma...</td>\n",
       "      <td>1.000000</td>\n",
       "      <td>0.250000</td>\n",
       "    </tr>\n",
       "    <tr>\n",
       "      <td>20101</td>\n",
       "      <td>lionelmessi dont worry messi father go jail gi...</td>\n",
       "      <td>0.375000</td>\n",
       "      <td>-0.050000</td>\n",
       "    </tr>\n",
       "    <tr>\n",
       "      <td>20102</td>\n",
       "      <td>lionel messi without detonating bomb</td>\n",
       "      <td>0.000000</td>\n",
       "      <td>0.000000</td>\n",
       "    </tr>\n",
       "    <tr>\n",
       "      <td>20103</td>\n",
       "      <td>lionel messi lottery offer galatasaraya</td>\n",
       "      <td>0.000000</td>\n",
       "      <td>0.000000</td>\n",
       "    </tr>\n",
       "  </tbody>\n",
       "</table>\n",
       "<p>20104 rows × 3 columns</p>\n",
       "</div>"
      ],
      "text/plain": [
       "                                                   tweet  Subjectivity  \\\n",
       "0      leo messi cristiano special competition among ...      0.586190   \n",
       "1                                   poles stop leo messi      0.000000   \n",
       "2      la liga goal assist king champions league top ...      0.766667   \n",
       "3      leo messi became first player score goal diffe...      0.466667   \n",
       "4                    come tomorrow start work fenerbahçe      0.000000   \n",
       "...                                                  ...           ...   \n",
       "20099  via drawing lionel messi art lionelmessi barce...      0.000000   \n",
       "20100  lionel messi made funny comment allegations ma...      1.000000   \n",
       "20101  lionelmessi dont worry messi father go jail gi...      0.375000   \n",
       "20102               lionel messi without detonating bomb      0.000000   \n",
       "20103            lionel messi lottery offer galatasaraya      0.000000   \n",
       "\n",
       "       Polarity  \n",
       "0      0.225119  \n",
       "1      0.000000  \n",
       "2      0.200000  \n",
       "3      0.125000  \n",
       "4      0.000000  \n",
       "...         ...  \n",
       "20099  0.000000  \n",
       "20100  0.250000  \n",
       "20101 -0.050000  \n",
       "20102  0.000000  \n",
       "20103  0.000000  \n",
       "\n",
       "[20104 rows x 3 columns]"
      ]
     },
     "execution_count": 6,
     "metadata": {},
     "output_type": "execute_result"
    }
   ],
   "source": [
    "def getSubjectivity(text):\n",
    "    return TextBlob(text).sentiment.subjectivity\n",
    "\n",
    "def getPolarity(text):\n",
    "    return TextBlob(text).sentiment.polarity\n",
    "\n",
    "data['Subjectivity'] = data['tweet'].apply(getSubjectivity)\n",
    "data['Polarity'] = data['tweet'].apply(getPolarity)\n",
    "\n",
    "data"
   ]
  },
  {
   "cell_type": "code",
   "execution_count": 7,
   "metadata": {},
   "outputs": [
    {
     "data": {
      "text/html": [
       "<div>\n",
       "<style scoped>\n",
       "    .dataframe tbody tr th:only-of-type {\n",
       "        vertical-align: middle;\n",
       "    }\n",
       "\n",
       "    .dataframe tbody tr th {\n",
       "        vertical-align: top;\n",
       "    }\n",
       "\n",
       "    .dataframe thead th {\n",
       "        text-align: right;\n",
       "    }\n",
       "</style>\n",
       "<table border=\"1\" class=\"dataframe\">\n",
       "  <thead>\n",
       "    <tr style=\"text-align: right;\">\n",
       "      <th></th>\n",
       "      <th>tweet</th>\n",
       "      <th>Subjectivity</th>\n",
       "      <th>Polarity</th>\n",
       "      <th>Analysis</th>\n",
       "    </tr>\n",
       "  </thead>\n",
       "  <tbody>\n",
       "    <tr>\n",
       "      <td>0</td>\n",
       "      <td>leo messi cristiano special competition among ...</td>\n",
       "      <td>0.586190</td>\n",
       "      <td>0.225119</td>\n",
       "      <td>Positive</td>\n",
       "    </tr>\n",
       "    <tr>\n",
       "      <td>1</td>\n",
       "      <td>poles stop leo messi</td>\n",
       "      <td>0.000000</td>\n",
       "      <td>0.000000</td>\n",
       "      <td>Neutral</td>\n",
       "    </tr>\n",
       "    <tr>\n",
       "      <td>2</td>\n",
       "      <td>la liga goal assist king champions league top ...</td>\n",
       "      <td>0.766667</td>\n",
       "      <td>0.200000</td>\n",
       "      <td>Positive</td>\n",
       "    </tr>\n",
       "    <tr>\n",
       "      <td>3</td>\n",
       "      <td>leo messi became first player score goal diffe...</td>\n",
       "      <td>0.466667</td>\n",
       "      <td>0.125000</td>\n",
       "      <td>Positive</td>\n",
       "    </tr>\n",
       "    <tr>\n",
       "      <td>4</td>\n",
       "      <td>come tomorrow start work fenerbahçe</td>\n",
       "      <td>0.000000</td>\n",
       "      <td>0.000000</td>\n",
       "      <td>Neutral</td>\n",
       "    </tr>\n",
       "    <tr>\n",
       "      <td>...</td>\n",
       "      <td>...</td>\n",
       "      <td>...</td>\n",
       "      <td>...</td>\n",
       "      <td>...</td>\n",
       "    </tr>\n",
       "    <tr>\n",
       "      <td>20099</td>\n",
       "      <td>via drawing lionel messi art lionelmessi barce...</td>\n",
       "      <td>0.000000</td>\n",
       "      <td>0.000000</td>\n",
       "      <td>Neutral</td>\n",
       "    </tr>\n",
       "    <tr>\n",
       "      <td>20100</td>\n",
       "      <td>lionel messi made funny comment allegations ma...</td>\n",
       "      <td>1.000000</td>\n",
       "      <td>0.250000</td>\n",
       "      <td>Positive</td>\n",
       "    </tr>\n",
       "    <tr>\n",
       "      <td>20101</td>\n",
       "      <td>lionelmessi dont worry messi father go jail gi...</td>\n",
       "      <td>0.375000</td>\n",
       "      <td>-0.050000</td>\n",
       "      <td>Negative</td>\n",
       "    </tr>\n",
       "    <tr>\n",
       "      <td>20102</td>\n",
       "      <td>lionel messi without detonating bomb</td>\n",
       "      <td>0.000000</td>\n",
       "      <td>0.000000</td>\n",
       "      <td>Neutral</td>\n",
       "    </tr>\n",
       "    <tr>\n",
       "      <td>20103</td>\n",
       "      <td>lionel messi lottery offer galatasaraya</td>\n",
       "      <td>0.000000</td>\n",
       "      <td>0.000000</td>\n",
       "      <td>Neutral</td>\n",
       "    </tr>\n",
       "  </tbody>\n",
       "</table>\n",
       "<p>20104 rows × 4 columns</p>\n",
       "</div>"
      ],
      "text/plain": [
       "                                                   tweet  Subjectivity  \\\n",
       "0      leo messi cristiano special competition among ...      0.586190   \n",
       "1                                   poles stop leo messi      0.000000   \n",
       "2      la liga goal assist king champions league top ...      0.766667   \n",
       "3      leo messi became first player score goal diffe...      0.466667   \n",
       "4                    come tomorrow start work fenerbahçe      0.000000   \n",
       "...                                                  ...           ...   \n",
       "20099  via drawing lionel messi art lionelmessi barce...      0.000000   \n",
       "20100  lionel messi made funny comment allegations ma...      1.000000   \n",
       "20101  lionelmessi dont worry messi father go jail gi...      0.375000   \n",
       "20102               lionel messi without detonating bomb      0.000000   \n",
       "20103            lionel messi lottery offer galatasaraya      0.000000   \n",
       "\n",
       "       Polarity  Analysis  \n",
       "0      0.225119  Positive  \n",
       "1      0.000000   Neutral  \n",
       "2      0.200000  Positive  \n",
       "3      0.125000  Positive  \n",
       "4      0.000000   Neutral  \n",
       "...         ...       ...  \n",
       "20099  0.000000   Neutral  \n",
       "20100  0.250000  Positive  \n",
       "20101 -0.050000  Negative  \n",
       "20102  0.000000   Neutral  \n",
       "20103  0.000000   Neutral  \n",
       "\n",
       "[20104 rows x 4 columns]"
      ]
     },
     "execution_count": 7,
     "metadata": {},
     "output_type": "execute_result"
    }
   ],
   "source": [
    "def getAnalysis(score):\n",
    "    if score<0:\n",
    "        return 'Negative'\n",
    "    elif score==0:\n",
    "        return 'Neutral'\n",
    "    else:\n",
    "        return 'Positive'\n",
    "    \n",
    "data['Analysis'] = data['Polarity'].apply(getAnalysis)\n",
    "data"
   ]
  },
  {
   "cell_type": "code",
   "execution_count": 8,
   "metadata": {},
   "outputs": [
    {
     "name": "stdout",
     "output_type": "stream",
     "text": [
      "0        2\n",
      "1        1\n",
      "2        2\n",
      "3        2\n",
      "4        1\n",
      "        ..\n",
      "20099    1\n",
      "20100    2\n",
      "20101    0\n",
      "20102    1\n",
      "20103    1\n",
      "Name: Analysis, Length: 20104, dtype: int32\n"
     ]
    }
   ],
   "source": [
    "data['Analysis'] = preprocessing.LabelEncoder().fit_transform(data['Analysis'])\n",
    "label = data['Analysis']\n",
    "print(label)"
   ]
  },
  {
   "cell_type": "code",
   "execution_count": 9,
   "metadata": {},
   "outputs": [
    {
     "name": "stdout",
     "output_type": "stream",
     "text": [
      "  (0, 4901)\t0.24890649791616995\n",
      "  (0, 8400)\t0.2248843852005883\n",
      "  (0, 9616)\t0.3005265054293155\n",
      "  (0, 10463)\t0.26443682295436655\n",
      "  (0, 10755)\t0.12437836632510421\n",
      "  (0, 10674)\t0.3197556424753424\n",
      "  (0, 7505)\t0.2278590916842625\n",
      "  (0, 7275)\t0.23068237973977024\n",
      "  (0, 5929)\t0.23467514211515997\n",
      "  (0, 6787)\t0.22452939908218347\n",
      "  (0, 11463)\t0.2566928707888658\n",
      "  (0, 3862)\t0.2623376404230149\n",
      "  (0, 13088)\t0.16746638314826084\n",
      "  (0, 513)\t0.2594037296105074\n",
      "  (0, 2752)\t0.2533717944917551\n",
      "  (0, 11704)\t0.2371030045770058\n",
      "  (0, 3021)\t0.1715437410829645\n",
      "  (0, 8023)\t0.04858473815579372\n",
      "  (0, 7227)\t0.12901752474861564\n",
      "  (1, 11908)\t0.5178896470172775\n",
      "  (1, 9848)\t0.7899569787592855\n",
      "  (1, 8023)\t0.11568574755708025\n",
      "  (1, 7227)\t0.30720529460603546\n",
      "  (2, 1170)\t0.2186445418362964\n",
      "  (2, 5348)\t0.18889864998589814\n",
      "  :\t:\n",
      "  (20100, 7616)\t0.44798571528983555\n",
      "  (20100, 12290)\t0.16821154871745747\n",
      "  (20100, 8023)\t0.06011974980385498\n",
      "  (20101, 6545)\t0.4695915522642063\n",
      "  (20101, 13604)\t0.38123226179833347\n",
      "  (20101, 4240)\t0.31660185505805805\n",
      "  (20101, 4520)\t0.32310776408008074\n",
      "  (20101, 12607)\t0.3491490180831949\n",
      "  (20101, 7384)\t0.16038903765070425\n",
      "  (20101, 5326)\t0.21336793918431854\n",
      "  (20101, 3672)\t0.2101298054253941\n",
      "  (20101, 7375)\t0.16465025866231836\n",
      "  (20101, 5307)\t0.26872021751010394\n",
      "  (20101, 8383)\t0.27356748114920704\n",
      "  (20101, 8023)\t0.13431623962039924\n",
      "  (20102, 3427)\t0.6885146315169532\n",
      "  (20102, 1870)\t0.5677527152448504\n",
      "  (20102, 13543)\t0.38018593358457486\n",
      "  (20102, 7375)\t0.22502988249366498\n",
      "  (20102, 8023)\t0.09178597065176274\n",
      "  (20103, 7535)\t0.6104102553068417\n",
      "  (20103, 5119)\t0.628851356715166\n",
      "  (20103, 9173)\t0.42251380150602963\n",
      "  (20103, 7375)\t0.21402473264650337\n",
      "  (20103, 8023)\t0.08729715187935697\n"
     ]
    }
   ],
   "source": [
    "vect = TfidfVectorizer(analyzer='word',lowercase=False)\n",
    "sent_vector = vect.fit_transform(data['tweet'])\n",
    "print(sent_vector)"
   ]
  },
  {
   "cell_type": "code",
   "execution_count": 10,
   "metadata": {},
   "outputs": [
    {
     "data": {
      "text/plain": [
       "array(['leo messi cristiano special competition among us easy situation keep high level long rivalry ronaldo remain peoples mind forever',\n",
       "       'poles stop leo messi',\n",
       "       'la liga goal assist king champions league top scorer name deserving mediocre team valde alone sirtladiballondor goat leo messi ballondor',\n",
       "       ...,\n",
       "       'lionelmessi dont worry messi father go jail give total million euros lionel messi',\n",
       "       'lionel messi without detonating bomb',\n",
       "       'lionel messi lottery offer galatasaraya'], dtype=object)"
      ]
     },
     "execution_count": 10,
     "metadata": {},
     "output_type": "execute_result"
    }
   ],
   "source": [
    "y=data.Analysis.values\n",
    "features=data.tweet.values\n",
    "y\n",
    "features"
   ]
  },
  {
   "cell_type": "code",
   "execution_count": 11,
   "metadata": {
    "scrolled": true
   },
   "outputs": [
    {
     "data": {
      "text/plain": [
       "<16083x14056 sparse matrix of type '<class 'numpy.float64'>'\n",
       "\twith 137288 stored elements in Compressed Sparse Row format>"
      ]
     },
     "execution_count": 11,
     "metadata": {},
     "output_type": "execute_result"
    }
   ],
   "source": [
    "X_train ,X_test,y_train,y_test = train_test_split(sent_vector,data['Analysis'],test_size=0.2,random_state=0)\n",
    "X_train"
   ]
  },
  {
   "cell_type": "code",
   "execution_count": 12,
   "metadata": {},
   "outputs": [
    {
     "name": "stdout",
     "output_type": "stream",
     "text": [
      "[[0. 1. 0.]\n",
      " [0. 1. 0.]\n",
      " [0. 1. 0.]\n",
      " ...\n",
      " [0. 1. 0.]\n",
      " [1. 0. 0.]\n",
      " [0. 0. 1.]]\n",
      "[[0. 0. 1.]\n",
      " [0. 1. 0.]\n",
      " [1. 0. 0.]\n",
      " ...\n",
      " [0. 1. 0.]\n",
      " [0. 0. 1.]\n",
      " [0. 1. 0.]]\n"
     ]
    }
   ],
   "source": [
    "from keras.utils import to_categorical\n",
    "\n",
    "train_encoded = to_categorical(y_train)\n",
    "test_encoded = to_categorical(y_test)\n",
    "print(train_encoded)\n",
    "print(test_encoded)"
   ]
  },
  {
   "cell_type": "code",
   "execution_count": 13,
   "metadata": {},
   "outputs": [],
   "source": [
    "from tensorflow.keras.layers import Dense #YSA da katman oluşturma\n",
    "import tensorflow\n",
    "\n",
    "model = tensorflow.keras.Sequential()\n",
    "\n",
    "model.add(Dense(8, activation='relu',input_dim=14056))\n",
    "\n",
    "model.add(Dense(32,activation='relu'))\n",
    "\n",
    "model.add(Dense(64,activation='relu'))\n",
    "\n",
    "model.add(Dense(3,activation='softmax'))\n",
    "\n",
    "model.compile(loss='binary_crossentropy',optimizer='adam',metrics=['accuracy'])# model derleme"
   ]
  },
  {
   "cell_type": "code",
   "execution_count": 14,
   "metadata": {},
   "outputs": [
    {
     "name": "stdout",
     "output_type": "stream",
     "text": [
      "Model: \"sequential\"\n",
      "_________________________________________________________________\n",
      "Layer (type)                 Output Shape              Param #   \n",
      "=================================================================\n",
      "dense (Dense)                (None, 8)                 112456    \n",
      "_________________________________________________________________\n",
      "dense_1 (Dense)              (None, 32)                288       \n",
      "_________________________________________________________________\n",
      "dense_2 (Dense)              (None, 64)                2112      \n",
      "_________________________________________________________________\n",
      "dense_3 (Dense)              (None, 3)                 195       \n",
      "=================================================================\n",
      "Total params: 115,051\n",
      "Trainable params: 115,051\n",
      "Non-trainable params: 0\n",
      "_________________________________________________________________\n"
     ]
    }
   ],
   "source": [
    "model.summary()"
   ]
  },
  {
   "cell_type": "code",
   "execution_count": 15,
   "metadata": {},
   "outputs": [],
   "source": [
    "model.build()"
   ]
  },
  {
   "cell_type": "code",
   "execution_count": 16,
   "metadata": {},
   "outputs": [
    {
     "name": "stdout",
     "output_type": "stream",
     "text": [
      "Epoch 1/20\n",
      "WARNING:tensorflow:AutoGraph could not transform <function Model.make_train_function.<locals>.train_function at 0x0000025F5B570168> and will run it as-is.\n",
      "Please report this to the TensorFlow team. When filing the bug, set the verbosity to 10 (on Linux, `export AUTOGRAPH_VERBOSITY=10`) and attach the full output.\n",
      "Cause: 'arguments' object has no attribute 'posonlyargs'\n",
      "To silence this warning, decorate the function with @tf.autograph.experimental.do_not_convert\n",
      "WARNING: AutoGraph could not transform <function Model.make_train_function.<locals>.train_function at 0x0000025F5B570168> and will run it as-is.\n",
      "Please report this to the TensorFlow team. When filing the bug, set the verbosity to 10 (on Linux, `export AUTOGRAPH_VERBOSITY=10`) and attach the full output.\n",
      "Cause: 'arguments' object has no attribute 'posonlyargs'\n",
      "To silence this warning, decorate the function with @tf.autograph.experimental.do_not_convert\n",
      "1593/1609 [============================>.] - ETA: 0s - loss: 0.4234 - accuracy: 0.7019WARNING:tensorflow:AutoGraph could not transform <function Model.make_test_function.<locals>.test_function at 0x0000026020450A68> and will run it as-is.\n",
      "Please report this to the TensorFlow team. When filing the bug, set the verbosity to 10 (on Linux, `export AUTOGRAPH_VERBOSITY=10`) and attach the full output.\n",
      "Cause: 'arguments' object has no attribute 'posonlyargs'\n",
      "To silence this warning, decorate the function with @tf.autograph.experimental.do_not_convert\n",
      "WARNING: AutoGraph could not transform <function Model.make_test_function.<locals>.test_function at 0x0000026020450A68> and will run it as-is.\n",
      "Please report this to the TensorFlow team. When filing the bug, set the verbosity to 10 (on Linux, `export AUTOGRAPH_VERBOSITY=10`) and attach the full output.\n",
      "Cause: 'arguments' object has no attribute 'posonlyargs'\n",
      "To silence this warning, decorate the function with @tf.autograph.experimental.do_not_convert\n",
      "1609/1609 [==============================] - 4s 2ms/step - loss: 0.4219 - accuracy: 0.7031 - val_loss: 0.1076 - val_accuracy: 0.9485\n",
      "Epoch 2/20\n",
      "1609/1609 [==============================] - 3s 2ms/step - loss: 0.0468 - accuracy: 0.9804 - val_loss: 0.0847 - val_accuracy: 0.9590\n",
      "Epoch 3/20\n",
      "1609/1609 [==============================] - 3s 2ms/step - loss: 0.0114 - accuracy: 0.9958 - val_loss: 0.0889 - val_accuracy: 0.9632\n",
      "Epoch 4/20\n",
      "1609/1609 [==============================] - 3s 2ms/step - loss: 0.0039 - accuracy: 0.9987 - val_loss: 0.1118 - val_accuracy: 0.9624\n",
      "Epoch 5/20\n",
      "1609/1609 [==============================] - 3s 2ms/step - loss: 0.0012 - accuracy: 0.9996 - val_loss: 0.1087 - val_accuracy: 0.9572\n",
      "Epoch 6/20\n",
      "1609/1609 [==============================] - 3s 2ms/step - loss: 0.0010 - accuracy: 0.9995 - val_loss: 0.1393 - val_accuracy: 0.9592\n",
      "Epoch 7/20\n",
      "1609/1609 [==============================] - 4s 2ms/step - loss: 0.0013 - accuracy: 0.9994 - val_loss: 0.1464 - val_accuracy: 0.9622\n",
      "Epoch 8/20\n",
      "1609/1609 [==============================] - 3s 2ms/step - loss: 2.0061e-04 - accuracy: 0.9999 - val_loss: 0.1535 - val_accuracy: 0.9624\n",
      "Epoch 9/20\n",
      "1609/1609 [==============================] - 3s 2ms/step - loss: 4.0771e-05 - accuracy: 1.0000 - val_loss: 0.1666 - val_accuracy: 0.9600\n",
      "Epoch 10/20\n",
      "1609/1609 [==============================] - 3s 2ms/step - loss: 3.4573e-05 - accuracy: 1.0000 - val_loss: 0.2049 - val_accuracy: 0.9624\n",
      "Epoch 11/20\n",
      "1609/1609 [==============================] - 3s 2ms/step - loss: 4.7147e-05 - accuracy: 1.0000 - val_loss: 0.1918 - val_accuracy: 0.9612\n",
      "Epoch 12/20\n",
      "1609/1609 [==============================] - 3s 2ms/step - loss: 5.0102e-04 - accuracy: 0.9998 - val_loss: 0.1850 - val_accuracy: 0.9615\n",
      "Epoch 13/20\n",
      "1609/1609 [==============================] - 3s 2ms/step - loss: 0.0026 - accuracy: 0.9992 - val_loss: 0.2882 - val_accuracy: 0.9520\n",
      "Epoch 14/20\n",
      "1609/1609 [==============================] - 4s 2ms/step - loss: 0.0018 - accuracy: 0.9990 - val_loss: 0.2204 - val_accuracy: 0.9612\n",
      "Epoch 15/20\n",
      "1609/1609 [==============================] - 3s 2ms/step - loss: 3.0516e-04 - accuracy: 0.9998 - val_loss: 0.2008 - val_accuracy: 0.9632\n",
      "Epoch 16/20\n",
      "1609/1609 [==============================] - 3s 2ms/step - loss: 4.7307e-05 - accuracy: 1.0000 - val_loss: 0.2340 - val_accuracy: 0.9622\n",
      "Epoch 17/20\n",
      "1609/1609 [==============================] - 3s 2ms/step - loss: 1.6526e-06 - accuracy: 1.0000 - val_loss: 0.2311 - val_accuracy: 0.9624\n",
      "Epoch 18/20\n",
      "1609/1609 [==============================] - 3s 2ms/step - loss: 8.0148e-07 - accuracy: 1.0000 - val_loss: 0.2336 - val_accuracy: 0.9627\n",
      "Epoch 19/20\n",
      "1609/1609 [==============================] - 3s 2ms/step - loss: 6.8502e-07 - accuracy: 1.0000 - val_loss: 0.2389 - val_accuracy: 0.9627\n",
      "Epoch 20/20\n",
      "1609/1609 [==============================] - 3s 2ms/step - loss: 3.3083e-07 - accuracy: 1.0000 - val_loss: 0.2472 - val_accuracy: 0.9629\n"
     ]
    }
   ],
   "source": [
    "a_x_train = X_train.toarray()\n",
    "a_x_test = X_test.toarray()\n",
    "\n",
    "history=model.fit(a_x_train,train_encoded,batch_size=10,epochs=20,verbose=1,validation_data=(a_x_test,test_encoded))"
   ]
  },
  {
   "cell_type": "code",
   "execution_count": 17,
   "metadata": {},
   "outputs": [],
   "source": [
    "import matplotlib.pyplot as plt\n",
    "plt.style.use('ggplot')\n",
    "\n",
    "def plot_history(history):\n",
    "    accuracy = history.history['accuracy']\n",
    "    val_accuracy = history.history['val_accuracy']\n",
    "    loss = history.history['loss']\n",
    "    val_loss = history.history['val_loss']\n",
    "    x = range(1, len(accuracy) + 1)\n",
    "\n",
    "    plt.figure(figsize=(12, 5))\n",
    "    plt.subplot(1, 2, 1)\n",
    "    plt.plot(x, accuracy, 'b', label='Training accuracy')\n",
    "    plt.plot(x, val_accuracy, 'r', label='Validation accuracy')\n",
    "    plt.title('Training and validation accuracy')\n",
    "    plt.legend()\n",
    "    plt.subplot(1, 2, 2)\n",
    "    plt.plot(x, loss, 'b', label='Training loss')\n",
    "    plt.plot(x, val_loss, 'r', label='Validation loss')\n",
    "    plt.title('Training and validation loss')\n",
    "    plt.legend()"
   ]
  },
  {
   "cell_type": "code",
   "execution_count": 18,
   "metadata": {},
   "outputs": [
    {
     "data": {
      "image/png": "[encoded data removed]",
      "text/plain": [
       "<Figure size 864x360 with 2 Axes>"
      ]
     },
     "metadata": {},
     "output_type": "display_data"
    }
   ],
   "source": [
    "plot_history(history)"
   ]
  },
  {
   "cell_type": "code",
   "execution_count": 19,
   "metadata": {},
   "outputs": [
    {
     "name": "stdout",
     "output_type": "stream",
     "text": [
      "SVC(C=1.0, cache_size=200, class_weight=None, coef0=0.0,\n",
      "    decision_function_shape='ovr', degree=3, gamma='auto_deprecated',\n",
      "    kernel='linear', max_iter=-1, probability=False, random_state=None,\n",
      "    shrinking=True, tol=0.001, verbose=False)\n"
     ]
    }
   ],
   "source": [
    "from sklearn.svm  import SVC\n",
    "\n",
    "svc = SVC(kernel='linear')#poly,linear,rbf,C = 0.5\n",
    "#eğitim başlıyor\n",
    "fit = svc.fit(X_train,y_train)\n",
    "print(fit)"
   ]
  },
  {
   "cell_type": "code",
   "execution_count": 20,
   "metadata": {},
   "outputs": [
    {
     "name": "stdout",
     "output_type": "stream",
     "text": [
      "[2 1 0 ... 1 2 1]\n"
     ]
    }
   ],
   "source": [
    "#test veri kümesini sınıflandırıcıya gönder\n",
    "res = svc.predict(X_test)\n",
    "print(res)"
   ]
  },
  {
   "cell_type": "code",
   "execution_count": 21,
   "metadata": {},
   "outputs": [
    {
     "name": "stdout",
     "output_type": "stream",
     "text": [
      "0.9621984580950013\n"
     ]
    }
   ],
   "source": [
    "from sklearn.metrics import accuracy_score\n",
    "acc = accuracy_score(y_test,res)\n",
    "print(acc)"
   ]
  },
  {
   "cell_type": "code",
   "execution_count": 22,
   "metadata": {},
   "outputs": [
    {
     "name": "stdout",
     "output_type": "stream",
     "text": [
      "126/126 [==============================] - 0s 2ms/step - loss: 0.2472 - accuracy: 0.9629\n",
      "Test loss: 0.2471540868282318 / Test accuracy: 0.9629445672035217\n"
     ]
    }
   ],
   "source": [
    "score = model.evaluate(a_x_test, test_encoded, verbose=1)\n",
    "print(f'Test loss: {score[0]} / Test accuracy: {score[1]}')"
   ]
  },
  {
   "cell_type": "code",
   "execution_count": 23,
   "metadata": {},
   "outputs": [
    {
     "name": "stdout",
     "output_type": "stream",
     "text": [
      "WARNING:tensorflow:AutoGraph could not transform <function Model.make_predict_function.<locals>.predict_function at 0x0000026036F03EE8> and will run it as-is.\n",
      "Please report this to the TensorFlow team. When filing the bug, set the verbosity to 10 (on Linux, `export AUTOGRAPH_VERBOSITY=10`) and attach the full output.\n",
      "Cause: 'arguments' object has no attribute 'posonlyargs'\n",
      "To silence this warning, decorate the function with @tf.autograph.experimental.do_not_convert\n",
      "WARNING: AutoGraph could not transform <function Model.make_predict_function.<locals>.predict_function at 0x0000026036F03EE8> and will run it as-is.\n",
      "Please report this to the TensorFlow team. When filing the bug, set the verbosity to 10 (on Linux, `export AUTOGRAPH_VERBOSITY=10`) and attach the full output.\n",
      "Cause: 'arguments' object has no attribute 'posonlyargs'\n",
      "To silence this warning, decorate the function with @tf.autograph.experimental.do_not_convert\n",
      "403/403 [==============================] - 0s 970us/step\n",
      "Predict: [1.7724075e-21 2.5790300e-17 1.0000000e+00]\n"
     ]
    }
   ],
   "source": [
    "pred= model.predict(a_x_test,batch_size=10,verbose=1)\n",
    "print(f'Predict: {pred[0]}')"
   ]
  },
  {
   "cell_type": "code",
   "execution_count": 36,
   "metadata": {},
   "outputs": [
    {
     "name": "stdout",
     "output_type": "stream",
     "text": [
      "F-Measure: 0.944\n"
     ]
    }
   ],
   "source": [
    "from sklearn.metrics import f1_score\n",
    "score_f1 = f1_score(y_test,res, average='macro')\n",
    "print('F-Measure: %.3f' % score_f1)"
   ]
  },
  {
   "cell_type": "code",
   "execution_count": 35,
   "metadata": {},
   "outputs": [
    {
     "name": "stdout",
     "output_type": "stream",
     "text": [
      "Recall: 0.926\n"
     ]
    }
   ],
   "source": [
    "from sklearn.metrics import recall_score\n",
    "recall = recall_score(y_test, res, average='macro')\n",
    "print('Recall: %.3f' % recall)"
   ]
  },
  {
   "cell_type": "code",
   "execution_count": 37,
   "metadata": {},
   "outputs": [
    {
     "name": "stdout",
     "output_type": "stream",
     "text": [
      "0.9335620353407431\n"
     ]
    }
   ],
   "source": [
    "from sklearn.metrics import matthews_corrcoef\n",
    "print(matthews_corrcoef(y_test, res)) "
   ]
  },
  {
   "cell_type": "code",
   "execution_count": 39,
   "metadata": {},
   "outputs": [
    {
     "name": "stdout",
     "output_type": "stream",
     "text": [
      "0.9668075991804805\n"
     ]
    }
   ],
   "source": [
    "from sklearn.metrics import precision_score\n",
    "print(precision_score(y_test, res,average='macro'))"
   ]
  },
  {
   "cell_type": "code",
   "execution_count": null,
   "metadata": {},
   "outputs": [],
   "source": []
  }
 ],
 "metadata": {
  "kernelspec": {
   "display_name": "Python 3",
   "language": "python",
   "name": "python3"
  },
  "language_info": {
   "codemirror_mode": {
    "name": "ipython",
    "version": 3
   },
   "file_extension": ".py",
   "mimetype": "text/x-python",
   "name": "python",
   "nbconvert_exporter": "python",
   "pygments_lexer": "ipython3",
   "version": "3.7.4"
  }
 },
 "nbformat": 4,
 "nbformat_minor": 2
}
